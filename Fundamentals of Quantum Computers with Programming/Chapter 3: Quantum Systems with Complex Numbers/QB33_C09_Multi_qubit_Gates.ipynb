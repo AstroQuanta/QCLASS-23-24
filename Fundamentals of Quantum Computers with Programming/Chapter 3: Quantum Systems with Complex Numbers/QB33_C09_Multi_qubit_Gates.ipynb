{
  "cells": [
    {
      "cell_type": "markdown",
      "metadata": {
        "id": "view-in-github",
        "colab_type": "text"
      },
      "source": [
        "<a href=\"https://colab.research.google.com/github/AstroQuanta/QCLASS-23-24/blob/QBook101/Fundamentals%20of%20Quantum%20Computers%20with%20Programming/Chapter%203%3A%20Quantum%20Systems%20with%20Complex%20Numbers/QB33_C09_Multi_qubit_Gates.ipynb\" target=\"_parent\"><img src=\"https://colab.research.google.com/assets/colab-badge.svg\" alt=\"Open In Colab\"/></a>"
      ]
    },
    {
      "cell_type": "markdown",
      "metadata": {
        "id": "nW-f6RgfPSs5"
      },
      "source": [
        "<a href=\"https://qworld.net\" target=\"_blank\" align=\"left\"><img src=\"https://gitlab.com/qworld/qeducation/qbook101/raw/main/qworld/images/header.jpg\" align=\"left\"></a>\n",
        "$ \\newcommand{\\bra}[1]{\\langle #1|} $\n",
        "$ \\newcommand{\\ket}[1]{|#1\\rangle} $\n",
        "$ \\newcommand{\\braket}[2]{\\langle #1|#2\\rangle} $\n",
        "$ \\newcommand{\\dot}[2]{ #1 \\cdot #2} $\n",
        "$ \\newcommand{\\biginner}[2]{\\left\\langle #1,#2\\right\\rangle} $\n",
        "$ \\newcommand{\\mymatrix}[2]{\\left( \\begin{array}{#1} #2\\end{array} \\right)} $\n",
        "$ \\newcommand{\\myvector}[1]{\\mymatrix{c}{#1}} $\n",
        "$ \\newcommand{\\myrvector}[1]{\\mymatrix{r}{#1}} $\n",
        "$ \\newcommand{\\mypar}[1]{\\left( #1 \\right)} $\n",
        "$ \\newcommand{\\mybigpar}[1]{ \\Big( #1 \\Big)} $\n",
        "$ \\newcommand{\\sqrttwo}{\\frac{1}{\\sqrt{2}}} $\n",
        "$ \\newcommand{\\dsqrttwo}{\\dfrac{1}{\\sqrt{2}}} $\n",
        "$ \\newcommand{\\onehalf}{\\frac{1}{2}} $\n",
        "$ \\newcommand{\\donehalf}{\\dfrac{1}{2}} $\n",
        "$ \\newcommand{\\hadamard}{ \\mymatrix{rr}{ \\sqrttwo & \\sqrttwo \\\\ \\sqrttwo & -\\sqrttwo }} $\n",
        "$ \\newcommand{\\vzero}{\\myvector{1\\\\0}} $\n",
        "$ \\newcommand{\\vone}{\\myvector{0\\\\1}} $\n",
        "$ \\newcommand{\\stateplus}{\\myvector{ \\sqrttwo \\\\  \\sqrttwo } } $\n",
        "$ \\newcommand{\\stateminus}{ \\myrvector{ \\sqrttwo \\\\ -\\sqrttwo } } $\n",
        "$ \\newcommand{\\myarray}[2]{ \\begin{array}{#1}#2\\end{array}} $\n",
        "$ \\newcommand{\\X}{ \\mymatrix{cc}{0 & 1 \\\\ 1 & 0}  } $\n",
        "$ \\newcommand{\\Z}{ \\mymatrix{rr}{1 & 0 \\\\ 0 & -1}  } $\n",
        "$ \\newcommand{\\Htwo}{ \\mymatrix{rrrr}{ \\frac{1}{2} & \\frac{1}{2} & \\frac{1}{2} & \\frac{1}{2} \\\\ \\frac{1}{2} & -\\frac{1}{2} & \\frac{1}{2} & -\\frac{1}{2} \\\\ \\frac{1}{2} & \\frac{1}{2} & -\\frac{1}{2} & -\\frac{1}{2} \\\\ \\frac{1}{2} & -\\frac{1}{2} & -\\frac{1}{2} & \\frac{1}{2} } } $\n",
        "$ \\newcommand{\\CNOT}{ \\mymatrix{cccc}{1 & 0 & 0 & 0 \\\\ 0 & 1 & 0 & 0 \\\\ 0 & 0 & 0 & 1 \\\\ 0 & 0 & 1 & 0} } $\n",
        "$ \\newcommand{\\norm}[1]{ \\left\\lVert #1 \\right\\rVert } $\n",
        "$ \\newcommand{\\pstate}[1]{ \\lceil \\mspace{-1mu} #1 \\mspace{-1.5mu} \\rfloor } $\n",
        "$ \\newcommand{\\Y}{ \\mymatrix{rr}{0 & -i \\\\ i & 0} } $\n",
        "$ \\newcommand{\\S}{ \\mymatrix{rr}{1 & 0 \\\\ 0 & i} } $\n",
        "$ \\newcommand{\\T}{ \\mymatrix{rr}{1 & 0 \\\\ 0 & e^{i \\frac{\\pi}{4}}} } $\n",
        "$ \\newcommand{\\Sdg}{ \\mymatrix{rr}{1 & 0 \\\\ 0 & -i} } $\n",
        "$ \\newcommand{\\Tdg}{ \\mymatrix{rr}{1 & 0 \\\\ 0 & e^{-i \\frac{\\pi}{4}}} } $\n",
        "$ \\newcommand{\\qgate}[1]{ \\mathop{\\\\textit{#1} } }$"
      ]
    },
    {
      "cell_type": "markdown",
      "metadata": {
        "id": "z7G9RbJLPSs8"
      },
      "source": [
        "_prepared by Maksim Dimitrijev and Abuzer Yakaryilmaz_\n",
        "<br><br>\n",
        "_Cirq adaptation by Claudia Zendejas-Morales_"
      ]
    },
    {
      "cell_type": "markdown",
      "metadata": {
        "id": "A-JxHJNQPSs8"
      },
      "source": [
        "<font size=\"28px\" style=\"font-size:28px;\" align=\"left\"><b>Multi-qubit gates</b></font>\n",
        "<br>\n",
        "<br><br>"
      ]
    },
    {
      "cell_type": "markdown",
      "metadata": {
        "jp-MarkdownHeadingCollapsed": true,
        "id": "y_TSf3sRPSs9"
      },
      "source": [
        "##### <font color=\"#08b806\">Please execute the following cell, it is necessary to distinguish between your local environment and Google Colab's"
      ]
    },
    {
      "cell_type": "code",
      "execution_count": 1,
      "metadata": {
        "id": "_aZ48a8CPSs9",
        "outputId": "8bc83356-8894-4ab0-b486-e1aa64c3b656",
        "colab": {
          "base_uri": "https://localhost:8080/"
        }
      },
      "outputs": [
        {
          "output_type": "stream",
          "name": "stdout",
          "text": [
            "Collecting cirq\n",
            "  Downloading cirq-1.2.0-py3-none-any.whl (8.1 kB)\n",
            "Collecting cirq-aqt==1.2.0 (from cirq)\n",
            "  Downloading cirq_aqt-1.2.0-py3-none-any.whl (27 kB)\n",
            "Collecting cirq-core==1.2.0 (from cirq)\n",
            "  Downloading cirq_core-1.2.0-py3-none-any.whl (1.8 MB)\n",
            "\u001b[2K     \u001b[90m━━━━━━━━━━━━━━━━━━━━━━━━━━━━━━━━━━━━━━━━\u001b[0m \u001b[32m1.8/1.8 MB\u001b[0m \u001b[31m12.7 MB/s\u001b[0m eta \u001b[36m0:00:00\u001b[0m\n",
            "\u001b[?25hCollecting cirq-ft==1.2.0 (from cirq)\n",
            "  Downloading cirq_ft-1.2.0-py3-none-any.whl (142 kB)\n",
            "\u001b[2K     \u001b[90m━━━━━━━━━━━━━━━━━━━━━━━━━━━━━━━━━━━━━━━━\u001b[0m \u001b[32m142.7/142.7 kB\u001b[0m \u001b[31m13.0 MB/s\u001b[0m eta \u001b[36m0:00:00\u001b[0m\n",
            "\u001b[?25hCollecting cirq-google==1.2.0 (from cirq)\n",
            "  Downloading cirq_google-1.2.0-py3-none-any.whl (579 kB)\n",
            "\u001b[2K     \u001b[90m━━━━━━━━━━━━━━━━━━━━━━━━━━━━━━━━━━━━━━━━\u001b[0m \u001b[32m579.1/579.1 kB\u001b[0m \u001b[31m26.5 MB/s\u001b[0m eta \u001b[36m0:00:00\u001b[0m\n",
            "\u001b[?25hCollecting cirq-ionq==1.2.0 (from cirq)\n",
            "  Downloading cirq_ionq-1.2.0-py3-none-any.whl (58 kB)\n",
            "\u001b[2K     \u001b[90m━━━━━━━━━━━━━━━━━━━━━━━━━━━━━━━━━━━━━━━━\u001b[0m \u001b[32m58.2/58.2 kB\u001b[0m \u001b[31m8.4 MB/s\u001b[0m eta \u001b[36m0:00:00\u001b[0m\n",
            "\u001b[?25hCollecting cirq-pasqal==1.2.0 (from cirq)\n",
            "  Downloading cirq_pasqal-1.2.0-py3-none-any.whl (31 kB)\n",
            "Collecting cirq-rigetti==1.2.0 (from cirq)\n",
            "  Downloading cirq_rigetti-1.2.0-py3-none-any.whl (66 kB)\n",
            "\u001b[2K     \u001b[90m━━━━━━━━━━━━━━━━━━━━━━━━━━━━━━━━━━━━━━━━\u001b[0m \u001b[32m66.5/66.5 kB\u001b[0m \u001b[31m7.8 MB/s\u001b[0m eta \u001b[36m0:00:00\u001b[0m\n",
            "\u001b[?25hCollecting cirq-web==1.2.0 (from cirq)\n",
            "  Downloading cirq_web-1.2.0-py3-none-any.whl (596 kB)\n",
            "\u001b[2K     \u001b[90m━━━━━━━━━━━━━━━━━━━━━━━━━━━━━━━━━━━━━━━━\u001b[0m \u001b[32m596.4/596.4 kB\u001b[0m \u001b[31m30.6 MB/s\u001b[0m eta \u001b[36m0:00:00\u001b[0m\n",
            "\u001b[?25hRequirement already satisfied: requests~=2.18 in /usr/local/lib/python3.10/dist-packages (from cirq-aqt==1.2.0->cirq) (2.31.0)\n",
            "Collecting duet~=0.2.8 (from cirq-core==1.2.0->cirq)\n",
            "  Downloading duet-0.2.9-py3-none-any.whl (29 kB)\n",
            "Requirement already satisfied: matplotlib~=3.0 in /usr/local/lib/python3.10/dist-packages (from cirq-core==1.2.0->cirq) (3.7.1)\n",
            "Requirement already satisfied: networkx>=2.4 in /usr/local/lib/python3.10/dist-packages (from cirq-core==1.2.0->cirq) (3.2.1)\n",
            "Requirement already satisfied: numpy~=1.16 in /usr/local/lib/python3.10/dist-packages (from cirq-core==1.2.0->cirq) (1.23.5)\n",
            "Requirement already satisfied: pandas in /usr/local/lib/python3.10/dist-packages (from cirq-core==1.2.0->cirq) (1.5.3)\n",
            "Requirement already satisfied: sortedcontainers~=2.0 in /usr/local/lib/python3.10/dist-packages (from cirq-core==1.2.0->cirq) (2.4.0)\n",
            "Requirement already satisfied: scipy in /usr/local/lib/python3.10/dist-packages (from cirq-core==1.2.0->cirq) (1.11.3)\n",
            "Requirement already satisfied: sympy in /usr/local/lib/python3.10/dist-packages (from cirq-core==1.2.0->cirq) (1.12)\n",
            "Requirement already satisfied: typing-extensions>=4.2 in /usr/local/lib/python3.10/dist-packages (from cirq-core==1.2.0->cirq) (4.5.0)\n",
            "Requirement already satisfied: tqdm in /usr/local/lib/python3.10/dist-packages (from cirq-core==1.2.0->cirq) (4.66.1)\n",
            "Requirement already satisfied: attrs in /usr/local/lib/python3.10/dist-packages (from cirq-ft==1.2.0->cirq) (23.1.0)\n",
            "Requirement already satisfied: cachetools>=5.3 in /usr/local/lib/python3.10/dist-packages (from cirq-ft==1.2.0->cirq) (5.3.2)\n",
            "Requirement already satisfied: ipywidgets in /usr/local/lib/python3.10/dist-packages (from cirq-ft==1.2.0->cirq) (7.7.1)\n",
            "Requirement already satisfied: nbconvert in /usr/local/lib/python3.10/dist-packages (from cirq-ft==1.2.0->cirq) (6.5.4)\n",
            "Requirement already satisfied: nbformat in /usr/local/lib/python3.10/dist-packages (from cirq-ft==1.2.0->cirq) (5.9.2)\n",
            "Requirement already satisfied: google-api-core[grpc]>=1.14.0 in /usr/local/lib/python3.10/dist-packages (from cirq-google==1.2.0->cirq) (2.11.1)\n",
            "Requirement already satisfied: proto-plus>=1.20.0 in /usr/local/lib/python3.10/dist-packages (from cirq-google==1.2.0->cirq) (1.22.3)\n",
            "Requirement already satisfied: protobuf>=3.15.0 in /usr/local/lib/python3.10/dist-packages (from cirq-google==1.2.0->cirq) (3.20.3)\n",
            "Collecting pyquil~=3.2.0 (from cirq-rigetti==1.2.0->cirq)\n",
            "  Downloading pyquil-3.2.1-py3-none-any.whl (221 kB)\n",
            "\u001b[2K     \u001b[90m━━━━━━━━━━━━━━━━━━━━━━━━━━━━━━━━━━━━━━━━\u001b[0m \u001b[32m221.0/221.0 kB\u001b[0m \u001b[31m26.1 MB/s\u001b[0m eta \u001b[36m0:00:00\u001b[0m\n",
            "\u001b[?25hRequirement already satisfied: googleapis-common-protos<2.0.dev0,>=1.56.2 in /usr/local/lib/python3.10/dist-packages (from google-api-core[grpc]>=1.14.0->cirq-google==1.2.0->cirq) (1.61.0)\n",
            "Requirement already satisfied: google-auth<3.0.dev0,>=2.14.1 in /usr/local/lib/python3.10/dist-packages (from google-api-core[grpc]>=1.14.0->cirq-google==1.2.0->cirq) (2.17.3)\n",
            "Requirement already satisfied: grpcio<2.0dev,>=1.33.2 in /usr/local/lib/python3.10/dist-packages (from google-api-core[grpc]>=1.14.0->cirq-google==1.2.0->cirq) (1.59.2)\n",
            "Requirement already satisfied: grpcio-status<2.0.dev0,>=1.33.2 in /usr/local/lib/python3.10/dist-packages (from google-api-core[grpc]>=1.14.0->cirq-google==1.2.0->cirq) (1.48.2)\n",
            "Requirement already satisfied: contourpy>=1.0.1 in /usr/local/lib/python3.10/dist-packages (from matplotlib~=3.0->cirq-core==1.2.0->cirq) (1.2.0)\n",
            "Requirement already satisfied: cycler>=0.10 in /usr/local/lib/python3.10/dist-packages (from matplotlib~=3.0->cirq-core==1.2.0->cirq) (0.12.1)\n",
            "Requirement already satisfied: fonttools>=4.22.0 in /usr/local/lib/python3.10/dist-packages (from matplotlib~=3.0->cirq-core==1.2.0->cirq) (4.44.0)\n",
            "Requirement already satisfied: kiwisolver>=1.0.1 in /usr/local/lib/python3.10/dist-packages (from matplotlib~=3.0->cirq-core==1.2.0->cirq) (1.4.5)\n",
            "Requirement already satisfied: packaging>=20.0 in /usr/local/lib/python3.10/dist-packages (from matplotlib~=3.0->cirq-core==1.2.0->cirq) (23.2)\n",
            "Requirement already satisfied: pillow>=6.2.0 in /usr/local/lib/python3.10/dist-packages (from matplotlib~=3.0->cirq-core==1.2.0->cirq) (9.4.0)\n",
            "Requirement already satisfied: pyparsing>=2.3.1 in /usr/local/lib/python3.10/dist-packages (from matplotlib~=3.0->cirq-core==1.2.0->cirq) (3.1.1)\n",
            "Requirement already satisfied: python-dateutil>=2.7 in /usr/local/lib/python3.10/dist-packages (from matplotlib~=3.0->cirq-core==1.2.0->cirq) (2.8.2)\n",
            "Collecting lark<0.12.0,>=0.11.1 (from pyquil~=3.2.0->cirq-rigetti==1.2.0->cirq)\n",
            "  Downloading lark-0.11.3.tar.gz (229 kB)\n",
            "\u001b[2K     \u001b[90m━━━━━━━━━━━━━━━━━━━━━━━━━━━━━━━━━━━━━━━━\u001b[0m \u001b[32m229.9/229.9 kB\u001b[0m \u001b[31m25.6 MB/s\u001b[0m eta \u001b[36m0:00:00\u001b[0m\n",
            "\u001b[?25h  Preparing metadata (setup.py) ... \u001b[?25l\u001b[?25hdone\n",
            "Collecting networkx>=2.4 (from cirq-core==1.2.0->cirq)\n",
            "  Downloading networkx-2.8.8-py3-none-any.whl (2.0 MB)\n",
            "\u001b[2K     \u001b[90m━━━━━━━━━━━━━━━━━━━━━━━━━━━━━━━━━━━━━━━━\u001b[0m \u001b[32m2.0/2.0 MB\u001b[0m \u001b[31m42.1 MB/s\u001b[0m eta \u001b[36m0:00:00\u001b[0m\n",
            "\u001b[?25hCollecting qcs-api-client<0.22.0,>=0.20.13 (from pyquil~=3.2.0->cirq-rigetti==1.2.0->cirq)\n",
            "  Downloading qcs_api_client-0.21.6-py3-none-any.whl (151 kB)\n",
            "\u001b[2K     \u001b[90m━━━━━━━━━━━━━━━━━━━━━━━━━━━━━━━━━━━━━━━━\u001b[0m \u001b[32m151.7/151.7 kB\u001b[0m \u001b[31m20.9 MB/s\u001b[0m eta \u001b[36m0:00:00\u001b[0m\n",
            "\u001b[?25hCollecting retry<0.10.0,>=0.9.2 (from pyquil~=3.2.0->cirq-rigetti==1.2.0->cirq)\n",
            "  Downloading retry-0.9.2-py2.py3-none-any.whl (8.0 kB)\n",
            "Collecting rpcq<4.0.0,>=3.10.0 (from pyquil~=3.2.0->cirq-rigetti==1.2.0->cirq)\n",
            "  Downloading rpcq-3.11.0.tar.gz (45 kB)\n",
            "\u001b[2K     \u001b[90m━━━━━━━━━━━━━━━━━━━━━━━━━━━━━━━━━━━━━━━━\u001b[0m \u001b[32m45.6/45.6 kB\u001b[0m \u001b[31m6.4 MB/s\u001b[0m eta \u001b[36m0:00:00\u001b[0m\n",
            "\u001b[?25h  Preparing metadata (setup.py) ... \u001b[?25l\u001b[?25hdone\n",
            "Requirement already satisfied: charset-normalizer<4,>=2 in /usr/local/lib/python3.10/dist-packages (from requests~=2.18->cirq-aqt==1.2.0->cirq) (3.3.2)\n",
            "Requirement already satisfied: idna<4,>=2.5 in /usr/local/lib/python3.10/dist-packages (from requests~=2.18->cirq-aqt==1.2.0->cirq) (3.4)\n",
            "Requirement already satisfied: urllib3<3,>=1.21.1 in /usr/local/lib/python3.10/dist-packages (from requests~=2.18->cirq-aqt==1.2.0->cirq) (2.0.7)\n",
            "Requirement already satisfied: certifi>=2017.4.17 in /usr/local/lib/python3.10/dist-packages (from requests~=2.18->cirq-aqt==1.2.0->cirq) (2023.7.22)\n",
            "Requirement already satisfied: ipykernel>=4.5.1 in /usr/local/lib/python3.10/dist-packages (from ipywidgets->cirq-ft==1.2.0->cirq) (5.5.6)\n",
            "Requirement already satisfied: ipython-genutils~=0.2.0 in /usr/local/lib/python3.10/dist-packages (from ipywidgets->cirq-ft==1.2.0->cirq) (0.2.0)\n",
            "Requirement already satisfied: traitlets>=4.3.1 in /usr/local/lib/python3.10/dist-packages (from ipywidgets->cirq-ft==1.2.0->cirq) (5.7.1)\n",
            "Requirement already satisfied: widgetsnbextension~=3.6.0 in /usr/local/lib/python3.10/dist-packages (from ipywidgets->cirq-ft==1.2.0->cirq) (3.6.6)\n",
            "Requirement already satisfied: ipython>=4.0.0 in /usr/local/lib/python3.10/dist-packages (from ipywidgets->cirq-ft==1.2.0->cirq) (7.34.0)\n",
            "Requirement already satisfied: jupyterlab-widgets>=1.0.0 in /usr/local/lib/python3.10/dist-packages (from ipywidgets->cirq-ft==1.2.0->cirq) (3.0.9)\n",
            "Requirement already satisfied: lxml in /usr/local/lib/python3.10/dist-packages (from nbconvert->cirq-ft==1.2.0->cirq) (4.9.3)\n",
            "Requirement already satisfied: beautifulsoup4 in /usr/local/lib/python3.10/dist-packages (from nbconvert->cirq-ft==1.2.0->cirq) (4.11.2)\n",
            "Requirement already satisfied: bleach in /usr/local/lib/python3.10/dist-packages (from nbconvert->cirq-ft==1.2.0->cirq) (6.1.0)\n",
            "Requirement already satisfied: defusedxml in /usr/local/lib/python3.10/dist-packages (from nbconvert->cirq-ft==1.2.0->cirq) (0.7.1)\n",
            "Requirement already satisfied: entrypoints>=0.2.2 in /usr/local/lib/python3.10/dist-packages (from nbconvert->cirq-ft==1.2.0->cirq) (0.4)\n",
            "Requirement already satisfied: jinja2>=3.0 in /usr/local/lib/python3.10/dist-packages (from nbconvert->cirq-ft==1.2.0->cirq) (3.1.2)\n",
            "Requirement already satisfied: jupyter-core>=4.7 in /usr/local/lib/python3.10/dist-packages (from nbconvert->cirq-ft==1.2.0->cirq) (5.5.0)\n",
            "Requirement already satisfied: jupyterlab-pygments in /usr/local/lib/python3.10/dist-packages (from nbconvert->cirq-ft==1.2.0->cirq) (0.2.2)\n",
            "Requirement already satisfied: MarkupSafe>=2.0 in /usr/local/lib/python3.10/dist-packages (from nbconvert->cirq-ft==1.2.0->cirq) (2.1.3)\n",
            "Requirement already satisfied: mistune<2,>=0.8.1 in /usr/local/lib/python3.10/dist-packages (from nbconvert->cirq-ft==1.2.0->cirq) (0.8.4)\n",
            "Requirement already satisfied: nbclient>=0.5.0 in /usr/local/lib/python3.10/dist-packages (from nbconvert->cirq-ft==1.2.0->cirq) (0.9.0)\n",
            "Requirement already satisfied: pandocfilters>=1.4.1 in /usr/local/lib/python3.10/dist-packages (from nbconvert->cirq-ft==1.2.0->cirq) (1.5.0)\n",
            "Requirement already satisfied: pygments>=2.4.1 in /usr/local/lib/python3.10/dist-packages (from nbconvert->cirq-ft==1.2.0->cirq) (2.16.1)\n",
            "Requirement already satisfied: tinycss2 in /usr/local/lib/python3.10/dist-packages (from nbconvert->cirq-ft==1.2.0->cirq) (1.2.1)\n",
            "Requirement already satisfied: fastjsonschema in /usr/local/lib/python3.10/dist-packages (from nbformat->cirq-ft==1.2.0->cirq) (2.18.1)\n",
            "Requirement already satisfied: jsonschema>=2.6 in /usr/local/lib/python3.10/dist-packages (from nbformat->cirq-ft==1.2.0->cirq) (4.19.2)\n",
            "Requirement already satisfied: pytz>=2020.1 in /usr/local/lib/python3.10/dist-packages (from pandas->cirq-core==1.2.0->cirq) (2023.3.post1)\n",
            "Requirement already satisfied: mpmath>=0.19 in /usr/local/lib/python3.10/dist-packages (from sympy->cirq-core==1.2.0->cirq) (1.3.0)\n",
            "Requirement already satisfied: pyasn1-modules>=0.2.1 in /usr/local/lib/python3.10/dist-packages (from google-auth<3.0.dev0,>=2.14.1->google-api-core[grpc]>=1.14.0->cirq-google==1.2.0->cirq) (0.3.0)\n",
            "Requirement already satisfied: six>=1.9.0 in /usr/local/lib/python3.10/dist-packages (from google-auth<3.0.dev0,>=2.14.1->google-api-core[grpc]>=1.14.0->cirq-google==1.2.0->cirq) (1.16.0)\n",
            "Requirement already satisfied: rsa<5,>=3.1.4 in /usr/local/lib/python3.10/dist-packages (from google-auth<3.0.dev0,>=2.14.1->google-api-core[grpc]>=1.14.0->cirq-google==1.2.0->cirq) (4.9)\n",
            "Requirement already satisfied: jupyter-client in /usr/local/lib/python3.10/dist-packages (from ipykernel>=4.5.1->ipywidgets->cirq-ft==1.2.0->cirq) (6.1.12)\n",
            "Requirement already satisfied: tornado>=4.2 in /usr/local/lib/python3.10/dist-packages (from ipykernel>=4.5.1->ipywidgets->cirq-ft==1.2.0->cirq) (6.3.2)\n",
            "Requirement already satisfied: setuptools>=18.5 in /usr/local/lib/python3.10/dist-packages (from ipython>=4.0.0->ipywidgets->cirq-ft==1.2.0->cirq) (67.7.2)\n",
            "Collecting jedi>=0.16 (from ipython>=4.0.0->ipywidgets->cirq-ft==1.2.0->cirq)\n",
            "  Downloading jedi-0.19.1-py2.py3-none-any.whl (1.6 MB)\n",
            "\u001b[2K     \u001b[90m━━━━━━━━━━━━━━━━━━━━━━━━━━━━━━━━━━━━━━━━\u001b[0m \u001b[32m1.6/1.6 MB\u001b[0m \u001b[31m51.7 MB/s\u001b[0m eta \u001b[36m0:00:00\u001b[0m\n",
            "\u001b[?25hRequirement already satisfied: decorator in /usr/local/lib/python3.10/dist-packages (from ipython>=4.0.0->ipywidgets->cirq-ft==1.2.0->cirq) (4.4.2)\n",
            "Requirement already satisfied: pickleshare in /usr/local/lib/python3.10/dist-packages (from ipython>=4.0.0->ipywidgets->cirq-ft==1.2.0->cirq) (0.7.5)\n",
            "Requirement already satisfied: prompt-toolkit!=3.0.0,!=3.0.1,<3.1.0,>=2.0.0 in /usr/local/lib/python3.10/dist-packages (from ipython>=4.0.0->ipywidgets->cirq-ft==1.2.0->cirq) (3.0.39)\n",
            "Requirement already satisfied: backcall in /usr/local/lib/python3.10/dist-packages (from ipython>=4.0.0->ipywidgets->cirq-ft==1.2.0->cirq) (0.2.0)\n",
            "Requirement already satisfied: matplotlib-inline in /usr/local/lib/python3.10/dist-packages (from ipython>=4.0.0->ipywidgets->cirq-ft==1.2.0->cirq) (0.1.6)\n",
            "Requirement already satisfied: pexpect>4.3 in /usr/local/lib/python3.10/dist-packages (from ipython>=4.0.0->ipywidgets->cirq-ft==1.2.0->cirq) (4.8.0)\n",
            "Requirement already satisfied: jsonschema-specifications>=2023.03.6 in /usr/local/lib/python3.10/dist-packages (from jsonschema>=2.6->nbformat->cirq-ft==1.2.0->cirq) (2023.7.1)\n",
            "Requirement already satisfied: referencing>=0.28.4 in /usr/local/lib/python3.10/dist-packages (from jsonschema>=2.6->nbformat->cirq-ft==1.2.0->cirq) (0.30.2)\n",
            "Requirement already satisfied: rpds-py>=0.7.1 in /usr/local/lib/python3.10/dist-packages (from jsonschema>=2.6->nbformat->cirq-ft==1.2.0->cirq) (0.12.0)\n",
            "Requirement already satisfied: platformdirs>=2.5 in /usr/local/lib/python3.10/dist-packages (from jupyter-core>=4.7->nbconvert->cirq-ft==1.2.0->cirq) (3.11.0)\n",
            "Collecting PyJWT<3.0.0,>=2.4.0 (from qcs-api-client<0.22.0,>=0.20.13->pyquil~=3.2.0->cirq-rigetti==1.2.0->cirq)\n",
            "  Downloading PyJWT-2.8.0-py3-none-any.whl (22 kB)\n",
            "INFO: pip is looking at multiple versions of qcs-api-client to determine which version is compatible with other requirements. This could take a while.\n",
            "Collecting qcs-api-client<0.22.0,>=0.20.13 (from pyquil~=3.2.0->cirq-rigetti==1.2.0->cirq)\n",
            "  Downloading qcs_api_client-0.21.5-py3-none-any.whl (151 kB)\n",
            "\u001b[2K     \u001b[90m━━━━━━━━━━━━━━━━━━━━━━━━━━━━━━━━━━━━━━━━\u001b[0m \u001b[32m151.7/151.7 kB\u001b[0m \u001b[31m16.2 MB/s\u001b[0m eta \u001b[36m0:00:00\u001b[0m\n",
            "\u001b[?25h  Downloading qcs_api_client-0.21.4-py3-none-any.whl (151 kB)\n",
            "\u001b[2K     \u001b[90m━━━━━━━━━━━━━━━━━━━━━━━━━━━━━━━━━━━━━━━━\u001b[0m \u001b[32m151.7/151.7 kB\u001b[0m \u001b[31m16.3 MB/s\u001b[0m eta \u001b[36m0:00:00\u001b[0m\n",
            "\u001b[?25h  Downloading qcs_api_client-0.21.3-py3-none-any.whl (147 kB)\n",
            "\u001b[2K     \u001b[90m━━━━━━━━━━━━━━━━━━━━━━━━━━━━━━━━━━━━━━━━\u001b[0m \u001b[32m147.4/147.4 kB\u001b[0m \u001b[31m15.3 MB/s\u001b[0m eta \u001b[36m0:00:00\u001b[0m\n",
            "\u001b[?25h  Downloading qcs_api_client-0.21.2-py3-none-any.whl (147 kB)\n",
            "\u001b[2K     \u001b[90m━━━━━━━━━━━━━━━━━━━━━━━━━━━━━━━━━━━━━━━━\u001b[0m \u001b[32m147.4/147.4 kB\u001b[0m \u001b[31m15.5 MB/s\u001b[0m eta \u001b[36m0:00:00\u001b[0m\n",
            "\u001b[?25h  Downloading qcs_api_client-0.21.1-py3-none-any.whl (147 kB)\n",
            "\u001b[2K     \u001b[90m━━━━━━━━━━━━━━━━━━━━━━━━━━━━━━━━━━━━━━━━\u001b[0m \u001b[32m147.4/147.4 kB\u001b[0m \u001b[31m16.2 MB/s\u001b[0m eta \u001b[36m0:00:00\u001b[0m\n",
            "\u001b[?25h  Downloading qcs_api_client-0.21.0-py3-none-any.whl (142 kB)\n",
            "\u001b[2K     \u001b[90m━━━━━━━━━━━━━━━━━━━━━━━━━━━━━━━━━━━━━━━━\u001b[0m \u001b[32m142.7/142.7 kB\u001b[0m \u001b[31m10.6 MB/s\u001b[0m eta \u001b[36m0:00:00\u001b[0m\n",
            "\u001b[?25h  Downloading qcs_api_client-0.20.17-py3-none-any.whl (142 kB)\n",
            "\u001b[2K     \u001b[90m━━━━━━━━━━━━━━━━━━━━━━━━━━━━━━━━━━━━━━━━\u001b[0m \u001b[32m142.7/142.7 kB\u001b[0m \u001b[31m16.0 MB/s\u001b[0m eta \u001b[36m0:00:00\u001b[0m\n",
            "\u001b[?25hINFO: pip is looking at multiple versions of qcs-api-client to determine which version is compatible with other requirements. This could take a while.\n",
            "  Downloading qcs_api_client-0.20.13-py3-none-any.whl (101 kB)\n",
            "\u001b[2K     \u001b[90m━━━━━━━━━━━━━━━━━━━━━━━━━━━━━━━━━━━━━━━━\u001b[0m \u001b[32m101.2/101.2 kB\u001b[0m \u001b[31m7.9 MB/s\u001b[0m eta \u001b[36m0:00:00\u001b[0m\n",
            "\u001b[?25hCollecting jsonschema>=2.6 (from nbformat->cirq-ft==1.2.0->cirq)\n",
            "  Downloading jsonschema-4.19.2-py3-none-any.whl (83 kB)\n",
            "\u001b[2K     \u001b[90m━━━━━━━━━━━━━━━━━━━━━━━━━━━━━━━━━━━━━━━━\u001b[0m \u001b[32m83.6/83.6 kB\u001b[0m \u001b[31m10.0 MB/s\u001b[0m eta \u001b[36m0:00:00\u001b[0m\n",
            "\u001b[?25hINFO: This is taking longer than usual. You might need to provide the dependency resolver with stricter constraints to reduce runtime. See https://pip.pypa.io/warnings/backtracking for guidance. If you want to abort this run, press Ctrl + C.\n",
            "  Downloading jsonschema-4.19.1-py3-none-any.whl (83 kB)\n",
            "\u001b[2K     \u001b[90m━━━━━━━━━━━━━━━━━━━━━━━━━━━━━━━━━━━━━━━━\u001b[0m \u001b[32m83.3/83.3 kB\u001b[0m \u001b[31m10.7 MB/s\u001b[0m eta \u001b[36m0:00:00\u001b[0m\n",
            "\u001b[?25h  Downloading jsonschema-4.19.0-py3-none-any.whl (83 kB)\n",
            "\u001b[2K     \u001b[90m━━━━━━━━━━━━━━━━━━━━━━━━━━━━━━━━━━━━━━━━\u001b[0m \u001b[32m83.4/83.4 kB\u001b[0m \u001b[31m11.3 MB/s\u001b[0m eta \u001b[36m0:00:00\u001b[0m\n",
            "\u001b[?25h  Downloading jsonschema-4.18.6-py3-none-any.whl (83 kB)\n",
            "\u001b[2K     \u001b[90m━━━━━━━━━━━━━━━━━━━━━━━━━━━━━━━━━━━━━━━━\u001b[0m \u001b[32m83.2/83.2 kB\u001b[0m \u001b[31m10.8 MB/s\u001b[0m eta \u001b[36m0:00:00\u001b[0m\n",
            "\u001b[?25h  Downloading jsonschema-4.18.5-py3-none-any.whl (82 kB)\n",
            "\u001b[2K     \u001b[90m━━━━━━━━━━━━━━━━━━━━━━━━━━━━━━━━━━━━━━━━\u001b[0m \u001b[32m82.5/82.5 kB\u001b[0m \u001b[31m11.2 MB/s\u001b[0m eta \u001b[36m0:00:00\u001b[0m\n",
            "\u001b[?25h  Downloading jsonschema-4.18.4-py3-none-any.whl (80 kB)\n",
            "\u001b[2K     \u001b[90m━━━━━━━━━━━━━━━━━━━━━━━━━━━━━━━━━━━━━━━━\u001b[0m \u001b[32m81.0/81.0 kB\u001b[0m \u001b[31m7.6 MB/s\u001b[0m eta \u001b[36m0:00:00\u001b[0m\n",
            "\u001b[?25h  Downloading jsonschema-4.18.3-py3-none-any.whl (80 kB)\n",
            "\u001b[2K     \u001b[90m━━━━━━━━━━━━━━━━━━━━━━━━━━━━━━━━━━━━━━━━\u001b[0m \u001b[32m81.0/81.0 kB\u001b[0m \u001b[31m10.5 MB/s\u001b[0m eta \u001b[36m0:00:00\u001b[0m\n",
            "\u001b[?25h  Downloading jsonschema-4.18.2-py3-none-any.whl (80 kB)\n",
            "\u001b[2K     \u001b[90m━━━━━━━━━━━━━━━━━━━━━━━━━━━━━━━━━━━━━━━━\u001b[0m \u001b[32m80.8/80.8 kB\u001b[0m \u001b[31m9.6 MB/s\u001b[0m eta \u001b[36m0:00:00\u001b[0m\n",
            "\u001b[?25h  Downloading jsonschema-4.18.1-py3-none-any.whl (80 kB)\n",
            "\u001b[2K     \u001b[90m━━━━━━━━━━━━━━━━━━━━━━━━━━━━━━━━━━━━━━━━\u001b[0m \u001b[32m80.7/80.7 kB\u001b[0m \u001b[31m10.0 MB/s\u001b[0m eta \u001b[36m0:00:00\u001b[0m\n",
            "\u001b[?25h  Downloading jsonschema-4.18.0-py3-none-any.whl (81 kB)\n",
            "\u001b[2K     \u001b[90m━━━━━━━━━━━━━━━━━━━━━━━━━━━━━━━━━━━━━━━━\u001b[0m \u001b[32m81.5/81.5 kB\u001b[0m \u001b[31m10.0 MB/s\u001b[0m eta \u001b[36m0:00:00\u001b[0m\n",
            "\u001b[?25h  Downloading jsonschema-4.17.3-py3-none-any.whl (90 kB)\n",
            "\u001b[2K     \u001b[90m━━━━━━━━━━━━━━━━━━━━━━━━━━━━━━━━━━━━━━━━\u001b[0m \u001b[32m90.4/90.4 kB\u001b[0m \u001b[31m10.9 MB/s\u001b[0m eta \u001b[36m0:00:00\u001b[0m\n",
            "\u001b[?25hCollecting pyrsistent!=0.17.0,!=0.17.1,!=0.17.2,>=0.14.0 (from jsonschema>=2.6->nbformat->cirq-ft==1.2.0->cirq)\n",
            "  Downloading pyrsistent-0.20.0-cp310-cp310-manylinux_2_17_x86_64.manylinux2014_x86_64.whl (117 kB)\n",
            "\u001b[2K     \u001b[90m━━━━━━━━━━━━━━━━━━━━━━━━━━━━━━━━━━━━━━━━\u001b[0m \u001b[32m117.7/117.7 kB\u001b[0m \u001b[31m14.6 MB/s\u001b[0m eta \u001b[36m0:00:00\u001b[0m\n",
            "\u001b[?25hCollecting attrs (from cirq-ft==1.2.0->cirq)\n",
            "  Downloading attrs-21.4.0-py2.py3-none-any.whl (60 kB)\n",
            "\u001b[2K     \u001b[90m━━━━━━━━━━━━━━━━━━━━━━━━━━━━━━━━━━━━━━━━\u001b[0m \u001b[32m60.6/60.6 kB\u001b[0m \u001b[31m7.2 MB/s\u001b[0m eta \u001b[36m0:00:00\u001b[0m\n",
            "\u001b[?25hCollecting httpx<0.24.0,>=0.23.0 (from qcs-api-client<0.22.0,>=0.20.13->pyquil~=3.2.0->cirq-rigetti==1.2.0->cirq)\n",
            "  Downloading httpx-0.23.3-py3-none-any.whl (71 kB)\n",
            "\u001b[2K     \u001b[90m━━━━━━━━━━━━━━━━━━━━━━━━━━━━━━━━━━━━━━━━\u001b[0m \u001b[32m71.5/71.5 kB\u001b[0m \u001b[31m9.0 MB/s\u001b[0m eta \u001b[36m0:00:00\u001b[0m\n",
            "\u001b[?25hCollecting iso8601<2.0.0,>=1.0.2 (from qcs-api-client<0.22.0,>=0.20.13->pyquil~=3.2.0->cirq-rigetti==1.2.0->cirq)\n",
            "  Downloading iso8601-1.1.0-py3-none-any.whl (9.9 kB)\n",
            "Requirement already satisfied: pydantic<2.0.0,>=1.7.2 in /usr/local/lib/python3.10/dist-packages (from qcs-api-client<0.22.0,>=0.20.13->pyquil~=3.2.0->cirq-rigetti==1.2.0->cirq) (1.10.13)\n",
            "Collecting retrying<2.0.0,>=1.3.3 (from qcs-api-client<0.22.0,>=0.20.13->pyquil~=3.2.0->cirq-rigetti==1.2.0->cirq)\n",
            "  Downloading retrying-1.3.4-py3-none-any.whl (11 kB)\n",
            "Collecting rfc3339<7.0,>=6.2 (from qcs-api-client<0.22.0,>=0.20.13->pyquil~=3.2.0->cirq-rigetti==1.2.0->cirq)\n",
            "  Downloading rfc3339-6.2-py3-none-any.whl (5.5 kB)\n",
            "Requirement already satisfied: toml<0.11.0,>=0.10.2 in /usr/local/lib/python3.10/dist-packages (from qcs-api-client<0.22.0,>=0.20.13->pyquil~=3.2.0->cirq-rigetti==1.2.0->cirq) (0.10.2)\n",
            "Collecting py<2.0.0,>=1.4.26 (from retry<0.10.0,>=0.9.2->pyquil~=3.2.0->cirq-rigetti==1.2.0->cirq)\n",
            "  Downloading py-1.11.0-py2.py3-none-any.whl (98 kB)\n",
            "\u001b[2K     \u001b[90m━━━━━━━━━━━━━━━━━━━━━━━━━━━━━━━━━━━━━━━━\u001b[0m \u001b[32m98.7/98.7 kB\u001b[0m \u001b[31m11.9 MB/s\u001b[0m eta \u001b[36m0:00:00\u001b[0m\n",
            "\u001b[?25hRequirement already satisfied: msgpack<2.0,>=0.6 in /usr/local/lib/python3.10/dist-packages (from rpcq<4.0.0,>=3.10.0->pyquil~=3.2.0->cirq-rigetti==1.2.0->cirq) (1.0.7)\n",
            "Collecting python-rapidjson (from rpcq<4.0.0,>=3.10.0->pyquil~=3.2.0->cirq-rigetti==1.2.0->cirq)\n",
            "  Downloading python_rapidjson-1.13-cp310-cp310-manylinux_2_17_x86_64.manylinux2014_x86_64.whl (1.7 MB)\n",
            "\u001b[2K     \u001b[90m━━━━━━━━━━━━━━━━━━━━━━━━━━━━━━━━━━━━━━━━\u001b[0m \u001b[32m1.7/1.7 MB\u001b[0m \u001b[31m52.9 MB/s\u001b[0m eta \u001b[36m0:00:00\u001b[0m\n",
            "\u001b[?25hRequirement already satisfied: pyzmq>=17 in /usr/local/lib/python3.10/dist-packages (from rpcq<4.0.0,>=3.10.0->pyquil~=3.2.0->cirq-rigetti==1.2.0->cirq) (23.2.1)\n",
            "Collecting ruamel.yaml (from rpcq<4.0.0,>=3.10.0->pyquil~=3.2.0->cirq-rigetti==1.2.0->cirq)\n",
            "  Downloading ruamel.yaml-0.18.5-py3-none-any.whl (116 kB)\n",
            "\u001b[2K     \u001b[90m━━━━━━━━━━━━━━━━━━━━━━━━━━━━━━━━━━━━━━━━\u001b[0m \u001b[32m116.4/116.4 kB\u001b[0m \u001b[31m10.1 MB/s\u001b[0m eta \u001b[36m0:00:00\u001b[0m\n",
            "\u001b[?25hRequirement already satisfied: notebook>=4.4.1 in /usr/local/lib/python3.10/dist-packages (from widgetsnbextension~=3.6.0->ipywidgets->cirq-ft==1.2.0->cirq) (6.5.5)\n",
            "Requirement already satisfied: soupsieve>1.2 in /usr/local/lib/python3.10/dist-packages (from beautifulsoup4->nbconvert->cirq-ft==1.2.0->cirq) (2.5)\n",
            "Requirement already satisfied: webencodings in /usr/local/lib/python3.10/dist-packages (from bleach->nbconvert->cirq-ft==1.2.0->cirq) (0.5.1)\n",
            "Collecting httpcore<0.17.0,>=0.15.0 (from httpx<0.24.0,>=0.23.0->qcs-api-client<0.22.0,>=0.20.13->pyquil~=3.2.0->cirq-rigetti==1.2.0->cirq)\n",
            "  Downloading httpcore-0.16.3-py3-none-any.whl (69 kB)\n",
            "\u001b[2K     \u001b[90m━━━━━━━━━━━━━━━━━━━━━━━━━━━━━━━━━━━━━━━━\u001b[0m \u001b[32m69.6/69.6 kB\u001b[0m \u001b[31m8.3 MB/s\u001b[0m eta \u001b[36m0:00:00\u001b[0m\n",
            "\u001b[?25hCollecting rfc3986[idna2008]<2,>=1.3 (from httpx<0.24.0,>=0.23.0->qcs-api-client<0.22.0,>=0.20.13->pyquil~=3.2.0->cirq-rigetti==1.2.0->cirq)\n",
            "  Downloading rfc3986-1.5.0-py2.py3-none-any.whl (31 kB)\n",
            "Requirement already satisfied: sniffio in /usr/local/lib/python3.10/dist-packages (from httpx<0.24.0,>=0.23.0->qcs-api-client<0.22.0,>=0.20.13->pyquil~=3.2.0->cirq-rigetti==1.2.0->cirq) (1.3.0)\n",
            "Requirement already satisfied: parso<0.9.0,>=0.8.3 in /usr/local/lib/python3.10/dist-packages (from jedi>=0.16->ipython>=4.0.0->ipywidgets->cirq-ft==1.2.0->cirq) (0.8.3)\n",
            "Requirement already satisfied: argon2-cffi in /usr/local/lib/python3.10/dist-packages (from notebook>=4.4.1->widgetsnbextension~=3.6.0->ipywidgets->cirq-ft==1.2.0->cirq) (23.1.0)\n",
            "Requirement already satisfied: nest-asyncio>=1.5 in /usr/local/lib/python3.10/dist-packages (from notebook>=4.4.1->widgetsnbextension~=3.6.0->ipywidgets->cirq-ft==1.2.0->cirq) (1.5.8)\n",
            "Requirement already satisfied: Send2Trash>=1.8.0 in /usr/local/lib/python3.10/dist-packages (from notebook>=4.4.1->widgetsnbextension~=3.6.0->ipywidgets->cirq-ft==1.2.0->cirq) (1.8.2)\n",
            "Requirement already satisfied: terminado>=0.8.3 in /usr/local/lib/python3.10/dist-packages (from notebook>=4.4.1->widgetsnbextension~=3.6.0->ipywidgets->cirq-ft==1.2.0->cirq) (0.17.1)\n",
            "Requirement already satisfied: prometheus-client in /usr/local/lib/python3.10/dist-packages (from notebook>=4.4.1->widgetsnbextension~=3.6.0->ipywidgets->cirq-ft==1.2.0->cirq) (0.18.0)\n",
            "Requirement already satisfied: nbclassic>=0.4.7 in /usr/local/lib/python3.10/dist-packages (from notebook>=4.4.1->widgetsnbextension~=3.6.0->ipywidgets->cirq-ft==1.2.0->cirq) (1.0.0)\n",
            "Requirement already satisfied: ptyprocess>=0.5 in /usr/local/lib/python3.10/dist-packages (from pexpect>4.3->ipython>=4.0.0->ipywidgets->cirq-ft==1.2.0->cirq) (0.7.0)\n",
            "Requirement already satisfied: wcwidth in /usr/local/lib/python3.10/dist-packages (from prompt-toolkit!=3.0.0,!=3.0.1,<3.1.0,>=2.0.0->ipython>=4.0.0->ipywidgets->cirq-ft==1.2.0->cirq) (0.2.9)\n",
            "Requirement already satisfied: pyasn1<0.6.0,>=0.4.6 in /usr/local/lib/python3.10/dist-packages (from pyasn1-modules>=0.2.1->google-auth<3.0.dev0,>=2.14.1->google-api-core[grpc]>=1.14.0->cirq-google==1.2.0->cirq) (0.5.0)\n",
            "Collecting ruamel.yaml.clib>=0.2.7 (from ruamel.yaml->rpcq<4.0.0,>=3.10.0->pyquil~=3.2.0->cirq-rigetti==1.2.0->cirq)\n",
            "  Downloading ruamel.yaml.clib-0.2.8-cp310-cp310-manylinux_2_17_x86_64.manylinux2014_x86_64.manylinux_2_24_x86_64.whl (526 kB)\n",
            "\u001b[2K     \u001b[90m━━━━━━━━━━━━━━━━━━━━━━━━━━━━━━━━━━━━━━━━\u001b[0m \u001b[32m526.7/526.7 kB\u001b[0m \u001b[31m50.1 MB/s\u001b[0m eta \u001b[36m0:00:00\u001b[0m\n",
            "\u001b[?25hCollecting h11<0.15,>=0.13 (from httpcore<0.17.0,>=0.15.0->httpx<0.24.0,>=0.23.0->qcs-api-client<0.22.0,>=0.20.13->pyquil~=3.2.0->cirq-rigetti==1.2.0->cirq)\n",
            "  Downloading h11-0.14.0-py3-none-any.whl (58 kB)\n",
            "\u001b[2K     \u001b[90m━━━━━━━━━━━━━━━━━━━━━━━━━━━━━━━━━━━━━━━━\u001b[0m \u001b[32m58.3/58.3 kB\u001b[0m \u001b[31m8.6 MB/s\u001b[0m eta \u001b[36m0:00:00\u001b[0m\n",
            "\u001b[?25hRequirement already satisfied: anyio<5.0,>=3.0 in /usr/local/lib/python3.10/dist-packages (from httpcore<0.17.0,>=0.15.0->httpx<0.24.0,>=0.23.0->qcs-api-client<0.22.0,>=0.20.13->pyquil~=3.2.0->cirq-rigetti==1.2.0->cirq) (3.7.1)\n",
            "Requirement already satisfied: jupyter-server>=1.8 in /usr/local/lib/python3.10/dist-packages (from nbclassic>=0.4.7->notebook>=4.4.1->widgetsnbextension~=3.6.0->ipywidgets->cirq-ft==1.2.0->cirq) (1.24.0)\n",
            "Requirement already satisfied: notebook-shim>=0.2.3 in /usr/local/lib/python3.10/dist-packages (from nbclassic>=0.4.7->notebook>=4.4.1->widgetsnbextension~=3.6.0->ipywidgets->cirq-ft==1.2.0->cirq) (0.2.3)\n",
            "Requirement already satisfied: argon2-cffi-bindings in /usr/local/lib/python3.10/dist-packages (from argon2-cffi->notebook>=4.4.1->widgetsnbextension~=3.6.0->ipywidgets->cirq-ft==1.2.0->cirq) (21.2.0)\n",
            "Requirement already satisfied: exceptiongroup in /usr/local/lib/python3.10/dist-packages (from anyio<5.0,>=3.0->httpcore<0.17.0,>=0.15.0->httpx<0.24.0,>=0.23.0->qcs-api-client<0.22.0,>=0.20.13->pyquil~=3.2.0->cirq-rigetti==1.2.0->cirq) (1.1.3)\n",
            "Requirement already satisfied: websocket-client in /usr/local/lib/python3.10/dist-packages (from jupyter-server>=1.8->nbclassic>=0.4.7->notebook>=4.4.1->widgetsnbextension~=3.6.0->ipywidgets->cirq-ft==1.2.0->cirq) (1.6.4)\n",
            "Requirement already satisfied: cffi>=1.0.1 in /usr/local/lib/python3.10/dist-packages (from argon2-cffi-bindings->argon2-cffi->notebook>=4.4.1->widgetsnbextension~=3.6.0->ipywidgets->cirq-ft==1.2.0->cirq) (1.16.0)\n",
            "Requirement already satisfied: pycparser in /usr/local/lib/python3.10/dist-packages (from cffi>=1.0.1->argon2-cffi-bindings->argon2-cffi->notebook>=4.4.1->widgetsnbextension~=3.6.0->ipywidgets->cirq-ft==1.2.0->cirq) (2.21)\n",
            "Building wheels for collected packages: lark, rpcq\n",
            "  Building wheel for lark (setup.py) ... \u001b[?25l\u001b[?25hdone\n",
            "  Created wheel for lark: filename=lark-0.11.3-py2.py3-none-any.whl size=99632 sha256=8acf2732363d46889d49a8bc6f6a79e54b56134bceeeecfa1e1b93b97f758e94\n",
            "  Stored in directory: /root/.cache/pip/wheels/7d/72/22/a2dbd112cf05c55adf2e1ead5fba8aa527b848f01cdd99687c\n",
            "  Building wheel for rpcq (setup.py) ... \u001b[?25l\u001b[?25hdone\n",
            "  Created wheel for rpcq: filename=rpcq-3.11.0-py3-none-any.whl size=45966 sha256=bb4602e5e873f6303c7a0a4b2cd6428d8468601883676cf7ad86d8e1cd6e708e\n",
            "  Stored in directory: /root/.cache/pip/wheels/91/97/0a/b384d94155345284ec00712ab814cbfb5bc2b631080b4fa4c3\n",
            "Successfully built lark rpcq\n",
            "Installing collected packages: rfc3986, rfc3339, lark, ruamel.yaml.clib, retrying, python-rapidjson, pyrsistent, PyJWT, py, networkx, jedi, iso8601, h11, duet, attrs, ruamel.yaml, retry, jsonschema, httpcore, rpcq, httpx, cirq-core, qcs-api-client, cirq-web, cirq-pasqal, cirq-ionq, cirq-aqt, pyquil, cirq-google, cirq-rigetti, cirq-ft, cirq\n",
            "  Attempting uninstall: PyJWT\n",
            "    Found existing installation: PyJWT 2.3.0\n",
            "    Uninstalling PyJWT-2.3.0:\n",
            "      Successfully uninstalled PyJWT-2.3.0\n",
            "  Attempting uninstall: networkx\n",
            "    Found existing installation: networkx 3.2.1\n",
            "    Uninstalling networkx-3.2.1:\n",
            "      Successfully uninstalled networkx-3.2.1\n",
            "  Attempting uninstall: attrs\n",
            "    Found existing installation: attrs 23.1.0\n",
            "    Uninstalling attrs-23.1.0:\n",
            "      Successfully uninstalled attrs-23.1.0\n",
            "  Attempting uninstall: jsonschema\n",
            "    Found existing installation: jsonschema 4.19.2\n",
            "    Uninstalling jsonschema-4.19.2:\n",
            "      Successfully uninstalled jsonschema-4.19.2\n",
            "\u001b[31mERROR: pip's dependency resolver does not currently take into account all the packages that are installed. This behaviour is the source of the following dependency conflicts.\n",
            "lida 0.0.10 requires fastapi, which is not installed.\n",
            "lida 0.0.10 requires kaleido, which is not installed.\n",
            "lida 0.0.10 requires python-multipart, which is not installed.\n",
            "lida 0.0.10 requires uvicorn, which is not installed.\n",
            "referencing 0.30.2 requires attrs>=22.2.0, but you have attrs 21.4.0 which is incompatible.\u001b[0m\u001b[31m\n",
            "\u001b[0mSuccessfully installed PyJWT-2.8.0 attrs-21.4.0 cirq-1.2.0 cirq-aqt-1.2.0 cirq-core-1.2.0 cirq-ft-1.2.0 cirq-google-1.2.0 cirq-ionq-1.2.0 cirq-pasqal-1.2.0 cirq-rigetti-1.2.0 cirq-web-1.2.0 duet-0.2.9 h11-0.14.0 httpcore-0.16.3 httpx-0.23.3 iso8601-1.1.0 jedi-0.19.1 jsonschema-4.17.3 lark-0.11.3 networkx-2.8.8 py-1.11.0 pyquil-3.2.1 pyrsistent-0.20.0 python-rapidjson-1.13 qcs-api-client-0.21.6 retry-0.9.2 retrying-1.3.4 rfc3339-6.2 rfc3986-1.5.0 rpcq-3.11.0 ruamel.yaml-0.18.5 ruamel.yaml.clib-0.2.8\n"
          ]
        }
      ],
      "source": [
        "import IPython\n",
        "\n",
        "def in_colab():\n",
        "    try:\n",
        "        import google.colab\n",
        "        return True\n",
        "    except:\n",
        "        return False\n",
        "\n",
        "SolutionToTask1 = lambda: IPython.display.display(IPython.display.Javascript('window.open(\"{url}\");'.format(url='https://colab.research.google.com/drive/12PzCm5Y71g3JxhKqbe9mh0PgYyybYKaH?usp=sharing#scrollTo=A62APel5L2Cq' if in_colab() else 'QB33_C09_Multi-qubit_Gates_Solutions.ipynb#task1')))\n",
        "SolutionToTask2 = lambda: IPython.display.display(IPython.display.Javascript('window.open(\"{url}\");'.format(url='https://colab.research.google.com/drive/12PzCm5Y71g3JxhKqbe9mh0PgYyybYKaH?usp=sharing#scrollTo=6bq4GNy5L2Cs' if in_colab() else 'QB33_C09_Multi-qubit_Gates_Solutions.ipynb#task2')))\n",
        "SolutionToTask3 = lambda: IPython.display.display(IPython.display.Javascript('window.open(\"{url}\");'.format(url='https://colab.research.google.com/drive/12PzCm5Y71g3JxhKqbe9mh0PgYyybYKaH?usp=sharing#scrollTo=u83vEIKqL2Cs' if in_colab() else 'QB33_C09_Multi-qubit_Gates_Solutions.ipynb#task3')))\n",
        "SolutionToTask4 = lambda: IPython.display.display(IPython.display.Javascript('window.open(\"{url}\");'.format(url='https://colab.research.google.com/drive/12PzCm5Y71g3JxhKqbe9mh0PgYyybYKaH?usp=sharing#scrollTo=ytAFNwgFL2Ct' if in_colab() else 'QB33_C09_Multi-qubit_Gates_Solutions.ipynb#task4')))\n",
        "SolutionToTask5 = lambda: IPython.display.display(IPython.display.Javascript('window.open(\"{url}\");'.format(url='https://colab.research.google.com/drive/12PzCm5Y71g3JxhKqbe9mh0PgYyybYKaH?usp=sharing#scrollTo=k3L2k9iAL2Ct' if in_colab() else 'QB33_C09_Multi-qubit_Gates_Solutions.ipynb#task5')))\n",
        "SolutionToTask6 = lambda: IPython.display.display(IPython.display.Javascript('window.open(\"{url}\");'.format(url='https://colab.research.google.com/drive/12PzCm5Y71g3JxhKqbe9mh0PgYyybYKaH?usp=sharing#scrollTo=n_rrPBlYL2Ct' if in_colab() else 'QB33_C09_Multi-qubit_Gates_Solutions.ipynb#task6')))\n",
        "SolutionToTask7 = lambda: IPython.display.display(IPython.display.Javascript('window.open(\"{url}\");'.format(url='https://colab.research.google.com/drive/12PzCm5Y71g3JxhKqbe9mh0PgYyybYKaH?usp=sharing#scrollTo=dAablgQqL2Ct' if in_colab() else 'QB33_C09_Multi-qubit_Gates_Solutions.ipynb#task7')))\n",
        "\n",
        "if in_colab():\n",
        "    !pip install cirq"
      ]
    },
    {
      "cell_type": "markdown",
      "metadata": {
        "id": "rEJAPwocPSs-"
      },
      "source": [
        "##### In this notebook we will cover several two- and three-qubit gates.\n",
        "\n",
        "One of them is SWAP gate, and the rest are controlled gates.\n",
        "\n",
        "Remember that Cirq combines qubits in ascending order of indices, as q0⊗q1⊗q2."
      ]
    },
    {
      "cell_type": "markdown",
      "metadata": {
        "id": "xgJeH6K1PSs_"
      },
      "source": [
        "## SWAP gate\n",
        "\n",
        "The `SWAP` gate is defined on two qubits and it swaps the values of qubits.\n",
        "\n",
        "Its transitions are as follows:\n",
        "\n",
        "- $ SWAP \\ket{00} = \\ket{00} $\n",
        "- $ SWAP \\ket{01} = \\ket{10} $\n",
        "- $ SWAP \\ket{10} = \\ket{01} $\n",
        "- $ SWAP \\ket{11} = \\ket{11} $\n",
        "\n",
        "Then, its matrix form is\n",
        "\n",
        "$ SWAP = \\mymatrix{cccc}{1 & 0 & 0 & 0 \\\\ 0 & 0 & 1 & 0 \\\\ 0 & 1 & 0 & 0 \\\\ 0 & 0 & 0 & 1} . $\n",
        "\n",
        "It is used in Cirq as:\n",
        "\n",
        "    SWAP.on(q0, q1) # Swapping between q0 and q1\n",
        "    \n",
        "    SWAP.on(q1, q3) # Swapping between q1 and q3"
      ]
    },
    {
      "cell_type": "markdown",
      "metadata": {
        "id": "aCOj_XN3PSs_"
      },
      "source": [
        "Below we define a simple two-qubit circuit, and execute it 1000 times.\n",
        "\n",
        "Later, we use the same circuit, but apply a `SWAP` gate before the measurements.\n",
        "\n",
        "Then, the outcomes should be reversed."
      ]
    },
    {
      "cell_type": "code",
      "execution_count": 2,
      "metadata": {
        "id": "25lVFC8NPSs_",
        "outputId": "ff2ffbe9-c469-4275-9c4f-4ebb6e7dfe67",
        "colab": {
          "base_uri": "https://localhost:8080/"
        }
      },
      "outputs": [
        {
          "output_type": "stream",
          "name": "stdout",
          "text": [
            "the quantum state is\n",
            "0.71|10⟩ + 0.71|11⟩\n",
            "\n",
            "the circuit is\n",
            "0: ───X───M('result')───\n",
            "          │\n",
            "1: ───H───M─────────────\n",
            "\n",
            "outcomes: Counter({'10': 506, '11': 494})\n"
          ]
        }
      ],
      "source": [
        "import cirq\n",
        "from cirq import H, X, measure\n",
        "\n",
        "circuit = cirq.Circuit()\n",
        "\n",
        "q0, q1 = cirq.LineQubit.range(2) #create 2 qubits\n",
        "\n",
        "circuit.append(X(q0))\n",
        "circuit.append(H(q1))\n",
        "\n",
        "# the state of two qubits is |1>|+>\n",
        "\n",
        "# Simulate the circuit\n",
        "sim = cirq.Simulator()\n",
        "results = sim.simulate(circuit)\n",
        "\n",
        "print(\"the quantum state is\")\n",
        "print(results.dirac_notation())\n",
        "print()\n",
        "\n",
        "circuit.append(measure(q0, q1, key='result'))\n",
        "\n",
        "print(\"the circuit is\")\n",
        "print(circuit)\n",
        "print()\n",
        "\n",
        "\n",
        "# default representation in Cirq is with decimal numbers\n",
        "# with this function we convert the decimal numbers into binary (bitstrings)\n",
        "def bitstring(bits):\n",
        "    return \"\".join(str(int(b)) for b in bits)\n",
        "\n",
        "\n",
        "# Execute the circuit\n",
        "samples = sim.run(circuit, repetitions=1000)\n",
        "print(\"outcomes:\", samples.histogram(key='result', fold_func=bitstring))"
      ]
    },
    {
      "cell_type": "markdown",
      "metadata": {
        "id": "KiEiW5WRPSs_"
      },
      "source": [
        "We observe the outcomes `10` and `11` with equal probability. The qubit `q0` outputs only 1.\n",
        "\n",
        "Now, we apply a `SWAP` gate before the measurements."
      ]
    },
    {
      "cell_type": "code",
      "execution_count": 3,
      "metadata": {
        "id": "4lI95N1XPStA",
        "outputId": "20b4ffea-0db0-47d8-ddd5-9b6cb0d71a14",
        "colab": {
          "base_uri": "https://localhost:8080/"
        }
      },
      "outputs": [
        {
          "output_type": "stream",
          "name": "stdout",
          "text": [
            "the quantum state is\n",
            "0.71|01⟩ + 0.71|11⟩\n",
            "\n",
            "the circuit is\n",
            "0: ───X───×───M('result')───\n",
            "          │   │\n",
            "1: ───H───×───M─────────────\n",
            "\n",
            "outcomes: Counter({'11': 512, '01': 488})\n"
          ]
        }
      ],
      "source": [
        "import cirq\n",
        "from cirq import H, X, measure, SWAP\n",
        "\n",
        "circuit = cirq.Circuit()\n",
        "\n",
        "q0, q1 = cirq.LineQubit.range(2) #create 2 qubits\n",
        "\n",
        "circuit.append(X(q0))\n",
        "circuit.append(H(q1))\n",
        "\n",
        "# the state of two qubits is |1>|+>\n",
        "\n",
        "# apply a SWAP gate\n",
        "circuit.append(SWAP.on(q0, q1))\n",
        "\n",
        "# the state of two qubits is |+>|1>\n",
        "\n",
        "# Simulate the circuit\n",
        "sim = cirq.Simulator()\n",
        "results = sim.simulate(circuit)\n",
        "\n",
        "print(\"the quantum state is\")\n",
        "print(results.dirac_notation())\n",
        "print()\n",
        "\n",
        "circuit.append(measure(q0, q1, key='result'))\n",
        "\n",
        "print(\"the circuit is\")\n",
        "print(circuit)\n",
        "print()\n",
        "\n",
        "\n",
        "# default representation in Cirq is with decimal numbers\n",
        "# with this function we convert the decimal numbers into binary (bitstrings)\n",
        "def bitstring(bits):\n",
        "    return \"\".join(str(int(b)) for b in bits)\n",
        "\n",
        "\n",
        "# Execute the circuit\n",
        "samples = sim.run(circuit, repetitions=1000)\n",
        "print(\"outcomes:\", samples.histogram(key='result', fold_func=bitstring))"
      ]
    },
    {
      "cell_type": "markdown",
      "metadata": {
        "id": "EZJqI_pwPStA"
      },
      "source": [
        "We observe the outcomes `01` and `11` with equal probability. The qubit `q1` outputs only 1."
      ]
    },
    {
      "cell_type": "markdown",
      "metadata": {
        "id": "6dQ8UeTRPStA"
      },
      "source": [
        "### Task 1\n",
        "\n",
        "We have three qubits as q0⊗q1⊗q2.\n",
        "\n",
        "Below is the transitions of `SWAP` operator on q0 and q2. Complete the missing parts.\n",
        "\n",
        "- $ \\ket{000} \\rightarrow \\ket{?} $\n",
        "- $ \\ket{001} \\rightarrow \\ket{?} $\n",
        "- $ \\ket{010} \\rightarrow \\ket{?} $\n",
        "- $ \\ket{011} \\rightarrow \\ket{?} $\n",
        "- $ \\ket{100} \\rightarrow \\ket{?} $\n",
        "- $ \\ket{101} \\rightarrow \\ket{?} $\n",
        "- $ \\ket{110} \\rightarrow \\ket{?} $\n",
        "- $ \\ket{111} \\rightarrow \\ket{?} $\n",
        "\n",
        "Write the matrix of this operator."
      ]
    },
    {
      "cell_type": "markdown",
      "source": [
        "<h3> Solution </h3>"
      ],
      "metadata": {
        "id": "NmKuOKS11doI"
      }
    },
    {
      "cell_type": "markdown",
      "source": [
        "The values of q2 and q0 are swapped.\n",
        "\n",
        "- $ \\ket{000} \\rightarrow \\ket{000} $\n",
        "- $ \\ket{001} \\rightarrow \\ket{100} $\n",
        "- $ \\ket{010} \\rightarrow \\ket{010} $\n",
        "- $ \\ket{011} \\rightarrow \\ket{110} $\n",
        "- $ \\ket{100} \\rightarrow \\ket{001} $\n",
        "- $ \\ket{101} \\rightarrow \\ket{101} $\n",
        "- $ \\ket{110} \\rightarrow \\ket{011} $\n",
        "- $ \\ket{111} \\rightarrow \\ket{111} $\n",
        "\n",
        "Based on these transtions, we can easily build the matrix:\n",
        "\n",
        "$ \\mymatrix{cccc|cccc}{\n",
        "1 & 0 & 0 & 0 & 0 & 0 & 0 & 0 \\\\\n",
        "0 & 0 & 0 & 0 & 1 & 0 & 0 & 0 \\\\\n",
        "0 & 0 & 1 & 0 & 0 & 0 & 0 & 0 \\\\\n",
        "0 & 0 & 0 & 0 & 0 & 0 & 1 & 0 \\\\ \\hline\n",
        "0 & 1 & 0 & 0 & 0 & 0 & 0 & 0 \\\\\n",
        "0 & 0 & 0 & 0 & 0 & 1 & 0 & 0 \\\\\n",
        "0 & 0 & 0 & 1 & 0 & 0 & 0 & 0 \\\\\n",
        "0 & 0 & 0 & 0 & 0 & 0 & 0 & 1 \\\\\n",
        "} $"
      ],
      "metadata": {
        "id": "AEWUafLr1gG-"
      }
    },
    {
      "cell_type": "markdown",
      "metadata": {
        "id": "l9rVnlCVPStA"
      },
      "source": [
        "To check out our solution, run the next cell:"
      ]
    },
    {
      "cell_type": "code",
      "execution_count": 4,
      "metadata": {
        "id": "joSaTU0oPStA",
        "outputId": "21886151-9e98-40cc-d0fa-a884a6484f96",
        "colab": {
          "base_uri": "https://localhost:8080/",
          "height": 17
        }
      },
      "outputs": [
        {
          "output_type": "display_data",
          "data": {
            "text/plain": [
              "<IPython.core.display.Javascript object>"
            ],
            "application/javascript": [
              "window.open(\"https://colab.research.google.com/drive/12PzCm5Y71g3JxhKqbe9mh0PgYyybYKaH?usp=sharing#scrollTo=A62APel5L2Cq\");"
            ]
          },
          "metadata": {}
        }
      ],
      "source": [
        "SolutionToTask1()  # show solution for task 1"
      ]
    },
    {
      "cell_type": "markdown",
      "metadata": {
        "id": "ppfn5mefPStA"
      },
      "source": [
        "### Task 2\n",
        "\n",
        "Suppose that in Task 1 three qubits are placed on a line as q0---q1---q2, and `SWAP` operator is allowed only for neighbors, i.e., between 0 and 1 and between 1 and 2.\n",
        "\n",
        "Design a circuit swapping q0 and q2 but following neighborhood constraints for `SWAP` gates.\n",
        "\n",
        "Print the matrix of circuit and compare it with the solution of Task 1."
      ]
    },
    {
      "cell_type": "code",
      "execution_count": 5,
      "metadata": {
        "id": "avGAE-vPPStA",
        "outputId": "c3dfc727-f4e2-4e8e-a2ef-ad453039165c",
        "colab": {
          "base_uri": "https://localhost:8080/"
        }
      },
      "outputs": [
        {
          "output_type": "stream",
          "name": "stdout",
          "text": [
            "1.0   0.0   0.0   0.0   0.0   0.0   0.0   0.0   \n",
            "0.0   0.0   0.0   0.0   1.0   0.0   0.0   0.0   \n",
            "0.0   0.0   1.0   0.0   0.0   0.0   0.0   0.0   \n",
            "0.0   0.0   0.0   0.0   0.0   0.0   1.0   0.0   \n",
            "0.0   1.0   0.0   0.0   0.0   0.0   0.0   0.0   \n",
            "0.0   0.0   0.0   0.0   0.0   1.0   0.0   0.0   \n",
            "0.0   0.0   0.0   1.0   0.0   0.0   0.0   0.0   \n",
            "0.0   0.0   0.0   0.0   0.0   0.0   0.0   1.0   \n"
          ]
        }
      ],
      "source": [
        "#\n",
        "# Your solution here\n",
        "#\n",
        "import cirq\n",
        "from cirq import SWAP\n",
        "\n",
        "circuit = cirq.Circuit()\n",
        "\n",
        "q0, q1, q2 = cirq.LineQubit.range(3) #create 3 qubits\n",
        "\n",
        "# we apply a series of SWAP operator\n",
        "\n",
        "# q0---q1---q2 => # q1---q0---q2\n",
        "circuit.append(SWAP.on(q0, q1))\n",
        "\n",
        "# q1---q0---q2 => q1---q2---q0\n",
        "circuit.append(SWAP.on(q1, q2))\n",
        "\n",
        "# q1---q2---q0 => q2---q1---q0\n",
        "circuit.append(SWAP.on(q0, q1))\n",
        "\n",
        "\n",
        "U = cirq.unitary(circuit) # read the matrix of circuit\n",
        "\n",
        "\n",
        "for row in U:\n",
        "    row_str = \"\"\n",
        "    for col in row:\n",
        "        # we have only 0-1s\n",
        "        row_str += str(round(col.real,0)) + \"   \"\n",
        "    print(row_str)"
      ]
    },
    {
      "cell_type": "markdown",
      "metadata": {
        "id": "Srr9-kD6PStA"
      },
      "source": [
        "To check out our solution, run the next cell:"
      ]
    },
    {
      "cell_type": "code",
      "execution_count": null,
      "metadata": {
        "id": "7ihwIgMWPStA"
      },
      "outputs": [],
      "source": [
        "SolutionToTask2()  # show solution for task 2"
      ]
    },
    {
      "cell_type": "markdown",
      "metadata": {
        "id": "Vs8igVDoPStB"
      },
      "source": [
        "## Controlled gates\n",
        "\n",
        "Any gate in Cirq can be turned into a controlled gate by using the `controlled()` method or the **`controlled_by()`** method.\n",
        "\n",
        "The parameter(s) of this methods is(are) the contol qubit(s).\n",
        "\n",
        "Here are a few examples:\n",
        "\n",
        "    cirq.X.controlled().on(q0, q1)      # q1 is the target; q0 is control\n",
        "    cirq.X(q1).controlled_by(q0)        # q1 is the target; q0 is control\n",
        "    cirq.X.on(q1).controlled_by(q0)     # q1 is the target; q0 is control\n",
        "\n",
        "    cirq.X(q0).controlled_by(q1, q2, q3)       # q0 is the target; q1, q2, and q3 are controls\n",
        "    \n",
        "    cirq.H(q1).controlled_by(q0, q3)           # q1 is the target; q0 and q3 are controls\n",
        "\n",
        "    cirq.ry(pi/3).on(q2).controlled_by(q1, q0) # q2 is the target; q0 and q1 are controls\n",
        "    \n",
        "Here we review the controlled versions of a couple different gates."
      ]
    },
    {
      "cell_type": "markdown",
      "metadata": {
        "id": "taYjGSMpPStB"
      },
      "source": [
        "### Controlled NOT gate\n",
        "\n",
        "This is the most well-known two-qubit gate, implemented in Cirq as\n",
        "\n",
        "    X.on(q1).controlled_by(q0)\n",
        "    X.controlled().on(q0, q1)   #(control, target)\n",
        "    CX(q0, q1)                  #(control, target)\n",
        "    CNOT(q0, q1)                #(control, target)\n",
        "    \n",
        "Here q1 is the target and q0 is the control qubit.\n",
        "- Whenever q0 is in $\\ket{1}$, `X` is applied to q1.\n",
        "- Otherwise, the state of q1 does not change. (Alternatively, we can say that `I` is applied to q1.)\n",
        "\n",
        "Its transitions and matrix form are given below.\n",
        "\n",
        "- $ CNOT \\ket{00} = \\ket{00} $\n",
        "- $ CNOT \\ket{01} = \\ket{01} $\n",
        "- $ CNOT \\ket{10} = \\ket{11} $\n",
        "- $ CNOT \\ket{11} = \\ket{10} $\n",
        "\n",
        "Then, its matrix form is\n",
        "\n",
        "$ CNOT = \\mymatrix{cccc}{1 & 0 & 0 & 0 \\\\ 0 & 1 & 0 & 0 \\\\ 0 & 0 & 0 & 1 \\\\ 0 & 0 & 1 & 0} . $"
      ]
    },
    {
      "cell_type": "markdown",
      "metadata": {
        "id": "Z2L2_71-PStB"
      },
      "source": [
        "### Task 3\n",
        "\n",
        "For the gate `cirq.CX(q1, q0)`, list down the transitons and write down its matrix.\n",
        "\n",
        "Verify your matrix in Cirq, i.e., print the matrix of circuit implementing this gate."
      ]
    },
    {
      "cell_type": "code",
      "execution_count": 6,
      "metadata": {
        "id": "m3okEE5wPStB",
        "outputId": "271cd98a-abda-44f1-81fc-a208ff34ae27",
        "colab": {
          "base_uri": "https://localhost:8080/"
        }
      },
      "outputs": [
        {
          "output_type": "stream",
          "name": "stdout",
          "text": [
            "1.0   0.0   0.0   0.0   \n",
            "0.0   0.0   0.0   1.0   \n",
            "0.0   0.0   1.0   0.0   \n",
            "0.0   1.0   0.0   0.0   \n"
          ]
        }
      ],
      "source": [
        "#\n",
        "# Your solution here\n",
        "#\n",
        "import cirq\n",
        "from cirq import CNOT\n",
        "\n",
        "circuit = cirq.Circuit()\n",
        "\n",
        "q0, q1 = cirq.LineQubit.range(2) #create 2 qubits\n",
        "\n",
        "circuit.append(CNOT.on(q1, q0))\n",
        "\n",
        "U = cirq.unitary(circuit) # read the matrix of circuit\n",
        "\n",
        "\n",
        "for row in U:\n",
        "    row_str = \"\"\n",
        "    for col in row:\n",
        "        # we have only 0-1s\n",
        "        row_str += str(round(col.real,0)) + \"   \"\n",
        "    print(row_str)"
      ]
    },
    {
      "cell_type": "markdown",
      "metadata": {
        "id": "9PI5B55tPStB"
      },
      "source": [
        "To check out our solution, run the next cell:"
      ]
    },
    {
      "cell_type": "code",
      "execution_count": null,
      "metadata": {
        "id": "yQ2TRZ36PStB"
      },
      "outputs": [],
      "source": [
        "SolutionToTask3()  # show solution for task 3"
      ]
    },
    {
      "cell_type": "markdown",
      "metadata": {
        "id": "Hh6epFofPStB"
      },
      "source": [
        "### Controlled Y gate"
      ]
    },
    {
      "cell_type": "markdown",
      "metadata": {
        "id": "-NYLajwLPStB"
      },
      "source": [
        "### Task 4\n",
        "\n",
        "Remember Pauli gate $ Y = \\Y $.\n",
        "\n",
        "For the gate `Y.on(q1).controlled_by(q0)`, list down the transitons and then write down its matrix.\n",
        "\n",
        "Verify your matrix in Cirq, i.e., print the matrix of circuit implementing this gate."
      ]
    },
    {
      "cell_type": "code",
      "execution_count": 7,
      "metadata": {
        "id": "4crSboWtPStB",
        "outputId": "79d241b6-782f-4e9a-c27c-02ba59b01d73",
        "colab": {
          "base_uri": "https://localhost:8080/"
        }
      },
      "outputs": [
        {
          "output_type": "stream",
          "name": "stdout",
          "text": [
            " 1  0  0  0 \n",
            " 0  1  0  0 \n",
            " 0  0  0 -i \n",
            " 0  0  i  0 \n"
          ]
        }
      ],
      "source": [
        "#\n",
        "# Your solution here\n",
        "#\n",
        "import cirq\n",
        "from cirq import Y\n",
        "\n",
        "circuit = cirq.Circuit()\n",
        "\n",
        "q0, q1 = cirq.LineQubit.range(2) #create 2 qubits\n",
        "\n",
        "circuit.append(Y.on(q1).controlled_by(q0))\n",
        "\n",
        "U = cirq.unitary(circuit) # read the matrix of circuit\n",
        "\n",
        "\n",
        "for row in U:\n",
        "    row_str = \"\"\n",
        "    for col in row:\n",
        "        # we have 0,1,i,-i\n",
        "        real = round(col.real,0)\n",
        "        imag = round(col.imag,0)\n",
        "        if real == 1:\n",
        "            row_str += \" 1 \"\n",
        "        elif imag == 1:\n",
        "            row_str += \" i \"\n",
        "        elif imag == -1:\n",
        "            row_str += \"-i \"\n",
        "        else:\n",
        "            row_str += \" 0 \"\n",
        "    print(row_str)"
      ]
    },
    {
      "cell_type": "markdown",
      "metadata": {
        "id": "F4i44o8TPStB"
      },
      "source": [
        "To check out our solution, run the next cell:"
      ]
    },
    {
      "cell_type": "code",
      "execution_count": null,
      "metadata": {
        "id": "7rSC_DL2PStB"
      },
      "outputs": [],
      "source": [
        "SolutionToTask4()  # show solution for task 4"
      ]
    },
    {
      "cell_type": "markdown",
      "metadata": {
        "id": "pFemduBZPStB"
      },
      "source": [
        "### Controlled H gate\n",
        "\n",
        "We represent the controlled Hadamard operator as $ CH $.\n",
        "\n",
        "Here is an example transition. Suppose that q1 is the target qubit.\n",
        "\n",
        "$ CH \\ket{11} = \\ket{1} \\otimes H\\ket{1} = \\ket{1}\\ket{-} = \\frac{1}{\\sqrt{2}} \\mypar{\\ket{10}-\\ket{11}}  $.\n",
        "\n",
        "$ CH \\ket{01} = \\ket{0} \\otimes I\\ket{1} = \\ket{01} $."
      ]
    },
    {
      "cell_type": "markdown",
      "metadata": {
        "id": "IOlZALGUPStB"
      },
      "source": [
        "### Task 5\n",
        "\n",
        "For the gate `H.on(q1).controlled_by(q0)`, list down the transitons and then write down its matrix.\n",
        "\n",
        "Verify your matrix in Cirq, i.e., print the matrix of circuit implementing this gate."
      ]
    },
    {
      "cell_type": "code",
      "execution_count": 8,
      "metadata": {
        "id": "pZ76nbOHPStB",
        "outputId": "2c98b83b-bb5b-40c0-9af1-ee8930a9be55",
        "colab": {
          "base_uri": "https://localhost:8080/"
        }
      },
      "outputs": [
        {
          "output_type": "stream",
          "name": "stdout",
          "text": [
            "    1     0     0     0 \n",
            "    0     1     0     0 \n",
            "    0     0  0.707  0.707 \n",
            "    0     0  0.707 -0.707 \n"
          ]
        }
      ],
      "source": [
        "#\n",
        "# Your solution here\n",
        "#\n",
        "import cirq\n",
        "from cirq import H\n",
        "\n",
        "circuit = cirq.Circuit()\n",
        "\n",
        "q0, q1 = cirq.LineQubit.range(2) #create 2 qubits\n",
        "\n",
        "circuit.append(H.on(q1).controlled_by(q0))\n",
        "\n",
        "U = cirq.unitary(circuit) # read the matrix of circuit\n",
        "\n",
        "\n",
        "for row in U:\n",
        "    row_str = \"\"\n",
        "    for col in row:\n",
        "        # we have 0,1,0.707,-0.707\n",
        "        real = round(col.real,3)\n",
        "        if real == 1:\n",
        "            row_str += \"    1 \"\n",
        "        elif real == 0.707:\n",
        "            row_str += \" 0.707 \"\n",
        "        elif real == -0.707:\n",
        "            row_str += \"-0.707 \"\n",
        "        else:\n",
        "            row_str += \"    0 \"\n",
        "    print(row_str)"
      ]
    },
    {
      "cell_type": "markdown",
      "metadata": {
        "id": "IriNttH9PStC"
      },
      "source": [
        "To check out our solution, run the next cell:"
      ]
    },
    {
      "cell_type": "code",
      "execution_count": null,
      "metadata": {
        "id": "tBH9UAAWPStC"
      },
      "outputs": [],
      "source": [
        "SolutionToTask5()  # show solution for task 5"
      ]
    },
    {
      "cell_type": "markdown",
      "metadata": {
        "id": "jfwHHlKZPStC"
      },
      "source": [
        "### Task 6\n",
        "\n",
        "For the gate `H.on(q0).controlled_by(q1)`, list down the transitons and then write down its matrix.\n",
        "\n",
        "Verify your matrix in Cirq, i.e., print the matrix of circuit implementing this gate."
      ]
    },
    {
      "cell_type": "code",
      "execution_count": 9,
      "metadata": {
        "id": "JVJqQjQRPStC",
        "outputId": "667f1959-ec26-4d05-b935-a402115beef9",
        "colab": {
          "base_uri": "https://localhost:8080/"
        }
      },
      "outputs": [
        {
          "output_type": "stream",
          "name": "stdout",
          "text": [
            "   1      0      0      0   \n",
            "   0    0.707    0    0.707 \n",
            "   0      0      1      0   \n",
            "   0    0.707    0   -0.707 \n"
          ]
        }
      ],
      "source": [
        "#\n",
        "# Your solution here\n",
        "#\n",
        "import cirq\n",
        "from cirq import H\n",
        "\n",
        "circuit = cirq.Circuit()\n",
        "\n",
        "q0, q1 = cirq.LineQubit.range(2) #create 2 qubits\n",
        "\n",
        "circuit.append(H.on(q0).controlled_by(q1))\n",
        "\n",
        "U = cirq.unitary(circuit) # read the matrix of circuit\n",
        "\n",
        "\n",
        "for row in U:\n",
        "    row_str = \"\"\n",
        "    for col in row:\n",
        "        # we have 0,1,0.707,-0.707\n",
        "        real = round(col.real,3)\n",
        "        if real == 1:\n",
        "            row_str += \"   1   \"\n",
        "        elif real == 0.707:\n",
        "            row_str += \" 0.707 \"\n",
        "        elif real == -0.707:\n",
        "            row_str += \"-0.707 \"\n",
        "        else:\n",
        "            row_str += \"   0   \"\n",
        "    print(row_str)"
      ]
    },
    {
      "cell_type": "markdown",
      "metadata": {
        "id": "BN0z7k2IPStC"
      },
      "source": [
        "To check out our solution, run the next cell:"
      ]
    },
    {
      "cell_type": "code",
      "execution_count": null,
      "metadata": {
        "id": "0t3NF5mNPStC"
      },
      "outputs": [],
      "source": [
        "SolutionToTask6()  # show solution for task 6"
      ]
    },
    {
      "cell_type": "markdown",
      "metadata": {
        "id": "Bll-8C-cPStC"
      },
      "source": [
        "### Gates differ by a global phase\n",
        "\n",
        "The matrix form of $ S $ is $ \\S = \\mymatrix{cc}{ 1 & 0 \\\\ 0 & e^{i\\pi/2} }$.\n",
        "\n",
        "The matrix form of $ RZ(\\pi/2) $ is $ \\mymatrix{c}{e^{-i\\pi/4} & 0 \\\\ 0 & e^{i\\pi/4}} = e^{-i\\pi/4} \\mymatrix{cc}{ 1 & 0 \\\\ 0 & e^{i\\pi/2} } $.\n",
        "\n",
        "So, $ S $ and $ RZ(\\pi/2) $ differ by a global phase. If we apply them on a single qubit, their affects will be the same.\n",
        "\n",
        "What about their controlled versions ($CS$ and $CRZ$)?"
      ]
    },
    {
      "cell_type": "markdown",
      "metadata": {
        "id": "T3FRsV6YPStC"
      },
      "source": [
        "We assume q1 is the target qubit, and q0 is the control qubit.\n",
        "\n",
        "We will apply each twice and then print their matrices.\n",
        "\n",
        "We start with $ CRZ(\\pi/2) $."
      ]
    },
    {
      "cell_type": "code",
      "execution_count": 10,
      "metadata": {
        "id": "ZDTtXllPPStD",
        "outputId": "bb8e08ca-586b-4985-dd5b-2be48a0224dc",
        "colab": {
          "base_uri": "https://localhost:8080/"
        }
      },
      "outputs": [
        {
          "output_type": "stream",
          "name": "stdout",
          "text": [
            " 1  0  0  0 \n",
            " 0  1  0  0 \n",
            " 0  0 -i  0 \n",
            " 0  0  0  i \n"
          ]
        }
      ],
      "source": [
        "import cirq\n",
        "from cirq import rz\n",
        "from math import pi\n",
        "\n",
        "circuit = cirq.Circuit()\n",
        "\n",
        "q0, q1 = cirq.LineQubit.range(2) #create 2 qubits\n",
        "\n",
        "circuit.append(rz(pi/2).on(q1).controlled_by(q0))\n",
        "circuit.append(rz(pi/2).on(q1).controlled_by(q0))\n",
        "\n",
        "U = cirq.unitary(circuit) # read the matrix of circuit\n",
        "\n",
        "for row in U:\n",
        "    row_str = \"\"\n",
        "    for col in row:\n",
        "        real = round(col.real,1)\n",
        "        imag = round(col.imag,1)\n",
        "        if real == 0 and imag == 0:\n",
        "            c = \" 0 \"\n",
        "        elif real==1 and imag == 0:\n",
        "            c = \" 1 \"\n",
        "        elif real == 0 and imag == 1:\n",
        "            c = \" i \"\n",
        "        elif real == 0 and imag == -1:\n",
        "            c = \"-i \"\n",
        "        elif real == -1 and imag == 0:\n",
        "            c = \"-1 \"\n",
        "        else:\n",
        "            c = str(real)+\"+\"+str(imag)+\"i \"\n",
        "        row_str = row_str + c\n",
        "    print(row_str)"
      ]
    },
    {
      "cell_type": "markdown",
      "metadata": {
        "id": "OuLRAH5qPStD"
      },
      "source": [
        "We repeat the same code for $CS$."
      ]
    },
    {
      "cell_type": "code",
      "execution_count": 11,
      "metadata": {
        "id": "ijJsvqTyPStD",
        "outputId": "dfcbaec1-e073-414a-c83e-133c70730691",
        "colab": {
          "base_uri": "https://localhost:8080/"
        }
      },
      "outputs": [
        {
          "output_type": "stream",
          "name": "stdout",
          "text": [
            " 1  0  0  0 \n",
            " 0  1  0  0 \n",
            " 0  0  1  0 \n",
            " 0  0  0 -1 \n"
          ]
        }
      ],
      "source": [
        "import cirq\n",
        "from cirq import S\n",
        "from math import pi\n",
        "\n",
        "circuit = cirq.Circuit()\n",
        "\n",
        "q0, q1 = cirq.LineQubit.range(2) #create 2 qubits\n",
        "\n",
        "circuit.append(S.on(q1).controlled_by(q0))\n",
        "circuit.append(S.on(q1).controlled_by(q0))\n",
        "\n",
        "U = cirq.unitary(circuit) # read the matrix of circuit\n",
        "\n",
        "for row in U:\n",
        "    row_str = \"\"\n",
        "    for col in row:\n",
        "        real = round(col.real,1)\n",
        "        imag = round(col.imag,1)\n",
        "        if real == 0 and imag == 0:\n",
        "            c = \" 0 \"\n",
        "        elif real==1 and imag == 0:\n",
        "            c = \" 1 \"\n",
        "        elif real == 0 and imag == 1:\n",
        "            c = \" i \"\n",
        "        elif real == 0 and imag == -1:\n",
        "            c = \"-i \"\n",
        "        elif real == -1 and imag == 0:\n",
        "            c = \"-1 \"\n",
        "        else:\n",
        "            c = str(real)+\"+\"+str(imag)+\"i \"\n",
        "        row_str = row_str + c\n",
        "    print(row_str)"
      ]
    },
    {
      "cell_type": "markdown",
      "metadata": {
        "id": "ZSGgOCYCPStD"
      },
      "source": [
        "The matrices are different:\n",
        "$ CRZ(\\pi/2)^2 = \\mymatrix{rrrr}{\n",
        "    1 & 0 & 0 & 0 \\\\\n",
        "    0 & 1 & 0 & 0 \\\\\n",
        "    0 & 0 & -i & 0 \\\\\n",
        "    0 & 0 & 0 & i \\\\\n",
        "    } $\n",
        "and\n",
        "$ CS^2 = \\mymatrix{rrrr}{\n",
        "    1 & 0 & 0 & 0 \\\\\n",
        "    0 & 1 & 0 & 0 \\\\\n",
        "    0 & 0 & 1 & 0 \\\\\n",
        "    0 & 0 & 0 & -1 \\\\\n",
        "    } $.\n",
        "    \n",
        "Moreover they do not differ by some global phase.\n",
        "    \n",
        "To observe the difference more clearly, we apply Hadamard operator to each qubit at the beginning. After control gates,  we check the inner product of the final states.    "
      ]
    },
    {
      "cell_type": "code",
      "execution_count": 12,
      "metadata": {
        "id": "UuHcX6CkPStD",
        "outputId": "ad294c99-74b6-459e-e8cf-3faf5b20b680",
        "colab": {
          "base_uri": "https://localhost:8080/"
        }
      },
      "outputs": [
        {
          "output_type": "stream",
          "name": "stdout",
          "text": [
            "circuit with RZ(π/2) is\n",
            "0: ───H───@──────────@──────────\n",
            "          │          │\n",
            "1: ───H───Rz(0.5π)───Rz(0.5π)───\n",
            "\n",
            "circuit with S is\n",
            "0: ───H───@───────@───────\n",
            "          │       │\n",
            "1: ───H───@^0.5───@^0.5───\n",
            "\n",
            "state 1 is [0.49999997+0.j         0.49999997+0.j         0.        -0.49999994j\n",
            " 0.        +0.49999994j]\n",
            "\n",
            "state 2 is  [ 0.49999997+0.j  0.49999997+0.j  0.49999997+0.j -0.49999997+0.j]\n",
            "\n",
            "\n",
            "their inner product is 0.5 -0.5 i\n"
          ]
        }
      ],
      "source": [
        "import cirq\n",
        "from cirq import H, rz, S\n",
        "from math import pi\n",
        "import numpy as np\n",
        "\n",
        "sim = cirq.Simulator()\n",
        "\n",
        "### RZ(pi/2)\n",
        "circuit = cirq.Circuit()\n",
        "q0, q1 = cirq.LineQubit.range(2)\n",
        "circuit.append(H.on(q0))\n",
        "circuit.append(H.on(q1))\n",
        "circuit.append(rz(pi/2).on(q1).controlled_by(q0))\n",
        "circuit.append(rz(pi/2).on(q1).controlled_by(q0))\n",
        "\n",
        "results = sim.simulate(circuit)\n",
        "state1 = results.state_vector()\n",
        "\n",
        "print(\"circuit with RZ(π/2) is\")\n",
        "print(circuit)\n",
        "print()\n",
        "\n",
        "\n",
        "### S\n",
        "circuit = cirq.Circuit()\n",
        "q0, q1 = cirq.LineQubit.range(2)\n",
        "circuit.append(H.on(q0))\n",
        "circuit.append(H.on(q1))\n",
        "circuit.append(S.on(q1).controlled_by(q0))\n",
        "circuit.append(S.on(q1).controlled_by(q0))\n",
        "\n",
        "results = sim.simulate(circuit)\n",
        "state2 = results.state_vector()\n",
        "\n",
        "print(\"circuit with S is\")\n",
        "print(circuit)\n",
        "print()\n",
        "\n",
        "\n",
        "###\n",
        "\n",
        "print(\"state 1 is\", state1)\n",
        "print()\n",
        "print(\"state 2 is \", state2)\n",
        "print()\n",
        "print()\n",
        "prod = np.inner(state1, state2)\n",
        "print(\"their inner product is\", round(prod.real,2), round(prod.imag,2), \"i\")"
      ]
    },
    {
      "cell_type": "markdown",
      "metadata": {
        "id": "XtUQ0qKsPStD"
      },
      "source": [
        "### Toffoli gate (`CCNOT` gate)\n",
        "\n",
        "Toffoli gate is NOT operator controlled by two qubits:\n",
        "\n",
        "    X.on(q2).controlled_by(q0, q1)\n",
        "    CCX.on(q0, q1, q2])              #(control, control, target)\n",
        "    CCNOT.on(q0, q1, q2)             #(control, control, target)\n",
        "    TOFFOLI.on(q0, q1, q2)           #(control, control, target)\n",
        "    \n",
        "If q0 and q1 are in $ \\ket{11} $, then `X` is applied to q2.\n",
        "\n",
        "Its transitons are as follows:\n",
        "\n",
        "- $ CCX \\ket{000} = \\ket{000}$\n",
        "- $ CCX \\ket{001} = \\ket{001}$\n",
        "- $ CCX \\ket{010} = \\ket{010}$\n",
        "- $ CCX \\ket{011} = \\ket{011}$\n",
        "- $ CCX \\ket{100} = \\ket{100}$\n",
        "- $ CCX \\ket{101} = \\ket{101}$\n",
        "- $ CCX \\ket{110} = \\ket{111}$\n",
        "- $ CCX \\ket{111} = \\ket{110}$\n",
        "\n",
        "Its matrix form is:\n",
        "\n",
        "$\n",
        "    CCX= \\mymatrix{cc|cc|cc|cc}{1 & 0 & 0 & 0 & 0 & 0 & 0 & 0 \\\\ 0 & 1 & 0 & 0 & 0 & 0 & 0 & 0 \\\\ \\hline 0 & 0 & 1 & 0 & 0 & 0 & 0 & 0 \\\\ 0 & 0 & 0 & 1 & 0 & 0 & 0 & 0 \\\\ \\hline 0 & 0 & 0 & 0 & 1 & 0 & 0 & 0 \\\\ 0 & 0 & 0 & 0 & 0 & 1 & 0 & 0 \\\\ \\hline 0 & 0 & 0 & 0 & 0 & 0 & 0 & 1 \\\\ 0 & 0 & 0 & 0 & 0 & 0 & 1 & 0} .\n",
        "$"
      ]
    },
    {
      "cell_type": "markdown",
      "metadata": {
        "id": "bvQAsuLBPStD"
      },
      "source": [
        "### Fredkin gate (controlled `SWAP` gate)\n",
        "\n",
        "This gate has one control qubit, and if it is in state $\\ket{1}$, then SWAP operator is applied to both target qubits.\n",
        "\n",
        "    SWAP.on(q1, q2).controlled_by(q0)\n",
        "    SWAP.controlled().on(q0, q1, q2)    #(control, target, target)\n",
        "    CSWAP.on(q0, q1, q2)                #(control, target, target)\n",
        "\n",
        "We denote it $ CSWAP $. Its transtions are as follows:\n",
        "\n",
        "- $ CSWAP \\ket{000} = \\ket{000}$\n",
        "- $ CSWAP \\ket{001} = \\ket{001}$\n",
        "- $ CSWAP \\ket{010} = \\ket{010}$\n",
        "- $ CSWAP \\ket{011} = \\ket{011}$\n",
        "- $ CSWAP \\ket{100} = \\ket{100}$\n",
        "- $ CSWAP \\ket{101} = \\ket{110}$\n",
        "- $ CSWAP \\ket{110} = \\ket{101}$\n",
        "- $ CSWAP \\ket{111} = \\ket{111}$\n",
        "\n",
        "Its matrix form is as follows:\n",
        "\n",
        "$\n",
        "    CSWAP = \\mymatrix{cccc|cccc}{1 & 0 & 0 & 0 & 0 & 0 & 0 & 0 \\\\ 0 & 1 & 0 & 0 & 0 & 0 & 0 & 0 \\\\ 0 & 0 & 1 & 0 & 0 & 0 & 0 & 0 \\\\ 0 & 0 & 0 & 1 & 0 & 0 & 0 & 0 \\\\ \\hline 0 & 0 & 0 & 0 & 1 & 0 & 0 & 0 \\\\ 0 & 0 & 0 & 0 & 0 & 0 & 1 & 0 \\\\ 0 & 0 & 0 & 0 & 0 & 1 & 0 & 0 \\\\ 0 & 0 & 0 & 0 & 0 & 0 & 0 & 1} .\n",
        "$"
      ]
    },
    {
      "cell_type": "markdown",
      "metadata": {
        "id": "HXpLqAOuPStD"
      },
      "source": [
        "### Task 7\n",
        "\n",
        "We define a gate as the multiplication of three `CSWAP` gates as follows:\n",
        "\n",
        "    SWAP.on(q0, q1).controlled_by(q2)\n",
        "    SWAP.on(q0, q2).controlled_by(q1)\n",
        "    SWAP.on(q1, q2).controlled_by(q0)\n",
        "\n",
        "For this gate, list down the transitons and then write down its matrix.\n",
        "\n",
        "Verify your matrix in Cirq, i.e., print the matrix of circuit implementing this gate."
      ]
    },
    {
      "cell_type": "code",
      "execution_count": 13,
      "metadata": {
        "id": "PxwK8IlHPStD",
        "outputId": "5ef53fb5-2213-4f46-da55-694209428239",
        "colab": {
          "base_uri": "https://localhost:8080/"
        }
      },
      "outputs": [
        {
          "output_type": "stream",
          "name": "stdout",
          "text": [
            "1.0   0.0   0.0   0.0   0.0   0.0   0.0   0.0   \n",
            "0.0   1.0   0.0   0.0   0.0   0.0   0.0   0.0   \n",
            "0.0   0.0   1.0   0.0   0.0   0.0   0.0   0.0   \n",
            "0.0   0.0   0.0   0.0   0.0   0.0   1.0   0.0   \n",
            "0.0   0.0   0.0   0.0   1.0   0.0   0.0   0.0   \n",
            "0.0   0.0   0.0   0.0   0.0   1.0   0.0   0.0   \n",
            "0.0   0.0   0.0   1.0   0.0   0.0   0.0   0.0   \n",
            "0.0   0.0   0.0   0.0   0.0   0.0   0.0   1.0   \n"
          ]
        }
      ],
      "source": [
        "#\n",
        "# Your solution here\n",
        "#\n",
        "import cirq\n",
        "from cirq import SWAP\n",
        "\n",
        "circuit = cirq.Circuit()\n",
        "\n",
        "q0, q1, q2 = cirq.LineQubit.range(3) #create 3 qubits\n",
        "\n",
        "circuit.append(SWAP.on(q0, q1).controlled_by(q2))\n",
        "circuit.append(SWAP.on(q0, q2).controlled_by(q1))\n",
        "circuit.append(SWAP.on(q1, q2).controlled_by(q0))\n",
        "\n",
        "U = cirq.unitary(circuit) # read the matrix of circuit\n",
        "\n",
        "for row in U:\n",
        "    row_str = \"\"\n",
        "    for col in row:\n",
        "        # we have only 0-1s\n",
        "        row_str += str(round(col.real,0)) + \"   \"\n",
        "    print(row_str)"
      ]
    },
    {
      "cell_type": "markdown",
      "metadata": {
        "id": "9kw_QVTZPStD"
      },
      "source": [
        "To check out our solution, run the next cell:"
      ]
    },
    {
      "cell_type": "code",
      "execution_count": null,
      "metadata": {
        "id": "QjPVWXoWPStD"
      },
      "outputs": [],
      "source": [
        "SolutionToTask7()  # show solution for task 7"
      ]
    }
  ],
  "metadata": {
    "kernelspec": {
      "display_name": "Python 3 (ipykernel)",
      "language": "python",
      "name": "python3"
    },
    "language_info": {
      "codemirror_mode": {
        "name": "ipython",
        "version": 3
      },
      "file_extension": ".py",
      "mimetype": "text/x-python",
      "name": "python",
      "nbconvert_exporter": "python",
      "pygments_lexer": "ipython3",
      "version": "3.11.4"
    },
    "colab": {
      "provenance": [],
      "collapsed_sections": [
        "y_TSf3sRPSs9"
      ],
      "include_colab_link": true
    }
  },
  "nbformat": 4,
  "nbformat_minor": 0
}