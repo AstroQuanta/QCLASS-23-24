{
  "cells": [
    {
      "cell_type": "markdown",
      "metadata": {
        "id": "view-in-github",
        "colab_type": "text"
      },
      "source": [
        "<a href=\"https://colab.research.google.com/github/AstroQuanta/QCLASS-23-24/blob/QBook101/Appendices/QB_A2_Python08_Basics_Variables.ipynb\" target=\"_parent\"><img src=\"https://colab.research.google.com/assets/colab-badge.svg\" alt=\"Open In Colab\"/></a>"
      ]
    },
    {
      "cell_type": "markdown",
      "metadata": {
        "id": "SnBx8ahQQ4Rv"
      },
      "source": [
        "<a href=\"https://qworld.net\" target=\"_blank\" align=\"left\"><img src=\"https://gitlab.com/qworld/qeducation/qbook101/raw/main/qworld/images/header.jpg\" align=\"left\"></a>\n",
        "$ \\newcommand{\\bra}[1]{\\langle #1|} $\n",
        "$ \\newcommand{\\ket}[1]{|#1\\rangle} $\n",
        "$ \\newcommand{\\braket}[2]{\\langle #1|#2\\rangle} $\n",
        "$ \\newcommand{\\dot}[2]{ #1 \\cdot #2} $\n",
        "$ \\newcommand{\\biginner}[2]{\\left\\langle #1,#2\\right\\rangle} $\n",
        "$ \\newcommand{\\mymatrix}[2]{\\left( \\begin{array}{#1} #2\\end{array} \\right)} $\n",
        "$ \\newcommand{\\myvector}[1]{\\mymatrix{c}{#1}} $\n",
        "$ \\newcommand{\\myrvector}[1]{\\mymatrix{r}{#1}} $\n",
        "$ \\newcommand{\\mypar}[1]{\\left( #1 \\right)} $\n",
        "$ \\newcommand{\\mybigpar}[1]{ \\Big( #1 \\Big)} $\n",
        "$ \\newcommand{\\sqrttwo}{\\frac{1}{\\sqrt{2}}} $\n",
        "$ \\newcommand{\\dsqrttwo}{\\dfrac{1}{\\sqrt{2}}} $\n",
        "$ \\newcommand{\\onehalf}{\\frac{1}{2}} $\n",
        "$ \\newcommand{\\donehalf}{\\dfrac{1}{2}} $\n",
        "$ \\newcommand{\\hadamard}{ \\mymatrix{rr}{ \\sqrttwo & \\sqrttwo \\\\ \\sqrttwo & -\\sqrttwo }} $\n",
        "$ \\newcommand{\\vzero}{\\myvector{1\\\\0}} $\n",
        "$ \\newcommand{\\vone}{\\myvector{0\\\\1}} $\n",
        "$ \\newcommand{\\stateplus}{\\myvector{ \\sqrttwo \\\\  \\sqrttwo } } $\n",
        "$ \\newcommand{\\stateminus}{ \\myrvector{ \\sqrttwo \\\\ -\\sqrttwo } } $\n",
        "$ \\newcommand{\\myarray}[2]{ \\begin{array}{#1}#2\\end{array}} $\n",
        "$ \\newcommand{\\X}{ \\mymatrix{cc}{0 & 1 \\\\ 1 & 0}  } $\n",
        "$ \\newcommand{\\I}{ \\mymatrix{rr}{1 & 0 \\\\ 0 & 1}  } $\n",
        "$ \\newcommand{\\Z}{ \\mymatrix{rr}{1 & 0 \\\\ 0 & -1}  } $\n",
        "$ \\newcommand{\\Htwo}{ \\mymatrix{rrrr}{ \\frac{1}{2} & \\frac{1}{2} & \\frac{1}{2} & \\frac{1}{2} \\\\ \\frac{1}{2} & -\\frac{1}{2} & \\frac{1}{2} & -\\frac{1}{2} \\\\ \\frac{1}{2} & \\frac{1}{2} & -\\frac{1}{2} & -\\frac{1}{2} \\\\ \\frac{1}{2} & -\\frac{1}{2} & -\\frac{1}{2} & \\frac{1}{2} } } $\n",
        "$ \\newcommand{\\CNOT}{ \\mymatrix{cccc}{1 & 0 & 0 & 0 \\\\ 0 & 1 & 0 & 0 \\\\ 0 & 0 & 0 & 1 \\\\ 0 & 0 & 1 & 0} } $\n",
        "$ \\newcommand{\\norm}[1]{ \\left\\lVert #1 \\right\\rVert } $\n",
        "$ \\newcommand{\\pstate}[1]{ \\lceil \\mspace{-1mu} #1 \\mspace{-1.5mu} \\rfloor } $\n",
        "$ \\newcommand{\\greenbit}[1] {\\mathbf{{\\color{green}#1}}} $\n",
        "$ \\newcommand{\\bluebit}[1] {\\mathbf{{\\color{blue}#1}}} $\n",
        "$ \\newcommand{\\redbit}[1] {\\mathbf{{\\color{red}#1}}} $\n",
        "$ \\newcommand{\\brownbit}[1] {\\mathbf{{\\color{brown}#1}}} $\n",
        "$ \\newcommand{\\blackbit}[1] {\\mathbf{{\\color{black}#1}}} $"
      ]
    },
    {
      "cell_type": "markdown",
      "metadata": {
        "id": "QUh90uT7Q4Rx"
      },
      "source": [
        "_prepared by Abuzer Yakaryilmaz_"
      ]
    },
    {
      "cell_type": "markdown",
      "metadata": {
        "id": "45e7nJx0Q4Rx"
      },
      "source": [
        "<font size=\"28px\" style=\"font-size:28px;\" align=\"left\"><b> Basics of Python: Variables </b></font>\n",
        "<br><br>"
      ]
    },
    {
      "cell_type": "markdown",
      "metadata": {
        "jp-MarkdownHeadingCollapsed": true,
        "id": "kJ9pHDKLQ4Rx"
      },
      "source": [
        "##### <font color=\"#08b806\">Please execute the following cell, it is necessary to distinguish between your local environment and Google Colab's"
      ]
    },
    {
      "cell_type": "code",
      "execution_count": 1,
      "metadata": {
        "id": "fydueCeuQ4Rx"
      },
      "outputs": [],
      "source": [
        "import IPython\n",
        "\n",
        "def in_colab():\n",
        "    try:\n",
        "        import google.colab\n",
        "        return True\n",
        "    except:\n",
        "        return False\n",
        "\n",
        "SolutionToTask1 = lambda: IPython.display.display(IPython.display.Javascript('window.open(\"{url}\");'.format(url='https://colab.research.google.com/drive/1ZRJEuIwUyUsSoX-NN9Z6xhZe38eQC_hR?usp=sharing#scrollTo=HMQ9tpIzPemL' if in_colab() else 'QB_A2_Python08_Basics_Variables_Solutions.ipynb#task1')))\n",
        "SolutionToTask2 = lambda: IPython.display.display(IPython.display.Javascript('window.open(\"{url}\");'.format(url='https://colab.research.google.com/drive/1ZRJEuIwUyUsSoX-NN9Z6xhZe38eQC_hR?usp=sharing#scrollTo=ha4JOKJdPemM' if in_colab() else 'QB_A2_Python08_Basics_Variables_Solutions.ipynb#task2')))\n",
        "SolutionToTask3 = lambda: IPython.display.display(IPython.display.Javascript('window.open(\"{url}\");'.format(url='https://colab.research.google.com/drive/1ZRJEuIwUyUsSoX-NN9Z6xhZe38eQC_hR?usp=sharing#scrollTo=HzFTuczzPemM' if in_colab() else 'QB_A2_Python08_Basics_Variables_Solutions.ipynb#task3')))"
      ]
    },
    {
      "cell_type": "markdown",
      "metadata": {
        "id": "ya_DdiJhQ4Ry"
      },
      "source": [
        "##### We review using variables in Python here.\n",
        "\n",
        "Run each cell and check the results.\n",
        "\n",
        "<b> Indention of codes <u>matters</u> in Python!</b>\n",
        "\n",
        "In this notebook, each line of code should start from the left without any indention. Otherwise, you will get a syntax error.\n",
        "\n",
        "Comments can be indented.\n",
        "\n",
        "The codes belonging to a conditional or loop statement or a function/procedure are indented. We will see them later."
      ]
    },
    {
      "cell_type": "code",
      "execution_count": 2,
      "metadata": {
        "id": "TYCKSh3SQ4Ry"
      },
      "outputs": [],
      "source": [
        "# This is a comment\n",
        "# A comment is used for explanations/descriptions/etc.\n",
        "# Comments do not affect the programs"
      ]
    },
    {
      "cell_type": "code",
      "execution_count": 3,
      "metadata": {
        "id": "T__In6uwQ4Ry",
        "outputId": "8de5948a-29d2-43e8-b778-fabd37512081",
        "colab": {
          "base_uri": "https://localhost:8080/"
        }
      },
      "outputs": [
        {
          "output_type": "stream",
          "name": "stdout",
          "text": [
            "5\n"
          ]
        }
      ],
      "source": [
        "# let's define an integer variable named a\n",
        "a = 5\n",
        "\n",
        "# let's print its value\n",
        "print(a)"
      ]
    },
    {
      "cell_type": "code",
      "execution_count": 4,
      "metadata": {
        "id": "GpSXLCDgQ4Ry",
        "outputId": "067fa335-cde1-43ce-b3b4-197e64b7ad1a",
        "colab": {
          "base_uri": "https://localhost:8080/"
        }
      },
      "outputs": [
        {
          "output_type": "stream",
          "name": "stdout",
          "text": [
            "2 4 6\n"
          ]
        }
      ],
      "source": [
        "# let's define three integer variables named a, b, and c\n",
        "a = 2\n",
        "b = 4\n",
        "c = a + b # summation of a and b\n",
        "\n",
        "# let's print their values together\n",
        "print(a,b,c)\n",
        "# a single space will automatically appear in between"
      ]
    },
    {
      "cell_type": "code",
      "execution_count": 5,
      "metadata": {
        "id": "2Ruy33UQQ4Ry",
        "outputId": "b0f35f1e-bd14-49cf-a6f6-3bee9d4b8fe9",
        "colab": {
          "base_uri": "https://localhost:8080/"
        }
      },
      "outputs": [
        {
          "output_type": "stream",
          "name": "stdout",
          "text": [
            "6 4 2\n"
          ]
        }
      ],
      "source": [
        "# let's print their values in reverse order\n",
        "print(c,b,a)"
      ]
    },
    {
      "cell_type": "code",
      "execution_count": 6,
      "metadata": {
        "id": "YBA27f2-Q4Ry",
        "outputId": "e895b9f6-659e-4abe-a6a8-6a8ce5fbcf85",
        "colab": {
          "base_uri": "https://localhost:8080/"
        }
      },
      "outputs": [
        {
          "output_type": "stream",
          "name": "stdout",
          "text": [
            "12 48\n"
          ]
        }
      ],
      "source": [
        "# let's print their summation and multiplication\n",
        "print(a+b+c,a*b*c)"
      ]
    },
    {
      "cell_type": "code",
      "execution_count": 7,
      "metadata": {
        "id": "JMel-QacQ4Ry",
        "outputId": "75236ce1-c1b2-481a-96eb-b02973d1acee",
        "colab": {
          "base_uri": "https://localhost:8080/"
        }
      },
      "outputs": [
        {
          "output_type": "stream",
          "name": "stdout",
          "text": [
            "hello world\n",
            "hello quantum world\n"
          ]
        }
      ],
      "source": [
        "# let's define variables with string/text values\n",
        "\n",
        "hw = \"hello world\" # we can use double quotes\n",
        "hqw = 'hello quantum world' # we can use single quotes\n",
        "\n",
        "# let's print them\n",
        "print(hw)\n",
        "print(hqw)"
      ]
    },
    {
      "cell_type": "code",
      "execution_count": 8,
      "metadata": {
        "id": "za3BBWhkQ4Ry",
        "outputId": "961199ae-3cd0-42d2-9269-5a1df0a3cfad",
        "colab": {
          "base_uri": "https://localhost:8080/"
        }
      },
      "outputs": [
        {
          "output_type": "stream",
          "name": "stdout",
          "text": [
            "hello world and hello quantum world\n"
          ]
        }
      ],
      "source": [
        "# let's print them together by inserting another string in between\n",
        "print(hw,\"and\",hqw)"
      ]
    },
    {
      "cell_type": "code",
      "execution_count": 9,
      "metadata": {
        "id": "YpoxyQOWQ4Ry",
        "outputId": "29a1646e-9845-4902-9e32-a68a0a8434f0",
        "colab": {
          "base_uri": "https://localhost:8080/"
        }
      },
      "outputs": [
        {
          "output_type": "stream",
          "name": "stdout",
          "text": [
            "Hello World but Quantum World\n"
          ]
        }
      ],
      "source": [
        "# let's concatenate a few strings\n",
        "d = \"Hello \" + 'World' + \" but \" + 'Quantum ' + \"World\"\n",
        "\n",
        "# let's print the result\n",
        "print(d)"
      ]
    },
    {
      "cell_type": "code",
      "execution_count": 10,
      "metadata": {
        "id": "dXg11WAKQ4Rz",
        "outputId": "8dd2a1f1-cd86-4716-f1dd-93ff9c497931",
        "colab": {
          "base_uri": "https://localhost:8080/"
        }
      },
      "outputs": [
        {
          "output_type": "stream",
          "name": "stdout",
          "text": [
            "a = 2 , b = 4 , a+b = 6\n"
          ]
        }
      ],
      "source": [
        "# let's print numeric and string values together\n",
        "print(\"a =\",a,\", b =\",b,\", a+b =\",a+b)"
      ]
    },
    {
      "cell_type": "code",
      "execution_count": 11,
      "metadata": {
        "id": "SpwFSvbXQ4Rz",
        "outputId": "13681075-f19c-46a5-df76-e29a94022ff6",
        "colab": {
          "base_uri": "https://localhost:8080/"
        }
      },
      "outputs": [
        {
          "output_type": "stream",
          "name": "stdout",
          "text": [
            "2 4 -2\n"
          ]
        }
      ],
      "source": [
        "# let's subtract two numbers\n",
        "d = a-b\n",
        "print(a,b,d)"
      ]
    },
    {
      "cell_type": "code",
      "execution_count": 12,
      "metadata": {
        "id": "phA4hIz0Q4Rz",
        "outputId": "b3bbca75-e310-43bf-e75f-9fad8dd93c54",
        "colab": {
          "base_uri": "https://localhost:8080/"
        }
      },
      "outputs": [
        {
          "output_type": "stream",
          "name": "stdout",
          "text": [
            "2 4 0.5\n"
          ]
        }
      ],
      "source": [
        "# let's divide two numbers\n",
        "d = a/b\n",
        "print(a,b,d)"
      ]
    },
    {
      "cell_type": "code",
      "execution_count": 13,
      "metadata": {
        "id": "-gSYpTcjQ4Rz",
        "outputId": "51e417e0-6e75-462e-f415-9a2e563b3dfd",
        "colab": {
          "base_uri": "https://localhost:8080/"
        }
      },
      "outputs": [
        {
          "output_type": "stream",
          "name": "stdout",
          "text": [
            "5\n"
          ]
        }
      ],
      "source": [
        "# let's divide integers over integers\n",
        "# the result is always an integer (with possible integer remainder)\n",
        "d = 33 // 6\n",
        "print(d)"
      ]
    },
    {
      "cell_type": "code",
      "execution_count": 14,
      "metadata": {
        "id": "otoX17uQQ4Rz",
        "outputId": "cb0eed41-e60a-4770-e448-85e04045923c",
        "colab": {
          "base_uri": "https://localhost:8080/"
        }
      },
      "outputs": [
        {
          "output_type": "stream",
          "name": "stdout",
          "text": [
            "3\n"
          ]
        }
      ],
      "source": [
        "# reminder/mod operator\n",
        "r = 33 % 6\n",
        "# 33 mod 6 = 3\n",
        "# or when 33 is divided by 6 over integers, the reminder is 3\n",
        "# 33 = 5 * 6 + 3\n",
        "\n",
        "# let's print the result\n",
        "print(r)"
      ]
    },
    {
      "cell_type": "code",
      "execution_count": 15,
      "metadata": {
        "id": "rzbOEnboQ4Rz",
        "outputId": "6b4fccb4-3952-48db-9620-04388cd19df1",
        "colab": {
          "base_uri": "https://localhost:8080/"
        }
      },
      "outputs": [
        {
          "output_type": "stream",
          "name": "stdout",
          "text": [
            "True False\n"
          ]
        }
      ],
      "source": [
        "# Booleen variables\n",
        "t = True\n",
        "f = False\n",
        "\n",
        "# let's print their values\n",
        "print(t,f)"
      ]
    },
    {
      "cell_type": "code",
      "execution_count": 16,
      "metadata": {
        "id": "KdmDgHRoQ4Rz",
        "outputId": "9387d947-0d13-40b9-a534-0c251943d59c",
        "colab": {
          "base_uri": "https://localhost:8080/"
        }
      },
      "outputs": [
        {
          "output_type": "stream",
          "name": "stdout",
          "text": [
            "False\n",
            "the negation of True is False\n",
            "True\n",
            "the negation of False is True\n"
          ]
        }
      ],
      "source": [
        "# print their negations\n",
        "print(not t)\n",
        "print(\"the negation of\",t,\"is\",not t)\n",
        "\n",
        "print(not f)\n",
        "print(\"the negation of\",f,\"is\",not f)"
      ]
    },
    {
      "cell_type": "code",
      "execution_count": 17,
      "metadata": {
        "id": "6cDZ5CuwQ4Rz",
        "outputId": "86f7a931-250a-48e8-da36-e16217616637",
        "colab": {
          "base_uri": "https://localhost:8080/"
        }
      },
      "outputs": [
        {
          "output_type": "stream",
          "name": "stdout",
          "text": [
            "-3.4444 11.86389136\n"
          ]
        }
      ],
      "source": [
        "# define a float variable\n",
        "\n",
        "d = -3.4444\n",
        "\n",
        "# let's print its value and its square\n",
        "print(d, d * d)"
      ]
    },
    {
      "cell_type": "markdown",
      "metadata": {
        "id": "uld-iT6SQ4Rz"
      },
      "source": [
        "Let's use parentheses in our expressions.\n",
        "\n",
        "$(23 * 13)-(11 * 15) $\n",
        "\n",
        "Here $*$ represents the multiplication operator"
      ]
    },
    {
      "cell_type": "code",
      "execution_count": 18,
      "metadata": {
        "id": "wlN7-5ZdQ4Rz",
        "outputId": "268ad3f6-1ed4-4823-91b4-8319317942af",
        "colab": {
          "base_uri": "https://localhost:8080/"
        }
      },
      "outputs": [
        {
          "output_type": "stream",
          "name": "stdout",
          "text": [
            "134\n"
          ]
        }
      ],
      "source": [
        "e = (23*13) - (11 * 15)\n",
        "print(e)"
      ]
    },
    {
      "cell_type": "markdown",
      "metadata": {
        "id": "UuBiqUNDQ4Rz"
      },
      "source": [
        "Let's consider a more complex expression.\n",
        "\n",
        "$  -3 * (123- 34 * 11 ) + 4 * (5+ (23 * 15) ) $"
      ]
    },
    {
      "cell_type": "code",
      "execution_count": 19,
      "metadata": {
        "id": "-ZEh_9PcQ4Rz",
        "outputId": "2cf2341a-727f-4ac8-813a-83a94d938c4f",
        "colab": {
          "base_uri": "https://localhost:8080/"
        }
      },
      "outputs": [
        {
          "output_type": "stream",
          "name": "stdout",
          "text": [
            "2153\n"
          ]
        }
      ],
      "source": [
        "# we can use more than one variable\n",
        "\n",
        "# left is the variable for the left part of the expression\n",
        "# we start with the multiplication inside the parentheses\n",
        "left = 34*11\n",
        "# we continue with the substruction inside the parentheses\n",
        "#     we reuse the variable named left\n",
        "left = 123 - left\n",
        "# we reuse left again for the multiplication with -3\n",
        "left = -3 * left\n",
        "\n",
        "# right is the variable for the right part of the expression\n",
        "# we use the same idea here\n",
        "right = 23 * 15\n",
        "right = 5 + right\n",
        "right = 4 * right\n",
        "\n",
        "# at the end, we use left for the result\n",
        "left = left + right\n",
        "\n",
        "# let's print the result\n",
        "print(left)"
      ]
    },
    {
      "cell_type": "markdown",
      "metadata": {
        "id": "75jEie14Q4Rz"
      },
      "source": [
        "<h3> Task 1 </h3>\n",
        "\n",
        "Define three variables $n1$, $n2$, and $n3$, and set their values to $3$, $-4$, and $6$.\n",
        "\n",
        "Define a new variable $r1$, and set its value to $ (2 \\cdot n1 + 3 \\cdot n2) \\cdot 2 - 5 \\cdot n3 $, where $\\cdot$ represents the multiplication operator.\n",
        "\n",
        "<i>The multiplication operator in python (and in many other programming languages) is *.</i>\n",
        "\n",
        "Then, print the value of $r1$.\n",
        "\n",
        "As you may verify it by yourself,  the result should be $-42$."
      ]
    },
    {
      "cell_type": "code",
      "execution_count": 21,
      "metadata": {
        "id": "2yomjwwAQ4Rz",
        "outputId": "2d2aed71-28b6-4d3f-fc43-2468f6370161",
        "colab": {
          "base_uri": "https://localhost:8080/"
        }
      },
      "outputs": [
        {
          "output_type": "stream",
          "name": "stdout",
          "text": [
            "-42\n"
          ]
        }
      ],
      "source": [
        "#\n",
        "# your solution is here\n",
        "#\n",
        "n1 = 3\n",
        "n2 = -4\n",
        "n3 = 6\n",
        "r1 = (2 * n1 + 3 * n2) * 2 - 5 * n3\n",
        "print(r1)"
      ]
    },
    {
      "cell_type": "markdown",
      "metadata": {
        "id": "MkbEc759Q4Rz"
      },
      "source": [
        "To check out our solution, run the next cell:"
      ]
    },
    {
      "cell_type": "code",
      "execution_count": null,
      "metadata": {
        "id": "chzWOt3RQ4Rz"
      },
      "outputs": [],
      "source": [
        "SolutionToTask1()  # show solution for task 1"
      ]
    },
    {
      "cell_type": "markdown",
      "metadata": {
        "id": "k39yA7mGQ4Rz"
      },
      "source": [
        "<h3> Task 2 </h3>\n",
        "\n",
        "By using the same variables (you may not need to define them again), calculate and print the following value in python:\n",
        "$$\n",
        "    \\dfrac{(n1-n2)\\cdot(n2-n3)}{(n3-n1)\\cdot(n3+1)} .\n",
        "$$\n",
        "\n",
        "You should see $ -3.3333333333333335 $ as the outcome.\n",
        "\n",
        "You may round any float number up to a decimal digit by $ round(variable,digit) $."
      ]
    },
    {
      "cell_type": "code",
      "execution_count": 23,
      "metadata": {
        "id": "V5oYxeSJQ4R0",
        "outputId": "9b3c31e1-d71a-4fcf-e0f4-c6c06c2b8ae2",
        "colab": {
          "base_uri": "https://localhost:8080/"
        }
      },
      "outputs": [
        {
          "output_type": "execute_result",
          "data": {
            "text/plain": [
              "-3.3333333333333335"
            ]
          },
          "metadata": {},
          "execution_count": 23
        }
      ],
      "source": [
        "#\n",
        "# your solution is here\n",
        "#\n",
        "(n1 - n2) * (n2 - n3)/((n3 - n1) * (n3 + 1))"
      ]
    },
    {
      "cell_type": "markdown",
      "metadata": {
        "id": "dlR7wFX0Q4R0"
      },
      "source": [
        "To check out our solution, run the next cell:"
      ]
    },
    {
      "cell_type": "code",
      "execution_count": null,
      "metadata": {
        "id": "sAWVDOtRQ4R0"
      },
      "outputs": [],
      "source": [
        "SolutionToTask2()  # show solution for task 2"
      ]
    },
    {
      "cell_type": "markdown",
      "metadata": {
        "id": "nRh2am6zQ4R0"
      },
      "source": [
        "<h3> Task 3 </h3>\n",
        "\n",
        "Define variables N and S, and set their values to your name and surname.\n",
        "\n",
        "Then, print the values of N and S with a prefix phrase \"hello from the quantum world to\"."
      ]
    },
    {
      "cell_type": "code",
      "execution_count": 29,
      "metadata": {
        "id": "oFeOC2OSQ4R0",
        "outputId": "e2842638-bd9b-43d6-b671-f4e0e3997a18",
        "colab": {
          "base_uri": "https://localhost:8080/"
        }
      },
      "outputs": [
        {
          "output_type": "stream",
          "name": "stdout",
          "text": [
            "Hello from the quantum world to Raj Bhattacherjee\n"
          ]
        }
      ],
      "source": [
        "#\n",
        "# your solution is here\n",
        "#\n",
        "N = \"Raj\"\n",
        "S = 'Bhattacherjee'\n",
        "\n",
        "print(\"Hello from the quantum world to\",N, S)"
      ]
    },
    {
      "cell_type": "markdown",
      "metadata": {
        "id": "nydx1AhZQ4R0"
      },
      "source": [
        "To check out our solution, run the next cell:"
      ]
    },
    {
      "cell_type": "code",
      "execution_count": null,
      "metadata": {
        "id": "9_DzEniXQ4R0"
      },
      "outputs": [],
      "source": [
        "SolutionToTask3()  # show solution for task 3"
      ]
    }
  ],
  "metadata": {
    "kernelspec": {
      "display_name": "Python 3 (ipykernel)",
      "language": "python",
      "name": "python3"
    },
    "language_info": {
      "codemirror_mode": {
        "name": "ipython",
        "version": 3
      },
      "file_extension": ".py",
      "mimetype": "text/x-python",
      "name": "python",
      "nbconvert_exporter": "python",
      "pygments_lexer": "ipython3",
      "version": "3.11.4"
    },
    "colab": {
      "provenance": [],
      "collapsed_sections": [
        "kJ9pHDKLQ4Rx"
      ],
      "include_colab_link": true
    }
  },
  "nbformat": 4,
  "nbformat_minor": 0
}