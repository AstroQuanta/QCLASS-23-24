{
  "cells": [
    {
      "cell_type": "markdown",
      "metadata": {
        "id": "view-in-github",
        "colab_type": "text"
      },
      "source": [
        "<a href=\"https://colab.research.google.com/github/AstroQuanta/QCLASS-23-24/blob/QBook101/Fundamentals%20of%20Quantum%20Computers%20with%20Programming/Chapter%203%3A%20Quantum%20Systems%20with%20Complex%20Numbers/QB31_C03_Briefly_Unitary_Operators.ipynb\" target=\"_parent\"><img src=\"https://colab.research.google.com/assets/colab-badge.svg\" alt=\"Open In Colab\"/></a>"
      ]
    },
    {
      "cell_type": "markdown",
      "metadata": {
        "id": "74Pn2u0V0829"
      },
      "source": [
        "<a href=\"https://qworld.net\" target=\"_blank\" align=\"left\"><img src=\"https://gitlab.com/qworld/qeducation/qbook101/raw/main/qworld/images/header.jpg\" align=\"left\"></a>\n",
        "$ \\newcommand{\\bra}[1]{\\langle #1|} $\n",
        "$ \\newcommand{\\ket}[1]{|#1\\rangle} $\n",
        "$ \\newcommand{\\braket}[2]{\\langle #1|#2\\rangle} $\n",
        "$ \\newcommand{\\dot}[2]{ #1 \\cdot #2} $\n",
        "$ \\newcommand{\\biginner}[2]{\\left\\langle #1,#2\\right\\rangle} $\n",
        "$ \\newcommand{\\mymatrix}[2]{\\left( \\begin{array}{#1} #2\\end{array} \\right)} $\n",
        "$ \\newcommand{\\myvector}[1]{\\mymatrix{c}{#1}} $\n",
        "$ \\newcommand{\\myrvector}[1]{\\mymatrix{r}{#1}} $\n",
        "$ \\newcommand{\\mypar}[1]{\\left( #1 \\right)} $\n",
        "$ \\newcommand{\\mybigpar}[1]{ \\Big( #1 \\Big)} $\n",
        "$ \\newcommand{\\sqrttwo}{\\frac{1}{\\sqrt{2}}} $\n",
        "$ \\newcommand{\\dsqrttwo}{\\dfrac{1}{\\sqrt{2}}} $\n",
        "$ \\newcommand{\\onehalf}{\\frac{1}{2}} $\n",
        "$ \\newcommand{\\donehalf}{\\dfrac{1}{2}} $\n",
        "$ \\newcommand{\\hadamard}{ \\mymatrix{rr}{ \\sqrttwo & \\sqrttwo \\\\ \\sqrttwo & -\\sqrttwo }} $\n",
        "$ \\newcommand{\\vzero}{\\myvector{1\\\\0}} $\n",
        "$ \\newcommand{\\vone}{\\myvector{0\\\\1}} $\n",
        "$ \\newcommand{\\stateplus}{\\myvector{ \\sqrttwo \\\\  \\sqrttwo } } $\n",
        "$ \\newcommand{\\stateminus}{ \\myrvector{ \\sqrttwo \\\\ -\\sqrttwo } } $\n",
        "$ \\newcommand{\\myarray}[2]{ \\begin{array}{#1}#2\\end{array}} $\n",
        "$ \\newcommand{\\X}{ \\mymatrix{cc}{0 & 1 \\\\ 1 & 0}  } $\n",
        "$ \\newcommand{\\Z}{ \\mymatrix{rr}{1 & 0 \\\\ 0 & -1}  } $\n",
        "$ \\newcommand{\\Htwo}{ \\mymatrix{rrrr}{ \\frac{1}{2} & \\frac{1}{2} & \\frac{1}{2} & \\frac{1}{2} \\\\ \\frac{1}{2} & -\\frac{1}{2} & \\frac{1}{2} & -\\frac{1}{2} \\\\ \\frac{1}{2} & \\frac{1}{2} & -\\frac{1}{2} & -\\frac{1}{2} \\\\ \\frac{1}{2} & -\\frac{1}{2} & -\\frac{1}{2} & \\frac{1}{2} } } $\n",
        "$ \\newcommand{\\CNOT}{ \\mymatrix{cccc}{1 & 0 & 0 & 0 \\\\ 0 & 1 & 0 & 0 \\\\ 0 & 0 & 0 & 1 \\\\ 0 & 0 & 1 & 0} } $\n",
        "$ \\newcommand{\\norm}[1]{ \\left\\lVert #1 \\right\\rVert } $\n",
        "$ \\newcommand{\\pstate}[1]{ \\lceil \\mspace{-1mu} #1 \\mspace{-1.5mu} \\rfloor } $\n",
        "$ \\newcommand{\\Y}{ \\mymatrix{rr}{0 & -i \\\\ i & 0} } $\n",
        "$ \\newcommand{\\S}{ \\mymatrix{rr}{1 & 0 \\\\ 0 & i} } $\n",
        "$ \\newcommand{\\T}{ \\mymatrix{rr}{1 & 0 \\\\ 0 & e^{i \\frac{\\pi}{4}}} } $\n",
        "$ \\newcommand{\\Sdg}{ \\mymatrix{rr}{1 & 0 \\\\ 0 & -i} } $\n",
        "$ \\newcommand{\\Tdg}{ \\mymatrix{rr}{1 & 0 \\\\ 0 & e^{-i \\frac{\\pi}{4}}} } $\n",
        "$ \\newcommand{\\qgate}[1]{ \\mathop{\\\\textit{#1} } }$"
      ]
    },
    {
      "cell_type": "markdown",
      "metadata": {
        "id": "I6rSjsSI083B"
      },
      "source": [
        "_prepared by Maksim Dimitrijev and Abuzer Yakaryilmaz_"
      ]
    },
    {
      "cell_type": "markdown",
      "metadata": {
        "id": "w6nWP-32083B"
      },
      "source": [
        "<font size=\"28px\" style=\"font-size:28px;\" align=\"left\"><b>Briefly unitary operators</b></font>\n",
        "<br>\n",
        "<br><br>"
      ]
    },
    {
      "cell_type": "markdown",
      "metadata": {
        "jp-MarkdownHeadingCollapsed": true,
        "id": "xAKzy5NC083C"
      },
      "source": [
        "##### <font color=\"#08b806\">Please execute the following cell, it is necessary to distinguish between your local environment and Google Colab's"
      ]
    },
    {
      "cell_type": "code",
      "execution_count": 1,
      "metadata": {
        "id": "t3zW5n0n083C",
        "outputId": "f70e84c4-04be-4807-8de5-1cb620d72cc3",
        "colab": {
          "base_uri": "https://localhost:8080/"
        }
      },
      "outputs": [
        {
          "output_type": "stream",
          "name": "stdout",
          "text": [
            "--2023-11-11 08:31:31--  https://gitlab.com/qworld/qeducation/qbook101/raw/main/qworld/include/random_complex_quantum_state.py\n",
            "Resolving gitlab.com (gitlab.com)... 172.65.251.78, 2606:4700:90:0:f22e:fbec:5bed:a9b9\n",
            "Connecting to gitlab.com (gitlab.com)|172.65.251.78|:443... connected.\n",
            "HTTP request sent, awaiting response... 200 OK\n",
            "Length: 870 [text/plain]\n",
            "Saving to: ‘random_complex_quantum_state.py’\n",
            "\n",
            "random_complex_quan 100%[===================>]     870  --.-KB/s    in 0s      \n",
            "\n",
            "2023-11-11 08:31:31 (11.1 MB/s) - ‘random_complex_quantum_state.py’ saved [870/870]\n",
            "\n",
            "--2023-11-11 08:31:31--  https://gitlab.com/qworld/qeducation/qbook101/raw/main/qworld/include/is_quantum_state.py\n",
            "Resolving gitlab.com (gitlab.com)... 172.65.251.78, 2606:4700:90:0:f22e:fbec:5bed:a9b9\n",
            "Connecting to gitlab.com (gitlab.com)|172.65.251.78|:443... connected.\n",
            "HTTP request sent, awaiting response... 200 OK\n",
            "Length: 675 [text/plain]\n",
            "Saving to: ‘is_quantum_state.py’\n",
            "\n",
            "is_quantum_state.py 100%[===================>]     675  --.-KB/s    in 0s      \n",
            "\n",
            "2023-11-11 08:31:31 (335 MB/s) - ‘is_quantum_state.py’ saved [675/675]\n",
            "\n"
          ]
        }
      ],
      "source": [
        "import IPython\n",
        "\n",
        "def in_colab():\n",
        "    try:\n",
        "        import google.colab\n",
        "        return True\n",
        "    except:\n",
        "        return False\n",
        "\n",
        "path_files = \"./\" if in_colab() else \"../qworld/include/\"\n",
        "\n",
        "SolutionToTask1 = lambda: IPython.display.display(IPython.display.Javascript('window.open(\"{url}\");'.format(url='https://colab.research.google.com/drive/1jynmgQ7ejXKuIaunzriQgqH0UJ3edZXZ?usp=sharing#scrollTo=agzOJ-EGtOcH' if in_colab() else 'QB31_C03_Briefly_Unitary_Operators_Solutions.ipynb#task1')))\n",
        "SolutionToTask2 = lambda: IPython.display.display(IPython.display.Javascript('window.open(\"{url}\");'.format(url='https://colab.research.google.com/drive/1jynmgQ7ejXKuIaunzriQgqH0UJ3edZXZ?usp=sharing#scrollTo=g2n_RuHTtOcI' if in_colab() else 'QB31_C03_Briefly_Unitary_Operators_Solutions.ipynb#task2')))\n",
        "SolutionToTask3 = lambda: IPython.display.display(IPython.display.Javascript('window.open(\"{url}\");'.format(url='https://colab.research.google.com/drive/1jynmgQ7ejXKuIaunzriQgqH0UJ3edZXZ?usp=sharing#scrollTo=LcGuNRL6tOcJ' if in_colab() else 'QB31_C03_Briefly_Unitary_Operators_Solutions.ipynb#task3')))\n",
        "SolutionToTask4 = lambda: IPython.display.display(IPython.display.Javascript('window.open(\"{url}\");'.format(url='https://colab.research.google.com/drive/1jynmgQ7ejXKuIaunzriQgqH0UJ3edZXZ?usp=sharing#scrollTo=bJAtlsaetOcK' if in_colab() else 'QB31_C03_Briefly_Unitary_Operators_Solutions.ipynb#task4')))\n",
        "\n",
        "if in_colab():\n",
        "    url = \"https://gitlab.com/qworld/qeducation/qbook101/raw/main/qworld/include/random_complex_quantum_state.py\"\n",
        "    !wget --no-cache -O random_complex_quantum_state.py {url}\n",
        "\n",
        "    url = \"https://gitlab.com/qworld/qeducation/qbook101/raw/main/qworld/include/is_quantum_state.py\"\n",
        "    !wget --no-cache -O is_quantum_state.py {url}"
      ]
    },
    {
      "cell_type": "markdown",
      "metadata": {
        "id": "2sCi9dvL083D"
      },
      "source": [
        "##### We have different and equivalent definitions of unitary matrices. Let $ U \\in \\mathbb{C}^{n \\times n} $ be a unitary matrix. Then:\n",
        "\n",
        "- $ U $ is length preserving.\n",
        "- The columns of $ U $ form an orthonormal set.\n",
        "- $ U^{\\dagger}U=I $ and $ U^{-1} = U^{\\dagger} $. (Remember that $ U^\\dagger $ is the conjugate transpose of $U$.)\n",
        "- The rows of $ U $ form an orthonormal set.\n",
        "\n",
        "Remark that $ U^\\dagger $ is unitary, as well, and $ U $ is a revesible operator."
      ]
    },
    {
      "cell_type": "markdown",
      "metadata": {
        "id": "PQMyw4Pm083D"
      },
      "source": [
        "## Conjugate transpose of a matrix"
      ]
    },
    {
      "cell_type": "markdown",
      "metadata": {
        "id": "bwM4WwrY083D"
      },
      "source": [
        "Here we explicitly represent the conjugate transpose of a matrix.\n",
        "\n",
        "Let $ U $ be the unitary matrix\n",
        "$\n",
        "U = \\mymatrix{cccc}{\n",
        "    a_{11} & a_{12} & \\ldots & a_{1n} \\\\\n",
        "    a_{21} & a_{22} & \\ldots & a_{2n} \\\\\n",
        "    \\vdots & \\vdots & \\ddots & \\vdots \\\\\n",
        "    a_{n1} & a_{n2} & \\ldots & a_{nn}\n",
        "    } .\n",
        "$\n",
        "\n",
        "To obtain $ U^\\dagger $, we exchange the rows and columns (the $k$th row becomes the $k$th column) as well as conjugate each value:\n",
        "\n",
        "$\n",
        "U^\\dagger = \\mymatrix{cccc}{\n",
        "    a_{11}^* & a_{21}^* & \\ldots & a_{n1}^* \\\\\n",
        "    a_{12}^* & a_{22}^* & \\ldots & a_{n2}^* \\\\\n",
        "    \\vdots & \\vdots & \\ddots & \\vdots \\\\\n",
        "    a_{1n}^* & a_{2n}^* & \\ldots & a_{nn}^*\n",
        "    } .\n",
        "$"
      ]
    },
    {
      "cell_type": "markdown",
      "metadata": {
        "id": "AEyjEMWo083E"
      },
      "source": [
        "## One qubit unitary operators\n",
        "\n",
        "We review a few one-qubit unitary operators for warming up."
      ]
    },
    {
      "cell_type": "markdown",
      "metadata": {
        "id": "VYVdqs-c083E"
      },
      "source": [
        "### Hadamard\n",
        "\n",
        "We start with Hadamard operator.\n",
        "\n",
        "$\n",
        "    H = \\hadamard.\n",
        "$\n",
        "\n",
        "It is easy to see that $H^{\\dagger} = H$, and $ HH= I $. Thus, $ H $ is a unitary operator, and so, a length preserving operator.\n",
        "\n",
        "Let $ \\ket{u} = \\myvector{ \\frac{1+i}{\\sqrt{3}} \\\\ -\\frac{1}{\\sqrt{3}} } $ be a quantum state.\n",
        "Observe that $ \\norm{u}^2 = \\braket{u}{u} = \\mypar{ \\frac{1-i}{\\sqrt{3}} ~~~ -\\frac{1}{\\sqrt{3}}  }  \\myvector{ \\frac{1+i}{\\sqrt{3}} \\\\ -\\frac{1}{\\sqrt{3}} } = \\frac{1-i^2}{3} + \\frac{1}{3} = \\frac{1-(-1)+1}{3} = 1 $."
      ]
    },
    {
      "cell_type": "markdown",
      "metadata": {
        "id": "ICY51hOG083E"
      },
      "source": [
        "We calculate $ \\ket{u'} = H \\ket{u} $.\n",
        "\n",
        "$ \\ket{u'} = \\hadamard \\myvector{ \\frac{1+i}{\\sqrt{3}} \\\\ -\\frac{1}{\\sqrt{3}} } = \\myvector{ \\left (\\frac{1+i}{\\sqrt{3}} \\cdot \\frac{1}{\\sqrt{2}} \\right ) +\n",
        "\\left(-\\frac{1}{\\sqrt{3}} \\cdot \\frac{1}{\\sqrt{2}} \\right ) \\\\ \\left ( \\frac{1+i}{\\sqrt{3}} \\cdot \\frac{1}{\\sqrt{2}} \\right ) +\n",
        "\\left ( -\\frac{1}{\\sqrt{3}} \\cdot -\\frac{1}{\\sqrt{2}} \\right ) } = \\myvector{ \\frac{1+i-1}{\\sqrt{6}} \\\\ \\frac{1+i+1}{\\sqrt{6}} } = \\myvector{ \\frac{i}{\\sqrt{6}} \\\\ \\frac{2+i}{\\sqrt{6}} }.\n",
        " $\n",
        "\n",
        "Then, we check $ \\norm{u'}^2 = \\braket{u'}{u'} = \\mypar{\\frac{-i}{\\sqrt{6}} ~~~ \\frac{2-i}{\\sqrt{6}} } \\myvector{ \\frac{i}{\\sqrt{6}} \\\\ \\frac{2+i}{\\sqrt{6}} } = \\frac{-i^2}{6} + \\frac{4-i^2}{6} \\ \\frac{-(-1)+4-(-1)}{6} = 1 $."
      ]
    },
    {
      "cell_type": "markdown",
      "metadata": {
        "id": "eSBnsrl8083E"
      },
      "source": [
        "### Pauli matrices\n",
        "\n",
        "Pauli matrices are well-known and fundamental single-qubit unitary operators.\n",
        "\n",
        "There are three Pauli matrices: $ X $, $ Y $, and $ Z $, which are rotations by $ \\pi $ respectively over the $ x $-axis, the $ y $-axis, and the $z$-axis.\n",
        "\n",
        "In our tutorial Bronze, we introduce $ X = \\X $ and $ Z = \\Z $, which do not have any entry with imaginary numbers.\n",
        "\n",
        "On the other hand, $ Y = \\Y $ has imaginary numbers in its off-diagonal entries.\n",
        "\n",
        "Similar to $ H $, $ X^\\dagger = X $, $ Y^\\dagger = Y $, and $ Z^\\dagger = Z $."
      ]
    },
    {
      "cell_type": "markdown",
      "metadata": {
        "id": "qgipg09Z083E"
      },
      "source": [
        "<h3> Task 1 </h3>\n",
        "\n",
        "Verify that $Y^{\\dagger} = Y$ and that $YY = I$.\n",
        "\n"
      ]
    },
    {
      "cell_type": "markdown",
      "source": [
        "<h3> Solution </h3>"
      ],
      "metadata": {
        "id": "RILLlN_VgpiP"
      }
    },
    {
      "cell_type": "markdown",
      "source": [
        "$\\overline{i} = -i, \\overline{-i} = i$.\n",
        "\n",
        "$Y^{\\dagger} = \\Y.$\n",
        "\n",
        "$\\Y \\Y = \\mymatrix{cc}{0 \\cdot 0 + -i \\cdot i & 0 \\cdot -i + -i \\cdot 0 \\\\ i \\cdot 0 + 0 \\cdot i & i \\cdot -i + 0 \\cdot 0} = \\mymatrix{cc}{-i^2 & 0 \\\\ 0 & -i^2} = \\mymatrix{cc}{1 & 0 \\\\ 0 & 1}$."
      ],
      "metadata": {
        "id": "7T00ixp3gvvJ"
      }
    },
    {
      "cell_type": "markdown",
      "metadata": {
        "id": "l0qvuv78083E"
      },
      "source": [
        "To check out our solution, run the next cell:"
      ]
    },
    {
      "cell_type": "code",
      "execution_count": 2,
      "metadata": {
        "id": "aenjIZMt083F",
        "outputId": "f4ba7479-5d25-4d3f-b90b-d323be84542b",
        "colab": {
          "base_uri": "https://localhost:8080/",
          "height": 17
        }
      },
      "outputs": [
        {
          "output_type": "display_data",
          "data": {
            "text/plain": [
              "<IPython.core.display.Javascript object>"
            ],
            "application/javascript": [
              "window.open(\"https://colab.research.google.com/drive/1jynmgQ7ejXKuIaunzriQgqH0UJ3edZXZ?usp=sharing#scrollTo=agzOJ-EGtOcH\");"
            ]
          },
          "metadata": {}
        }
      ],
      "source": [
        "SolutionToTask1()  # show solution for task 1"
      ]
    },
    {
      "cell_type": "markdown",
      "metadata": {
        "id": "XVGeE2DT083F"
      },
      "source": [
        "We calculate $ \\ket{v} = Y \\ket{u} $.\n",
        "\n",
        "$ \\ket{v} = \\Y  \\myvector{ \\frac{1+i}{\\sqrt{3}} \\\\ -\\frac{1}{\\sqrt{3}} } = \\myvector{ \\frac{i}{\\sqrt{3}} \\\\ \\frac{i-1}{\\sqrt{3}} } $.\n",
        "\n",
        "We check $ \\norm{v}^2 = \\braket{v}{v} = \\myvector{ \\frac{-i}{\\sqrt{3}} ~~~ \\frac{-i-1}{\\sqrt{3}} } \\myvector{ \\frac{i}{\\sqrt{3}} \\\\ \\frac{i-1}{\\sqrt{3}} } = \\frac{-i^2}{3} + \\frac{1-i^2}{3} = \\frac{-(-1)+1-(-1)}{3} = 1 $."
      ]
    },
    {
      "cell_type": "markdown",
      "metadata": {
        "id": "3CNCIimD083F"
      },
      "source": [
        "### A unitary operator\n",
        "\n",
        "Here is an ordinary single-qubit unitary operator:\n",
        "\n",
        "$\n",
        "M = \\mymatrix{cc}{ \\frac{1+i}{2} & \\frac{1-i}{2} \\\\ \\frac{1-i}{2} & \\frac{1+i}{2} }.\n",
        "$"
      ]
    },
    {
      "cell_type": "markdown",
      "metadata": {
        "id": "hzAry9Xq083F"
      },
      "source": [
        "<h3> Task 2</h3>\n",
        "\n",
        "Randomly create a 2-dimensional quantum state, where both amplitudes are complex number.\n",
        "\n",
        "_You may use your solution for <a href=\"C02_Quantum_States_With_Complex_Numbers.ipynb#task3\" target=\"_blank\">Task 3 on the notebook `Quantum states`</a>._\n",
        "\n",
        "Apply $ M $ to the randomly created state, and then verify the result to be a quantum state by checking its length.\n",
        "\n",
        "<b>Repeat several times:</b>\n",
        "<ul>\n",
        "    <li> Randomly pick a quantum state. </li>\n",
        "    <li> Apply the unitary operator $ M $ to this quantum state. </li>\n",
        "    <li> Check whether the length of the result vector is 1. </li>"
      ]
    },
    {
      "cell_type": "code",
      "execution_count": 3,
      "metadata": {
        "id": "ierRAqDa083F"
      },
      "outputs": [],
      "source": [
        "random_complex_quantum_state_file = path_files+\"random_complex_quantum_state.py\"\n",
        "%run $random_complex_quantum_state_file\n",
        "#Run this cell to load the function random_complex_quantum_state()\n",
        "\n",
        "from random import randrange\n",
        "def random_complex_quantum_state():\n",
        "    # quantum state\n",
        "    quantum_state=[0,0]\n",
        "    length_square = 0\n",
        "    while length_square == 0:\n",
        "        first_entry_real = randrange(-100,101)\n",
        "        first_entry_imag = randrange(-100,101)\n",
        "        second_entry_real = randrange(-100,101)\n",
        "        second_entry_imag = randrange(-100,101)\n",
        "        length_square = first_entry_real**2+first_entry_imag**2+second_entry_real**2+second_entry_imag**2\n",
        "    first_entry_real = first_entry_real / length_square**0.5\n",
        "    first_entry_imag = first_entry_imag / length_square**0.5\n",
        "    second_entry_real = second_entry_real / length_square**0.5\n",
        "    second_entry_imag = second_entry_imag / length_square**0.5\n",
        "    quantum_state[0] = complex(first_entry_real, first_entry_imag)\n",
        "    quantum_state[1] = complex(second_entry_real, second_entry_imag)\n",
        "    return quantum_state"
      ]
    },
    {
      "cell_type": "code",
      "execution_count": 4,
      "metadata": {
        "id": "k__BpKoj083F",
        "outputId": "604dcd78-8698-45fb-99da-11588414abc0",
        "colab": {
          "base_uri": "https://localhost:8080/"
        }
      },
      "outputs": [
        {
          "output_type": "stream",
          "name": "stdout",
          "text": [
            "[(0.32452031190022745+0.28588694143591464j), (-0.6258606015218672-0.6490406238004549j)]\n",
            "summation of entry squares is 1.0000000000000002\n",
            "Is it valid? True\n",
            "[(0.4855284332562159+0.44668615859571864j), (-0.3204487659491025+0.6797398065587023j)]\n",
            "summation of entry squares is 1.0\n",
            "Is it valid? True\n",
            "[(-0.007424741855494215-0.42321028576317027j), (-0.690500992560962-0.586554606584043j)]\n",
            "summation of entry squares is 1.0\n",
            "Is it valid? True\n",
            "[(-0.3796548742095504-0.4856050716633784j), (-0.6798471003287297-0.39731324045185507j)]\n",
            "summation of entry squares is 1.0\n",
            "Is it valid? True\n",
            "[(-0.7144375270002251+0.6230559828490335j), (-0.0830741310465378-0.3073742848721899j)]\n",
            "summation of entry squares is 0.9999999999999999\n",
            "Is it valid? True\n",
            "[(0.8686025392901671+0.38505061020079573j), (0.24177596454468567-0.1970026377771513j)]\n",
            "summation of entry squares is 0.9999999999999999\n",
            "Is it valid? True\n",
            "[(-0.5352714387359853+0.3823367419542752j), (-0.710053949343654+0.2512498589985237j)]\n",
            "summation of entry squares is 1.0\n",
            "Is it valid? True\n",
            "[(-0.6351073488299558-0.13760659224649044j), (-0.7409585736349484-0.16936195968798823j)]\n",
            "summation of entry squares is 1.0\n",
            "Is it valid? True\n",
            "[(-0.47915742374995496-0.47915742374995496j), (-0.031943828249996996-0.7347080497499309j)]\n",
            "summation of entry squares is 1.0\n",
            "Is it valid? True\n",
            "[(0.53648538097255-0.2774924384340776j), (-0.739979835824207+0.2959919343296828j)]\n",
            "summation of entry squares is 1.0\n",
            "Is it valid? True\n",
            "[(0.06892966838285568-0.7840749778549833j), (-0.6031345983499872-0.12924312821785439j)]\n",
            "summation of entry squares is 1.0\n",
            "Is it valid? True\n",
            "[(0.42487652063181636+0.23852716947751093j), (-0.6708576641554995-0.5590480534629163j)]\n",
            "summation of entry squares is 1.0000000000000004\n",
            "Is it valid? True\n",
            "[(-0.483903743767006+0.17122747856370982j), (0.5955738384824689-0.6179078574255615j)]\n",
            "summation of entry squares is 1.0\n",
            "Is it valid? True\n",
            "[(0.08427124215752024+0.08427124215752024j), (-0.9480514742721027-0.29494934755132085j)]\n",
            "summation of entry squares is 1.0\n",
            "Is it valid? True\n",
            "[(0.6141575834830798-0.6204244976002541j), (-0.43241707408502555-0.2256089082182742j)]\n",
            "summation of entry squares is 1.0\n",
            "Is it valid? True\n",
            "[(0.20262353366185015-0.6402903663714464j), (-0.6402903663714464-0.3728273019378043j)]\n",
            "summation of entry squares is 0.9999999999999998\n",
            "Is it valid? True\n",
            "[(-0.013758139056883268-0.6191162575597471j), (-0.770455787185463-0.15133952962571595j)]\n",
            "summation of entry squares is 1.0000000000000002\n",
            "Is it valid? True\n",
            "[(-0.026792122606939764+0.8752093384933656j), (-0.26792122606939767+0.40188183910409647j)]\n",
            "summation of entry squares is 1.0\n",
            "Is it valid? True\n",
            "[(0.5108279568579654+0.561910752543762j), (-0.6470487453534228-0.06811039424772872j)]\n",
            "summation of entry squares is 1.0\n",
            "Is it valid? True\n",
            "[(-0.5972011595748385+0.5480198876098519j), (0.5761234715898443+0.10538843992497152j)]\n",
            "summation of entry squares is 0.9999999999999999\n",
            "Is it valid? True\n"
          ]
        }
      ],
      "source": [
        "is_quantum_state_file = path_files+\"is_quantum_state.py\"\n",
        "%run $is_quantum_state_file\n",
        "#Run this cell to load the function is_quantum_state()\n",
        "\n",
        "def is_quantum_state(quantum_state):\n",
        "    length_square = 0\n",
        "    for i in range(len(quantum_state)):\n",
        "        length_square += abs(quantum_state[i])**2\n",
        "    print(\"summation of entry squares is\",length_square)\n",
        "    # there might be precision problem\n",
        "    # the length may be very close to 1 but not exactly 1\n",
        "    # so we use the following trick\n",
        "    if (length_square - 1)**2 < 0.00000001: return True\n",
        "    return False\n",
        "for i in range(10):\n",
        "    new_state = random_complex_quantum_state()\n",
        "    print(new_state)\n",
        "    print(\"Is it valid?\",is_quantum_state(new_state))"
      ]
    },
    {
      "cell_type": "code",
      "execution_count": 5,
      "metadata": {
        "id": "8hdl0fQp083F",
        "outputId": "2e91c6d5-bd2c-4c0a-8e35-5389c9c07810",
        "colab": {
          "base_uri": "https://localhost:8080/"
        }
      },
      "outputs": [
        {
          "output_type": "stream",
          "name": "stdout",
          "text": [
            "[(0.688998622004134-0.45579908840273475j), (-0.15899968200095396-0.5405989188032436j)]\n",
            "summation of entry squares is 1.0\n",
            "Is it valid? True\n",
            "[(0.31987654975167934+0.29478819290841035j), (-0.884364578725231-0.1693464086920655j)]\n",
            "summation of entry squares is 1.0\n",
            "Is it valid? True\n",
            "[(0.6988847879417384-0.15193147563950837j), (-0.6138031615836138-0.3342492464069184j)]\n",
            "summation of entry squares is 1.0\n",
            "Is it valid? True\n",
            "[(0.8820635274727128+0.011260385457098482j), (0.4691827273791025+0.04128808000936102j)]\n",
            "summation of entry squares is 1.0000000000000002\n",
            "Is it valid? True\n",
            "[(-0.24426925016311113+0.23598893659825984j), (0.5092392842383502-0.7907699454432917j)]\n",
            "summation of entry squares is 0.9999999999999998\n",
            "Is it valid? True\n",
            "[(-0.6843364477565327-0.4612934573766257j), (0.5423999993329555-0.157143925040389j)]\n",
            "summation of entry squares is 0.9999999999999998\n",
            "Is it valid? True\n",
            "[(0.21366922000721103+0.9432714346659804j), (-0.11986322097965496+0.22409210878805055j)]\n",
            "summation of entry squares is 0.9999999999999999\n",
            "Is it valid? True\n",
            "[(0.36610439579685955-0.591399408594927j), (-0.21590772059814795-0.6852723305941217j)]\n",
            "summation of entry squares is 1.0000000000000002\n",
            "Is it valid? True\n",
            "[(0.06268391408072221+0.2193936992825279j), (0.8148908830493895-0.5328132696861392j)]\n",
            "summation of entry squares is 1.0\n",
            "Is it valid? True\n",
            "[(0.2312830033475099+0.19273583612292494j), (-0.2312830033475099-0.9251320133900396j)]\n",
            "summation of entry squares is 1.0\n",
            "Is it valid? True\n"
          ]
        }
      ],
      "source": [
        "#\n",
        "# your code is here\n",
        "#\n",
        "for i in range(10):\n",
        "    initial_state = random_complex_quantum_state()\n",
        "    new_state = [0,0]\n",
        "    new_state[0] = initial_state[0] * complex(1/2,1/2) + initial_state[1] * complex(1/2,-1/2)\n",
        "    new_state[1] = initial_state[0] * complex(1/2,-1/2) + initial_state[1] * complex(1/2,1/2)\n",
        "    print(new_state)\n",
        "    print(\"Is it valid?\",is_quantum_state(new_state))"
      ]
    },
    {
      "cell_type": "markdown",
      "metadata": {
        "id": "iXeTzreI083F"
      },
      "source": [
        "To check out our solution, run the next cell:"
      ]
    },
    {
      "cell_type": "code",
      "execution_count": null,
      "metadata": {
        "id": "9DmsUxnd083F"
      },
      "outputs": [],
      "source": [
        "SolutionToTask2()  # show solution for task 2"
      ]
    },
    {
      "cell_type": "markdown",
      "metadata": {
        "id": "qAjK2S82083F"
      },
      "source": [
        "<h3> Task 3</h3>\n",
        "\n",
        "Repeat Task 2, but with Hadamard operator."
      ]
    },
    {
      "cell_type": "code",
      "execution_count": 6,
      "metadata": {
        "id": "8KkhYx48083F"
      },
      "outputs": [],
      "source": [
        "#\n",
        "# your code is here\n",
        "#\n",
        "from random import randrange\n",
        "def random_complex_quantum_state():\n",
        "    # quantum state\n",
        "    quantum_state=[0,0]\n",
        "    length_square = 0\n",
        "    while length_square == 0:\n",
        "        first_entry_real = randrange(-100,101)\n",
        "        first_entry_imag = randrange(-100,101)\n",
        "        second_entry_real = randrange(-100,101)\n",
        "        second_entry_imag = randrange(-100,101)\n",
        "        length_square = first_entry_real**2+first_entry_imag**2+second_entry_real**2+second_entry_imag**2\n",
        "    first_entry_real = first_entry_real / length_square**0.5\n",
        "    first_entry_imag = first_entry_imag / length_square**0.5\n",
        "    second_entry_real = second_entry_real / length_square**0.5\n",
        "    second_entry_imag = second_entry_imag / length_square**0.5\n",
        "    quantum_state[0] = complex(first_entry_real, first_entry_imag)\n",
        "    quantum_state[1] = complex(second_entry_real, second_entry_imag)\n",
        "    return quantum_state"
      ]
    },
    {
      "cell_type": "code",
      "source": [
        "# testing whether a given quantum state is valid\n",
        "def is_quantum_state(quantum_state):\n",
        "    length_square = 0\n",
        "    for i in range(len(quantum_state)):\n",
        "        length_square += abs(quantum_state[i])**2\n",
        "    print(\"summation of entry squares is\",length_square)\n",
        "    # there might be precision problem\n",
        "    # the length may be very close to 1 but not exactly 1\n",
        "    # so we use the following trick\n",
        "    if (length_square - 1)**2 < 0.00000001: return True\n",
        "    return False\n",
        "for i in range(10):\n",
        "    new_state = random_complex_quantum_state()\n",
        "    print(new_state)\n",
        "    print(\"Is it valid?\",is_quantum_state(new_state))"
      ],
      "metadata": {
        "id": "q6FkOoWIhpYa",
        "outputId": "0774a5b9-75a7-4b03-9bd2-39456f1e42b8",
        "colab": {
          "base_uri": "https://localhost:8080/"
        }
      },
      "execution_count": 7,
      "outputs": [
        {
          "output_type": "stream",
          "name": "stdout",
          "text": [
            "[(-0.38842206834047627-0.3280008577097355j), (0.586948903270053-0.6301069108634393j)]\n",
            "summation of entry squares is 1.0\n",
            "Is it valid? True\n",
            "[(0.5292859456351862+0.15978443641816942j), (0.5892051092919998+0.5892051092919998j)]\n",
            "summation of entry squares is 0.9999999999999999\n",
            "Is it valid? True\n",
            "[(0.15158997872806038+0.2743056757936331j), (0.656889907821595+0.6857641894840827j)]\n",
            "summation of entry squares is 0.9999999999999998\n",
            "Is it valid? True\n",
            "[(-0.05486377169695913+0.3108947062827684j), (0.8412444993533733+0.438910173575673j)]\n",
            "summation of entry squares is 1.0\n",
            "Is it valid? True\n",
            "[(0.5234111949052545-0.644198393729544j), (0.0483148795297158-0.5556211145917317j)]\n",
            "summation of entry squares is 1.0000000000000002\n",
            "Is it valid? True\n",
            "[(0.5895104327763472-0.4087272333916007j), (-0.28296500773264666+0.636671267398455j)]\n",
            "summation of entry squares is 1.0\n",
            "Is it valid? True\n",
            "[(-0.5425176551680696+0.47741553654790125j), (-0.5099665958579854-0.4665651834445399j)]\n",
            "summation of entry squares is 0.9999999999999999\n",
            "Is it valid? True\n",
            "[(-0.27062123910372754+0.2931730090290382j), (0.6540013278340082-0.6427254428713529j)]\n",
            "summation of entry squares is 1.0\n",
            "Is it valid? True\n",
            "[(0.5908615249283931+0.7349740919840987j), (-0.10087879693899394-0.3170476475225524j)]\n",
            "summation of entry squares is 0.9999999999999999\n",
            "Is it valid? True\n",
            "[(-0.7294010538043126+0.22199162507087775j), (-0.0792827232395992-0.6421900582407535j)]\n",
            "summation of entry squares is 1.0\n",
            "Is it valid? True\n"
          ]
        }
      ]
    },
    {
      "cell_type": "code",
      "source": [
        "for i in range(10):\n",
        "    initial_state = random_complex_quantum_state()\n",
        "    new_state = [0,0]\n",
        "    new_state[0] = initial_state[0] * (1/(2**0.5)) + initial_state[1] * (1/(2**0.5))\n",
        "    new_state[1] = initial_state[0] * (1/(2**0.5)) + initial_state[1] * (-1/(2**0.5))\n",
        "    print(new_state)\n",
        "    print(\"Is it valid?\",is_quantum_state(new_state))"
      ],
      "metadata": {
        "id": "uSr6DV18htQa",
        "outputId": "24353c6c-d614-46cb-e961-70a4422e4bfa",
        "colab": {
          "base_uri": "https://localhost:8080/"
        }
      },
      "execution_count": 8,
      "outputs": [
        {
          "output_type": "stream",
          "name": "stdout",
          "text": [
            "[(0.5656670693659478-0.4933143046796057j), (0.24994591437100017-0.6117097378027111j)]\n",
            "summation of entry squares is 0.9999999999999998\n",
            "Is it valid? True\n",
            "[(0.708748561709512+0.1206380530569382j), (-0.12566463860097726-0.6836156339893165j)]\n",
            "summation of entry squares is 0.9999999999999998\n",
            "Is it valid? True\n",
            "[(0.7793984233109469+0.38969921165547344j), (-0.29800527950124434+0.38969921165547344j)]\n",
            "summation of entry squares is 0.9999999999999996\n",
            "Is it valid? True\n",
            "[(0.5848482471537895+0.7878534238517989j), (0.17883789375777032-0.0725018488207177j)]\n",
            "summation of entry squares is 0.9999999999999999\n",
            "Is it valid? True\n",
            "[(-0.00992730053688018-0.2878917155695256j), (-0.9033843488560973+0.3176736171801661j)]\n",
            "summation of entry squares is 0.9999999999999999\n",
            "Is it valid? True\n",
            "[(0.9105254547642173+0.2693862292201827j), (0.026938622922018207-0.31248802589541186j)]\n",
            "summation of entry squares is 0.9999999999999999\n",
            "Is it valid? True\n",
            "[(0.8746436048723338+0.3714239965896212j), (0.2875540618758357-0.11981419244826491j)]\n",
            "summation of entry squares is 1.0\n",
            "Is it valid? True\n",
            "[(-0.14199384650651947-0.1747616572387932j), (-0.7755048539971447-0.5898205931809269j)]\n",
            "summation of entry squares is 0.9999999999999998\n",
            "Is it valid? True\n",
            "[(0.07871603029325785-0.7740409645503687j), (-0.5510122120528049+0.30174478279082173j)]\n",
            "summation of entry squares is 0.9999999999999998\n",
            "Is it valid? True\n",
            "[(0.9048072135034468-0.4228496022905557j), (-0.004546769917102733+0.05001446908813026j)]\n",
            "summation of entry squares is 0.9999999999999997\n",
            "Is it valid? True\n"
          ]
        }
      ]
    },
    {
      "cell_type": "markdown",
      "metadata": {
        "id": "izz-C-xL083F"
      },
      "source": [
        "To check out our solution, run the next cell:"
      ]
    },
    {
      "cell_type": "code",
      "execution_count": null,
      "metadata": {
        "id": "8jtwy7GP083F"
      },
      "outputs": [],
      "source": [
        "SolutionToTask3()  # show solution for task 3"
      ]
    },
    {
      "cell_type": "markdown",
      "metadata": {
        "id": "qBwEMVrZ083G"
      },
      "source": [
        "<h3> Task 4</h3>\n",
        "\n",
        "Repeat Task 2 with the following two basic single-qubit unitary operators.\n",
        "\n",
        "$\n",
        "S = \\S ~~ \\mbox{ and } ~~ T = \\T.\n",
        "$"
      ]
    },
    {
      "cell_type": "code",
      "execution_count": 9,
      "metadata": {
        "id": "RU-qXCKF083G"
      },
      "outputs": [],
      "source": [
        "#\n",
        "# your code is here\n",
        "#\n",
        "from random import randrange\n",
        "def random_complex_quantum_state():\n",
        "    # quantum state\n",
        "    quantum_state=[0,0]\n",
        "    length_square = 0\n",
        "    while length_square == 0:\n",
        "        first_entry_real = randrange(-100,101)\n",
        "        first_entry_imag = randrange(-100,101)\n",
        "        second_entry_real = randrange(-100,101)\n",
        "        second_entry_imag = randrange(-100,101)\n",
        "        length_square = first_entry_real**2+first_entry_imag**2+second_entry_real**2+second_entry_imag**2\n",
        "    first_entry_real = first_entry_real / length_square**0.5\n",
        "    first_entry_imag = first_entry_imag / length_square**0.5\n",
        "    second_entry_real = second_entry_real / length_square**0.5\n",
        "    second_entry_imag = second_entry_imag / length_square**0.5\n",
        "    quantum_state[0] = complex(first_entry_real, first_entry_imag)\n",
        "    quantum_state[1] = complex(second_entry_real, second_entry_imag)\n",
        "    return quantum_state"
      ]
    },
    {
      "cell_type": "code",
      "source": [
        "# is_quantum_state_file = path_files+\"is_quantum_state.py\"\n",
        "# %run $is_quantum_state_file      # same code as the next one\n",
        "\n",
        "# testing whether a given quantum state is valid\n",
        "def is_quantum_state(quantum_state):\n",
        "    length_square = 0\n",
        "    for i in range(len(quantum_state)):\n",
        "        length_square += abs(quantum_state[i])**2\n",
        "    print(\"summation of entry squares is\",length_square)\n",
        "    # there might be precision problem\n",
        "    # the length may be very close to 1 but not exactly 1\n",
        "    # so we use the following trick\n",
        "    if (length_square - 1)**2 < 0.00000001: return True\n",
        "    return False\n",
        "for i in range(10):\n",
        "    new_state = random_complex_quantum_state()\n",
        "    print(new_state)\n",
        "    print(\"Is it valid?\",is_quantum_state(new_state))\n"
      ],
      "metadata": {
        "id": "dKDIJ8WniAR7",
        "outputId": "11eb03c8-368b-410d-a4b7-3f66d6769e72",
        "colab": {
          "base_uri": "https://localhost:8080/"
        }
      },
      "execution_count": 10,
      "outputs": [
        {
          "output_type": "stream",
          "name": "stdout",
          "text": [
            "[(0.2852134340600467-0.30151134457776363j), (0.46449044975493314+0.7822997048504138j)]\n",
            "summation of entry squares is 1.0\n",
            "Is it valid? True\n",
            "[(0.18009908174994088+0.5703137588748128j), (0.8004403633330706-0.04002201816665353j)]\n",
            "summation of entry squares is 1.0\n",
            "Is it valid? True\n",
            "[(0.27440779002550303+0.4196825023919458j), (0.2098412511959729-0.8393650047838916j)]\n",
            "summation of entry squares is 1.0\n",
            "Is it valid? True\n",
            "[(0.2867682055912059+0.5930887888363577j), (-0.39756501229689917+0.6387110033622314j)]\n",
            "summation of entry squares is 0.9999999999999998\n",
            "Is it valid? True\n",
            "[(0.6989913161233245+0.31567349760408203j), (0.6388630308654042-0.06012828525792039j)]\n",
            "summation of entry squares is 1.0\n",
            "Is it valid? True\n",
            "[(0.1390936284841442+0.776606092369805j), (0.011591135707012016-0.6143301924716368j)]\n",
            "summation of entry squares is 1.0\n",
            "Is it valid? True\n",
            "[(0.7247743621393525+0.3438032230661031j), (-0.5575187401071943+0.21371551704109112j)]\n",
            "summation of entry squares is 1.0000000000000002\n",
            "Is it valid? True\n",
            "[(0.26967769374088474+0.3922584636231051j), (-0.5393553874817695+0.6946243626659153j)]\n",
            "summation of entry squares is 1.0\n",
            "Is it valid? True\n",
            "[(-0.04285102171980432-0.4285102171980432j), (0.7798885953004387-0.4542208302299258j)]\n",
            "summation of entry squares is 1.0\n",
            "Is it valid? True\n",
            "[(0.732269919816913+0.19069529161898777j), (0.6483639915045584+0.08390592831235462j)]\n",
            "summation of entry squares is 1.0\n",
            "Is it valid? True\n"
          ]
        }
      ]
    },
    {
      "cell_type": "code",
      "source": [
        "print('First operator:')\n",
        "for i in range(10):\n",
        "    initial_state = random_complex_quantum_state()\n",
        "    new_state = [0,0]\n",
        "    new_state[0] = initial_state[0] * 1 + initial_state[1] * 0\n",
        "    new_state[1] = initial_state[0] * 0 + initial_state[1] * complex(0,1)\n",
        "    print(new_state)\n",
        "    print(\"Is it valid?\",is_quantum_state(new_state))\n",
        "\n",
        "# e^(i*pi/4) = 1/sqrt(2) * (1+i)\n",
        "print('Second operator:')\n",
        "for i in range(10):\n",
        "    initial_state = random_complex_quantum_state()\n",
        "    new_state = [0,0]\n",
        "    new_state[0] = initial_state[0] * 1 + initial_state[1] * 0\n",
        "    new_state[1] = initial_state[0] * 0 + initial_state[1] * complex(1/(2**0.5),1/(2**0.5))\n",
        "    print(new_state)\n",
        "    print(\"Is it valid?\",is_quantum_state(new_state))"
      ],
      "metadata": {
        "id": "go5vq8LUiF7M",
        "outputId": "af14f45f-6533-43ad-9c9a-cc20f6161e26",
        "colab": {
          "base_uri": "https://localhost:8080/"
        }
      },
      "execution_count": 11,
      "outputs": [
        {
          "output_type": "stream",
          "name": "stdout",
          "text": [
            "First operator:\n",
            "[(0.6369570517030844+0.017942452160650265j), (0.1614820694458524-0.7535829907473112j)]\n",
            "summation of entry squares is 1.0\n",
            "Is it valid? True\n",
            "[(-0.7362827868956806+0.16006147541210447j), (-0.6562520491896283-0.04001536885302612j)]\n",
            "summation of entry squares is 1.0\n",
            "Is it valid? True\n",
            "[(-0.6687050333956779-0.09940209955881699j), (-0.6777415879010249+0.28916974417110397j)]\n",
            "summation of entry squares is 1.0\n",
            "Is it valid? True\n",
            "[(0.42039666804110487+0.6504250335730302j), (0.3172805041819659-0.5473088697138913j)]\n",
            "summation of entry squares is 1.0\n",
            "Is it valid? True\n",
            "[(-0.6442010044573591+0.5838071602894817j), (0.41269126848049564+0.27177229875544834j)]\n",
            "summation of entry squares is 1.0000000000000002\n",
            "Is it valid? True\n",
            "[(-0.5772423027989315-0.5830730331302338j), (-0.017492190993907013+0.5714115724676292j)]\n",
            "summation of entry squares is 1.0\n",
            "Is it valid? True\n",
            "[(0.804549978093836+0.05746785557813114j), (0.5910979430893488+0j)]\n",
            "summation of entry squares is 0.9999999999999999\n",
            "Is it valid? True\n",
            "[(-0.41765460324498416+0.2910926022616556j), (0.012656200098332853+0.8606216066866341j)]\n",
            "summation of entry squares is 1.0\n",
            "Is it valid? True\n",
            "[(-0.4422190651627687+0.4225648844888679j), (0.08844381303255375-0.7861672269560334j)]\n",
            "summation of entry squares is 1.0\n",
            "Is it valid? True\n",
            "[(-0.1021632217099661+0.8275220958507254j), (-0.020432644341993222+0.5516813972338169j)]\n",
            "summation of entry squares is 0.9999999999999998\n",
            "Is it valid? True\n",
            "Second operator:\n",
            "[(0.51569662807863-0.20873434946039787j), (0.3646525827494361-0.7466695742012265j)]\n",
            "summation of entry squares is 0.9999999999999996\n",
            "Is it valid? True\n",
            "[(0.8348227895151845+0.08453901665976551j), (0.32877961575229486+0.43339131167347966j)]\n",
            "summation of entry squares is 1.0\n",
            "Is it valid? True\n",
            "[(-0.1472819539849714+0.7953225515188456j), (0.5415491557277273+0.22911695050019235j)]\n",
            "summation of entry squares is 0.9999999999999998\n",
            "Is it valid? True\n",
            "[(-0.6329209825835597-0.2739508730585557j), (0.6278957546502724+0.3607060718203692j)]\n",
            "summation of entry squares is 0.9999999999999998\n",
            "Is it valid? True\n",
            "[(0.7334804677596025-0.34091345684601243j), (0.5259539282914097+0.26297696414570493j)]\n",
            "summation of entry squares is 1.0\n",
            "Is it valid? True\n",
            "[(-0.33097553582671285+0.7801566201629659j), (-0.4123474616298586-0.33433577969988537j)]\n",
            "summation of entry squares is 1.0\n",
            "Is it valid? True\n",
            "[(-0.31117087531747695-0.5408446166232337j), (-0.717720284241181+0.3090912173009466j)]\n",
            "summation of entry squares is 1.0\n",
            "Is it valid? True\n",
            "[(0.17720449877615696+0.20673858190551644j), (0.5917062629454236+0.758776266600602j)]\n",
            "summation of entry squares is 0.9999999999999996\n",
            "Is it valid? True\n",
            "[(0.6336758661852242+0.559522307376315j), (-0.4385429594569412+0.30507336310048083j)]\n",
            "summation of entry squares is 0.9999999999999999\n",
            "Is it valid? True\n",
            "[(-0.6529565615879115-0.5113515241351113j), (0.5451515810466053-0.1223809671737277j)]\n",
            "summation of entry squares is 0.9999999999999998\n",
            "Is it valid? True\n"
          ]
        }
      ]
    },
    {
      "cell_type": "markdown",
      "metadata": {
        "id": "aOnrULo-083G"
      },
      "source": [
        "To check out our solution, run the next cell:"
      ]
    },
    {
      "cell_type": "code",
      "execution_count": null,
      "metadata": {
        "id": "R0xhk7Im083G"
      },
      "outputs": [],
      "source": [
        "SolutionToTask4()  # show solution for task 4"
      ]
    }
  ],
  "metadata": {
    "kernelspec": {
      "display_name": "Python 3 (ipykernel)",
      "language": "python",
      "name": "python3"
    },
    "language_info": {
      "codemirror_mode": {
        "name": "ipython",
        "version": 3
      },
      "file_extension": ".py",
      "mimetype": "text/x-python",
      "name": "python",
      "nbconvert_exporter": "python",
      "pygments_lexer": "ipython3",
      "version": "3.11.4"
    },
    "colab": {
      "provenance": [],
      "collapsed_sections": [
        "xAKzy5NC083C"
      ],
      "include_colab_link": true
    }
  },
  "nbformat": 4,
  "nbformat_minor": 0
}