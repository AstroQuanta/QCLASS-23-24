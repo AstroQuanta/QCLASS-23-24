{
  "cells": [
    {
      "cell_type": "markdown",
      "metadata": {
        "id": "view-in-github",
        "colab_type": "text"
      },
      "source": [
        "<a href=\"https://colab.research.google.com/github/AstroQuanta/QCLASS-23-24/blob/QBook101/Fundamentals%20of%20Quantum%20Computers%20with%20Programming/QB11_IP04_Errors_and_Exceptions.ipynb\" target=\"_parent\"><img src=\"https://colab.research.google.com/assets/colab-badge.svg\" alt=\"Open In Colab\"/></a>"
      ]
    },
    {
      "cell_type": "markdown",
      "metadata": {
        "id": "Jubul8oTG_Nq"
      },
      "source": [
        "<a href=\"https://qworld.net\" target=\"_blank\" align=\"left\"><img src=\"https://gitlab.com/qworld/qeducation/qbook101/raw/main/qworld/images/header.jpg\" align=\"left\"></a>\n",
        "$ \\newcommand{\\bra}[1]{\\langle #1|} $\n",
        "$ \\newcommand{\\ket}[1]{|#1\\rangle} $\n",
        "$ \\newcommand{\\braket}[2]{\\langle #1|#2\\rangle} $\n",
        "$ \\newcommand{\\dot}[2]{ #1 \\cdot #2} $\n",
        "$ \\newcommand{\\biginner}[2]{\\left\\langle #1,#2\\right\\rangle} $\n",
        "$ \\newcommand{\\mymatrix}[2]{\\left( \\begin{array}{#1} #2\\end{array} \\right)} $\n",
        "$ \\newcommand{\\myvector}[1]{\\mymatrix{c}{#1}} $\n",
        "$ \\newcommand{\\myrvector}[1]{\\mymatrix{r}{#1}} $\n",
        "$ \\newcommand{\\mypar}[1]{\\left( #1 \\right)} $\n",
        "$ \\newcommand{\\mybigpar}[1]{ \\Big( #1 \\Big)} $\n",
        "$ \\newcommand{\\sqrttwo}{\\frac{1}{\\sqrt{2}}} $\n",
        "$ \\newcommand{\\dsqrttwo}{\\dfrac{1}{\\sqrt{2}}} $\n",
        "$ \\newcommand{\\onehalf}{\\frac{1}{2}} $\n",
        "$ \\newcommand{\\donehalf}{\\dfrac{1}{2}} $\n",
        "$ \\newcommand{\\hadamard}{ \\mymatrix{rr}{ \\sqrttwo & \\sqrttwo \\\\ \\sqrttwo & -\\sqrttwo }} $\n",
        "$ \\newcommand{\\vzero}{\\myvector{1\\\\0}} $\n",
        "$ \\newcommand{\\vone}{\\myvector{0\\\\1}} $\n",
        "$ \\newcommand{\\stateplus}{\\myvector{ \\sqrttwo \\\\  \\sqrttwo } } $\n",
        "$ \\newcommand{\\stateminus}{ \\myrvector{ \\sqrttwo \\\\ -\\sqrttwo } } $\n",
        "$ \\newcommand{\\myarray}[2]{ \\begin{array}{#1}#2\\end{array}} $\n",
        "$ \\newcommand{\\X}{ \\mymatrix{cc}{0 & 1 \\\\ 1 & 0}  } $\n",
        "$ \\newcommand{\\Z}{ \\mymatrix{rr}{1 & 0 \\\\ 0 & -1}  } $\n",
        "$ \\newcommand{\\Htwo}{ \\mymatrix{rrrr}{ \\frac{1}{2} & \\frac{1}{2} & \\frac{1}{2} & \\frac{1}{2} \\\\ \\frac{1}{2} & -\\frac{1}{2} & \\frac{1}{2} & -\\frac{1}{2} \\\\ \\frac{1}{2} & \\frac{1}{2} & -\\frac{1}{2} & -\\frac{1}{2} \\\\ \\frac{1}{2} & -\\frac{1}{2} & -\\frac{1}{2} & \\frac{1}{2} } } $\n",
        "$ \\newcommand{\\CNOT}{ \\mymatrix{cccc}{1 & 0 & 0 & 0 \\\\ 0 & 1 & 0 & 0 \\\\ 0 & 0 & 0 & 1 \\\\ 0 & 0 & 1 & 0} } $\n",
        "$ \\newcommand{\\norm}[1]{ \\left\\lVert #1 \\right\\rVert } $\n",
        "$ \\newcommand{\\pstate}[1]{ \\lceil \\mspace{-1mu} #1 \\mspace{-1.5mu} \\rfloor } $"
      ]
    },
    {
      "cell_type": "markdown",
      "metadata": {
        "id": "31jN9l5_G_Ns"
      },
      "source": [
        "_prepared by Claudia Zendejas-Morales_"
      ]
    },
    {
      "cell_type": "markdown",
      "metadata": {
        "id": "XLAZGsbbG_Ns"
      },
      "source": [
        "<font size=\"28px\" style=\"font-size:28px;\" align=\"left\"><b> Errors and Exceptions </b></font>\n",
        "<br>\n",
        "<br><br>"
      ]
    },
    {
      "cell_type": "markdown",
      "metadata": {
        "jp-MarkdownHeadingCollapsed": true,
        "id": "f5mHJUWfG_Ns"
      },
      "source": [
        "##### <font color=\"#08b806\">Please execute the following cell, it is necessary to distinguish between your local environment and Google Colab's"
      ]
    },
    {
      "cell_type": "code",
      "execution_count": 1,
      "metadata": {
        "id": "_tHJ9yLdG_Nt"
      },
      "outputs": [],
      "source": [
        "import IPython\n",
        "\n",
        "def in_colab():\n",
        "    try:\n",
        "        import google.colab\n",
        "        return True\n",
        "    except:\n",
        "        return False\n",
        "\n",
        "SolutionToTask1 = lambda: IPython.display.display(IPython.display.Javascript('window.open(\"{url}\");'.format(url='https://colab.research.google.com/drive/1qMWF0flBoTvu_kn6gDT3o8_nrdzjmvQ_?usp=sharing#scrollTo=qlxMVWvH3L16' if in_colab() else 'QB11_IP04_Errors_and_Exceptions_Solutions.ipynb#task1')))\n",
        "SolutionToTask2 = lambda: IPython.display.display(IPython.display.Javascript('window.open(\"{url}\");'.format(url='https://colab.research.google.com/drive/1qMWF0flBoTvu_kn6gDT3o8_nrdzjmvQ_?usp=sharing#scrollTo=ZaqPd1db7JVC' if in_colab() else 'QB11_IP04_Errors_and_Exceptions_Solutions.ipynb#task2')))\n",
        "SolutionToTask3 = lambda: IPython.display.display(IPython.display.Javascript('window.open(\"{url}\");'.format(url='https://colab.research.google.com/drive/1qMWF0flBoTvu_kn6gDT3o8_nrdzjmvQ_?usp=sharing#scrollTo=5TQQJqA18BNX' if in_colab() else 'QB11_IP04_Errors_and_Exceptions_Solutions.ipynb#task3')))"
      ]
    },
    {
      "cell_type": "markdown",
      "metadata": {
        "id": "OaYzL7itG_Nt"
      },
      "source": [
        "# Errors"
      ]
    },
    {
      "cell_type": "markdown",
      "metadata": {
        "id": "2thKdMHoG_Nt"
      },
      "source": [
        "An error is an issue in a program due to which the program will stop the execution, preventing it from completing its task."
      ]
    },
    {
      "cell_type": "markdown",
      "source": [
        "Python can only execute a program if the program is syntactically correct; otherwise, the process fails and returns an error message. Syntax refers to the structure of a program and the rules about that structure in Python context.\n",
        "\n",
        "When you run a Python program, the interpreter checks it for syntax errors before beginning to execute the first statement. If there is any syntax error anywhere in your program, Python will display an error message and quit without executing any of the program."
      ],
      "metadata": {
        "id": "DF4-Ovrg_nmD"
      }
    },
    {
      "cell_type": "code",
      "source": [
        "# You can see a few errors if you execute this code\n",
        "num = 10\n",
        "if(num > 0)\n",
        "  print num\n"
      ],
      "metadata": {
        "id": "4dSAPWfH_tbw",
        "outputId": "b4dd76d8-5465-4148-e46c-da07e20c1c1a",
        "colab": {
          "base_uri": "https://localhost:8080/",
          "height": 140
        }
      },
      "execution_count": 2,
      "outputs": [
        {
          "output_type": "error",
          "ename": "SyntaxError",
          "evalue": "ignored",
          "traceback": [
            "\u001b[0;36m  File \u001b[0;32m\"<ipython-input-2-077b1422470c>\"\u001b[0;36m, line \u001b[0;32m3\u001b[0m\n\u001b[0;31m    if(num > 0)\u001b[0m\n\u001b[0m               ^\u001b[0m\n\u001b[0;31mSyntaxError\u001b[0m\u001b[0;31m:\u001b[0m expected ':'\n"
          ]
        }
      ]
    },
    {
      "cell_type": "markdown",
      "source": [
        "If you execute the code, you can see a message like this:\n",
        "\n",
        "<div style=\"background-color: #ffdddd;\"><font color=\"#b22b31\"><b>SyntaxError:</b></font> expected ':'</div><br>\n",
        "\n",
        "\n",
        "The error message indicates what happened, indicates the type of error, in this case that is a Syntax Error, and provides detail based on the type of error and what caused it. In this case, is missing the `:` after closing the parenthesis.\n",
        "\n",
        "An important part of the message indicates the line where Python believes the error exists, sometimes this line could be inaccurate but provide a starting point to track the error.\n"
      ],
      "metadata": {
        "id": "IJqvYecK_0v-"
      }
    },
    {
      "cell_type": "markdown",
      "source": [
        "<h3> Task 1: Fixing Syntax Errors in Python</h3>\n",
        "\n",
        "How many errors can you fix in the next code?\n",
        "\n",
        "The output should be: `All good! 100`"
      ],
      "metadata": {
        "id": "-vXF5FoG_-y_"
      }
    },
    {
      "cell_type": "code",
      "source": [
        "#\n",
        "# Fix all the errors until you see the message \"All good! 100\"\n",
        "#\n",
        "def fixed(num):\n",
        "  return 90 + num + 5\n",
        "\n",
        "print(\"All good! \" + str(fixed(num=5)))"
      ],
      "metadata": {
        "id": "qllRRNuyACcD",
        "outputId": "369ca1d0-9d12-47ca-d4c2-6d82f6f026a4",
        "colab": {
          "base_uri": "https://localhost:8080/"
        }
      },
      "execution_count": 8,
      "outputs": [
        {
          "output_type": "stream",
          "name": "stdout",
          "text": [
            "All good! 100\n"
          ]
        }
      ]
    },
    {
      "cell_type": "markdown",
      "source": [
        "To check out our solution, run the next cell:"
      ],
      "metadata": {
        "id": "rhJ8-2toAFta"
      }
    },
    {
      "cell_type": "code",
      "source": [
        "SolutionToTask1()  # show solution for task 1"
      ],
      "metadata": {
        "id": "8fxgBy_XA7Vu",
        "outputId": "e4f5a1a2-fffb-46d8-b004-7e5841f503ad",
        "colab": {
          "base_uri": "https://localhost:8080/",
          "height": 17
        }
      },
      "execution_count": 6,
      "outputs": [
        {
          "output_type": "display_data",
          "data": {
            "text/plain": [
              "<IPython.core.display.Javascript object>"
            ],
            "application/javascript": [
              "window.open(\"https://colab.research.google.com/drive/1qMWF0flBoTvu_kn6gDT3o8_nrdzjmvQ_?usp=sharing#scrollTo=qlxMVWvH3L16\");"
            ]
          },
          "metadata": {}
        }
      ]
    },
    {
      "cell_type": "markdown",
      "metadata": {
        "id": "gnqMBv_aG_Nu"
      },
      "source": [
        "# Exceptions"
      ]
    },
    {
      "cell_type": "markdown",
      "metadata": {
        "id": "dxZ0v1wtG_Nu"
      },
      "source": [
        "An exception is an event that occurs during the execution of a program that disrupts the normal flow of the program's instructions. Generally, when a Python program encounters a situation it cannot cope with, it raises an exception and displays an error message.\n",
        "\n",
        "Errors detected during execution are called exceptions and are not unconditionally fatal."
      ]
    },
    {
      "cell_type": "code",
      "source": [
        "step = 0.3\n",
        "mintime = 320\n",
        "print(\"Step: \", step)\n",
        "movement = step * minTime\n",
        "print(\"movement on \", mintime, \" is: \", movement)"
      ],
      "metadata": {
        "id": "JyHcEggSALwg",
        "outputId": "9fb0cd9f-0dc4-4df6-c281-5fa4d9ee5ec4",
        "colab": {
          "base_uri": "https://localhost:8080/",
          "height": 245
        }
      },
      "execution_count": 9,
      "outputs": [
        {
          "output_type": "stream",
          "name": "stdout",
          "text": [
            "Step:  0.3\n"
          ]
        },
        {
          "output_type": "error",
          "ename": "NameError",
          "evalue": "ignored",
          "traceback": [
            "\u001b[0;31m---------------------------------------------------------------------------\u001b[0m",
            "\u001b[0;31mNameError\u001b[0m                                 Traceback (most recent call last)",
            "\u001b[0;32m<ipython-input-9-1de6d9af01f7>\u001b[0m in \u001b[0;36m<cell line: 4>\u001b[0;34m()\u001b[0m\n\u001b[1;32m      2\u001b[0m \u001b[0mmintime\u001b[0m \u001b[0;34m=\u001b[0m \u001b[0;36m320\u001b[0m\u001b[0;34m\u001b[0m\u001b[0;34m\u001b[0m\u001b[0m\n\u001b[1;32m      3\u001b[0m \u001b[0mprint\u001b[0m\u001b[0;34m(\u001b[0m\u001b[0;34m\"Step: \"\u001b[0m\u001b[0;34m,\u001b[0m \u001b[0mstep\u001b[0m\u001b[0;34m)\u001b[0m\u001b[0;34m\u001b[0m\u001b[0;34m\u001b[0m\u001b[0m\n\u001b[0;32m----> 4\u001b[0;31m \u001b[0mmovement\u001b[0m \u001b[0;34m=\u001b[0m \u001b[0mstep\u001b[0m \u001b[0;34m*\u001b[0m \u001b[0mminTime\u001b[0m\u001b[0;34m\u001b[0m\u001b[0;34m\u001b[0m\u001b[0m\n\u001b[0m\u001b[1;32m      5\u001b[0m \u001b[0mprint\u001b[0m\u001b[0;34m(\u001b[0m\u001b[0;34m\"movement on \"\u001b[0m\u001b[0;34m,\u001b[0m \u001b[0mmintime\u001b[0m\u001b[0;34m,\u001b[0m \u001b[0;34m\" is: \"\u001b[0m\u001b[0;34m,\u001b[0m \u001b[0mmovement\u001b[0m\u001b[0;34m)\u001b[0m\u001b[0;34m\u001b[0m\u001b[0;34m\u001b[0m\u001b[0m\n",
            "\u001b[0;31mNameError\u001b[0m: name 'minTime' is not defined"
          ]
        }
      ]
    },
    {
      "cell_type": "markdown",
      "source": [
        "In this case, the error happened when the interpreter detected that the variable `minTime` was not defined; this is a common error often caused by a simple typo, so check the spelling carefully.\n",
        "\n",
        "The error message indicates the name of the built-in exception that occurred and details based on the type of exception and what caused it. Additionally, it shows the context where the exception occurred, in the form of a stack traceback."
      ],
      "metadata": {
        "id": "hpZOk8a-At5B"
      }
    },
    {
      "cell_type": "markdown",
      "source": [
        "<h3> Task 2: Fixing Exceptions in Python</h3>\n",
        "\n",
        "Is there any exception that happens when you execute this code? Can you fix it?\n",
        "\n",
        "The output should be three messages with no errors."
      ],
      "metadata": {
        "id": "hYqocXLdAxJ5"
      }
    },
    {
      "cell_type": "code",
      "source": [
        "#\n",
        "# Fix all the errors until you see the 3 messages\n",
        "#\n",
        "message = \"Hello QWorld\"\n",
        "num1 = 4\n",
        "num2 = 2\n",
        "num3 = 3\n",
        "gates = [\"CNOT\", \"X\", \"Y\", \"Z\", \"SWAP\"]\n",
        "\n",
        "print(message)\n",
        "print(num3 / (num1 - num2**3))\n",
        "index = 1\n",
        "print(gates[index])"
      ],
      "metadata": {
        "id": "YgxHHmH8AqIr",
        "outputId": "9645fd8d-95a1-43d3-f495-b0d1adc5ca4b",
        "colab": {
          "base_uri": "https://localhost:8080/"
        }
      },
      "execution_count": 13,
      "outputs": [
        {
          "output_type": "stream",
          "name": "stdout",
          "text": [
            "Hello QWorld\n",
            "-0.75\n",
            "X\n"
          ]
        }
      ]
    },
    {
      "cell_type": "markdown",
      "source": [
        "To check out our solution, run the next cell:"
      ],
      "metadata": {
        "id": "hz11Ho3tA1wJ"
      }
    },
    {
      "cell_type": "code",
      "source": [
        "SolutionToTask2()  # show solution for task 2"
      ],
      "metadata": {
        "id": "Xw4c6RbuAzdO",
        "outputId": "53747f61-f5b2-45bf-ff8a-ad3741166f32",
        "colab": {
          "base_uri": "https://localhost:8080/",
          "height": 17
        }
      },
      "execution_count": 14,
      "outputs": [
        {
          "output_type": "display_data",
          "data": {
            "text/plain": [
              "<IPython.core.display.Javascript object>"
            ],
            "application/javascript": [
              "window.open(\"https://colab.research.google.com/drive/1qMWF0flBoTvu_kn6gDT3o8_nrdzjmvQ_?usp=sharing#scrollTo=ZaqPd1db7JVC\");"
            ]
          },
          "metadata": {}
        }
      ]
    },
    {
      "cell_type": "markdown",
      "source": [
        "### Handling Exceptions"
      ],
      "metadata": {
        "id": "yIBgB0XwBBJU"
      }
    },
    {
      "cell_type": "markdown",
      "source": [
        "It is possible to write programs that handle selected exceptions.\n",
        "\n",
        "The most simple way of handling exceptions in Python is by using the `try` and `except` block. In this case, the interpreter run the code under the `try` statement and when an exception is raised, execute the code under the `except` statement.\n"
      ],
      "metadata": {
        "id": "eY_-W6fPBEyu"
      }
    },
    {
      "cell_type": "code",
      "source": [
        "while True:\n",
        "    try:\n",
        "        x = int(input(\"Please enter a number: \"))\n",
        "        break\n",
        "    except ValueError:\n",
        "        print(\"Oops!  That was no valid number.  Try again...\")"
      ],
      "metadata": {
        "id": "6SvPNx-8BBab",
        "outputId": "0f48ceea-2c20-4e83-d453-772da34e8e24",
        "colab": {
          "base_uri": "https://localhost:8080/"
        }
      },
      "execution_count": 16,
      "outputs": [
        {
          "name": "stdout",
          "output_type": "stream",
          "text": [
            "Please enter a number: \n",
            "Oops!  That was no valid number.  Try again...\n",
            "Please enter a number: 40\n"
          ]
        }
      ]
    },
    {
      "cell_type": "markdown",
      "source": [
        "<h3> Task 3: Handling Exceptions in Python</h3>\n",
        "\n",
        "Handle the exception in this code to fix the error."
      ],
      "metadata": {
        "id": "zS3IY15uBMnc"
      }
    },
    {
      "cell_type": "code",
      "source": [
        "# Fix the error by handling the exception\n",
        "\n",
        "values = [3, 12, 29, 0, 9]\n",
        "operation = 0\n",
        "\n",
        "for i in range(len(values)):\n",
        "    operation = operation + values[i]\n",
        "    try:\n",
        "        print(operation / values[i])\n",
        "    except ZeroDivisionError:\n",
        "        print(\"Value in position \", i, \" is zero\")\n",
        "\n",
        "print(\"The value of operation is: \" , operation)"
      ],
      "metadata": {
        "id": "cBX_vaknBH8k",
        "outputId": "dfd71609-4047-4535-974e-2117488bc8af",
        "colab": {
          "base_uri": "https://localhost:8080/"
        }
      },
      "execution_count": 18,
      "outputs": [
        {
          "output_type": "stream",
          "name": "stdout",
          "text": [
            "1.0\n",
            "1.25\n",
            "1.5172413793103448\n",
            "Value in position  3  is zero\n",
            "5.888888888888889\n",
            "The value of operation is:  53\n"
          ]
        }
      ]
    },
    {
      "cell_type": "markdown",
      "source": [
        "To check out our solution, run the next cell:"
      ],
      "metadata": {
        "id": "UTFWdVjPBPz9"
      }
    },
    {
      "cell_type": "code",
      "source": [
        "SolutionToTask3()  # show solution for task 3"
      ],
      "metadata": {
        "id": "7lpnXfq-BOx2",
        "outputId": "01218449-62ab-4add-8cfc-10553e995d21",
        "colab": {
          "base_uri": "https://localhost:8080/",
          "height": 17
        }
      },
      "execution_count": 19,
      "outputs": [
        {
          "output_type": "display_data",
          "data": {
            "text/plain": [
              "<IPython.core.display.Javascript object>"
            ],
            "application/javascript": [
              "window.open(\"https://colab.research.google.com/drive/1qMWF0flBoTvu_kn6gDT3o8_nrdzjmvQ_?usp=sharing#scrollTo=5TQQJqA18BNX\");"
            ]
          },
          "metadata": {}
        }
      ]
    },
    {
      "cell_type": "markdown",
      "source": [
        "# Semantic Errors"
      ],
      "metadata": {
        "id": "Yv4TcrV3BV5x"
      }
    },
    {
      "cell_type": "markdown",
      "source": [
        "These errors are also called logic errors. If you have a semantic error in your program, it will run successfully, in the sense that the computer will not generate any error messages. However, your program will not do the right thing. It will do something else. Specifically, it will do what you told it to do, not what you wanted it to do."
      ],
      "metadata": {
        "id": "tZAynoruBYCe"
      }
    },
    {
      "cell_type": "code",
      "source": [
        "num1 = '28'\n",
        "num2 = '16'\n",
        "\n",
        "sum = num1 + num2\n",
        "print('The sum of', num1, 'and', num2, 'is', sum)"
      ],
      "metadata": {
        "id": "MCOEp58FBTLH",
        "outputId": "c517aade-35cd-47cd-a288-36087463300c",
        "colab": {
          "base_uri": "https://localhost:8080/"
        }
      },
      "execution_count": 20,
      "outputs": [
        {
          "output_type": "stream",
          "name": "stdout",
          "text": [
            "The sum of 28 and 16 is 2816\n"
          ]
        }
      ]
    },
    {
      "cell_type": "markdown",
      "source": [
        "The problem with semantic errors is that the program you wrote is not the one you wanted to write. The meaning of the program (its semantics) is wrong. The computer is faithfully carrying out the instructions you wrote, and its results are correct, given the instructions you provided. However, because your instructions have a flaw in their design, the program does not behave as desired.\n",
        "\n",
        "Identifying semantic errors can be tricky because no error message appears to make it obvious that the results are incorrect. The only way to detect semantic errors is if you know in advance what the program should do for a given set of inputs. Then, you run the program with that input data and compare the program's output with what you expect. If there is a discrepancy between the actual output and the expected output, you can conclude that there is either 1) a semantic error or 2) an error in your expected results."
      ],
      "metadata": {
        "id": "YDF8xiwuBeHA"
      }
    },
    {
      "cell_type": "markdown",
      "source": [
        "# Tips to solve errors"
      ],
      "metadata": {
        "id": "JAuNUqGdBi9J"
      }
    },
    {
      "cell_type": "markdown",
      "source": [
        "While you're coding, you can use public information and ask the community to unblock yourself from most of the coding errors you get.\n",
        "\n",
        "#### Tinker and experiment\n",
        "When you run into an issue, keep trying different things you think might work till you run out of ideas. Maybe try doing print statements throughout the file and try to pinpoint the issue.\n",
        "\n",
        "#### Do a web search\n",
        "Most search engines like google have tools you can use to get even more specific about what you’re looking for:\n",
        "\n",
        "* Use tools like quotes to find only exact matches of your text. Example: `\"object is not callable\"`\n",
        "* The asterisk to find approximate matches. Example: `\"ModuleNotFoundError: No module named *\"`\n",
        "* Or colon to find results from a specific site like Stack Overflow. Example: `ZeroDivisionError site:stackoverflow.com`"
      ],
      "metadata": {
        "id": "hLnrwzSYBm2I"
      }
    }
  ],
  "metadata": {
    "kernelspec": {
      "display_name": "Python 3 (ipykernel)",
      "language": "python",
      "name": "python3"
    },
    "language_info": {
      "codemirror_mode": {
        "name": "ipython",
        "version": 3
      },
      "file_extension": ".py",
      "mimetype": "text/x-python",
      "name": "python",
      "nbconvert_exporter": "python",
      "pygments_lexer": "ipython3",
      "version": "3.11.4"
    },
    "colab": {
      "provenance": [],
      "collapsed_sections": [
        "f5mHJUWfG_Ns"
      ],
      "include_colab_link": true
    }
  },
  "nbformat": 4,
  "nbformat_minor": 0
}