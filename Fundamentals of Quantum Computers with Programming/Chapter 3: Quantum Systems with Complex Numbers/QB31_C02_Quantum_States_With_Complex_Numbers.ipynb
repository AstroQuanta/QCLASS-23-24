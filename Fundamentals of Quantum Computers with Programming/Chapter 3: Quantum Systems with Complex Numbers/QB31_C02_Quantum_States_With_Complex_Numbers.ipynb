{
  "cells": [
    {
      "cell_type": "markdown",
      "metadata": {
        "id": "view-in-github",
        "colab_type": "text"
      },
      "source": [
        "<a href=\"https://colab.research.google.com/github/AstroQuanta/QCLASS-23-24/blob/QBook101/Fundamentals%20of%20Quantum%20Computers%20with%20Programming/Chapter%203%3A%20Quantum%20Systems%20with%20Complex%20Numbers/QB31_C02_Quantum_States_With_Complex_Numbers.ipynb\" target=\"_parent\"><img src=\"https://colab.research.google.com/assets/colab-badge.svg\" alt=\"Open In Colab\"/></a>"
      ]
    },
    {
      "cell_type": "markdown",
      "metadata": {
        "id": "Y5P0JMaOod0y"
      },
      "source": [
        "<a href=\"https://qworld.net\" target=\"_blank\" align=\"left\"><img src=\"https://gitlab.com/qworld/qeducation/qbook101/raw/main/qworld/images/header.jpg\" align=\"left\"></a>\n",
        "$ \\newcommand{\\bra}[1]{\\langle #1|} $\n",
        "$ \\newcommand{\\ket}[1]{|#1\\rangle} $\n",
        "$ \\newcommand{\\braket}[2]{\\langle #1|#2\\rangle} $\n",
        "$ \\newcommand{\\dot}[2]{ #1 \\cdot #2} $\n",
        "$ \\newcommand{\\biginner}[2]{\\left\\langle #1,#2\\right\\rangle} $\n",
        "$ \\newcommand{\\mymatrix}[2]{\\left( \\begin{array}{#1} #2\\end{array} \\right)} $\n",
        "$ \\newcommand{\\myvector}[1]{\\mymatrix{c}{#1}} $\n",
        "$ \\newcommand{\\myrvector}[1]{\\mymatrix{r}{#1}} $\n",
        "$ \\newcommand{\\mypar}[1]{\\left( #1 \\right)} $\n",
        "$ \\newcommand{\\mybigpar}[1]{ \\Big( #1 \\Big)} $\n",
        "$ \\newcommand{\\sqrttwo}{\\frac{1}{\\sqrt{2}}} $\n",
        "$ \\newcommand{\\dsqrttwo}{\\dfrac{1}{\\sqrt{2}}} $\n",
        "$ \\newcommand{\\onehalf}{\\frac{1}{2}} $\n",
        "$ \\newcommand{\\donehalf}{\\dfrac{1}{2}} $\n",
        "$ \\newcommand{\\hadamard}{ \\mymatrix{rr}{ \\sqrttwo & \\sqrttwo \\\\ \\sqrttwo & -\\sqrttwo }} $\n",
        "$ \\newcommand{\\vzero}{\\myvector{1\\\\0}} $\n",
        "$ \\newcommand{\\vone}{\\myvector{0\\\\1}} $\n",
        "$ \\newcommand{\\stateplus}{\\myvector{ \\sqrttwo \\\\  \\sqrttwo } } $\n",
        "$ \\newcommand{\\stateminus}{ \\myrvector{ \\sqrttwo \\\\ -\\sqrttwo } } $\n",
        "$ \\newcommand{\\myarray}[2]{ \\begin{array}{#1}#2\\end{array}} $\n",
        "$ \\newcommand{\\X}{ \\mymatrix{cc}{0 & 1 \\\\ 1 & 0}  } $\n",
        "$ \\newcommand{\\Z}{ \\mymatrix{rr}{1 & 0 \\\\ 0 & -1}  } $\n",
        "$ \\newcommand{\\Htwo}{ \\mymatrix{rrrr}{ \\frac{1}{2} & \\frac{1}{2} & \\frac{1}{2} & \\frac{1}{2} \\\\ \\frac{1}{2} & -\\frac{1}{2} & \\frac{1}{2} & -\\frac{1}{2} \\\\ \\frac{1}{2} & \\frac{1}{2} & -\\frac{1}{2} & -\\frac{1}{2} \\\\ \\frac{1}{2} & -\\frac{1}{2} & -\\frac{1}{2} & \\frac{1}{2} } } $\n",
        "$ \\newcommand{\\CNOT}{ \\mymatrix{cccc}{1 & 0 & 0 & 0 \\\\ 0 & 1 & 0 & 0 \\\\ 0 & 0 & 0 & 1 \\\\ 0 & 0 & 1 & 0} } $\n",
        "$ \\newcommand{\\norm}[1]{ \\left\\lVert #1 \\right\\rVert } $\n",
        "$ \\newcommand{\\pstate}[1]{ \\lceil \\mspace{-1mu} #1 \\mspace{-1.5mu} \\rfloor } $"
      ]
    },
    {
      "cell_type": "markdown",
      "metadata": {
        "id": "tXifjlFjod01"
      },
      "source": [
        "_prepared by Maksim Dimitrijev_"
      ]
    },
    {
      "cell_type": "markdown",
      "metadata": {
        "id": "mO0m07v2od01"
      },
      "source": [
        "<font size=\"28px\" style=\"font-size:28px;\" align=\"left\"><b>Quantum states with complex numbers</b></font>\n",
        "<br>\n",
        "<br><br>"
      ]
    },
    {
      "cell_type": "markdown",
      "metadata": {
        "jp-MarkdownHeadingCollapsed": true,
        "id": "qO2hr8Ugod02"
      },
      "source": [
        "##### <font color=\"#08b806\">Please execute the following cell, it is necessary to distinguish between your local environment and Google Colab's"
      ]
    },
    {
      "cell_type": "code",
      "execution_count": 1,
      "metadata": {
        "id": "6bn8tUTfod02"
      },
      "outputs": [],
      "source": [
        "import IPython\n",
        "\n",
        "def in_colab():\n",
        "    try:\n",
        "        import google.colab\n",
        "        return True\n",
        "    except:\n",
        "        return False\n",
        "\n",
        "SolutionToTask1 = lambda: IPython.display.display(IPython.display.Javascript('window.open(\"{url}\");'.format(url='https://colab.research.google.com/drive/1AgOkw6HP8VFm564zY7ZTNmQZjFerqgTW?usp=sharing#scrollTo=i7cQPhGPh9a6' if in_colab() else 'QB31_C02_Quantum_States_With_Complex_Numbers_Solutions.ipynb#task1')))\n",
        "SolutionToTask2 = lambda: IPython.display.display(IPython.display.Javascript('window.open(\"{url}\");'.format(url='https://colab.research.google.com/drive/1AgOkw6HP8VFm564zY7ZTNmQZjFerqgTW?usp=sharing#scrollTo=6QPh1n3Th9a7' if in_colab() else 'QB31_C02_Quantum_States_With_Complex_Numbers_Solutions.ipynb#task2')))\n",
        "SolutionToTask3 = lambda: IPython.display.display(IPython.display.Javascript('window.open(\"{url}\");'.format(url='https://colab.research.google.com/drive/1AgOkw6HP8VFm564zY7ZTNmQZjFerqgTW?usp=sharing#scrollTo=ypR8Zxprh9a9' if in_colab() else 'QB31_C02_Quantum_States_With_Complex_Numbers_Solutions.ipynb#task3')))"
      ]
    },
    {
      "cell_type": "markdown",
      "metadata": {
        "id": "zO-OQImrod03"
      },
      "source": [
        "##### The main properties of quantum states do not change whether we are using complex numbers or not. Let's recall the definition we had in Bronze:\n",
        "\n",
        "**Recall: Quantum states with real numbers**\n",
        "\n",
        "When a quantum system is measured, the probability of observing one state is the square of its value.\n",
        "\n",
        "The summation of amplitude squares must be 1 for a valid quantum state.\n",
        "\n",
        "The second property also means that the overall probability must be 1 when we observe a quantum system. If we consider a quantum system as a vector, then the length of such vector should be 1."
      ]
    },
    {
      "cell_type": "markdown",
      "metadata": {
        "id": "V3d20wYTod03"
      },
      "source": [
        "<h2>How complex numbers affect probabilities</h2>\n",
        "\n",
        "Suppose that we have a quantum state with the amplitude $a+bi$. What is the probability to observe such state when the quantum system is measured? We need a small update to our statement about <b>the probability of the measurement</b> - it is equal to <b>the square of the absolute value of the amplitude</b>. If amplitudes are restricted to real numbers, then this update makes no difference. With complex numbers we obtain the following:\n",
        "\n",
        "$\\mathopen|a+bi\\mathclose| = \\sqrt{a^2+b^2} \\implies \\mathopen|a+bi\\mathclose|^2 = a^2+b^2$.\n",
        "\n",
        "It is easy to see that this calculation works fine if we do not have imaginary part - we just obtain the real part $a^2$. Notice that for the probability $a^2 + b^2$ both real and imaginary part contribute in a similar way - with the square of its value.\n",
        "\n",
        "<!--Let's check the square of the complex number:\n",
        "\n",
        "$(a+bi)^2 = (a+bi)(a+bi) = a^2 + 2abi + b^2i^2 = (a^2-b^2) + 2abi$.\n",
        "\n",
        "In such case we still obtain a complex number, but for a probability we need a real number. -->\n",
        "\n",
        "Suppose that we have the following vector, representing a quantum system:\n",
        "$$\n",
        "    \\myvector{ \\frac{1+i}{\\sqrt{3}} \\\\ -\\frac{1}{\\sqrt{3}} }.\n",
        "$$\n",
        "\n",
        "This vector represents the state $\\frac{1+i}{\\sqrt{3}}\\ket{0} - \\frac{1}{\\sqrt{3}}\\ket{1}$. After doing measurement, we observe state $\\ket{1}$ with probability $\\mypar{-\\frac{1}{\\sqrt{3}}}^2 = \\frac{1}{3}$. Let's decompose the amplitude of state $\\ket{0}$ into form $a+bi$. Then we obtain $\\frac{1}{\\sqrt{3}} + \\frac{1}{\\sqrt{3}}i$, and so our probability is $\\mypar{\\frac{1}{\\sqrt{3}}}^2 + \\mypar{\\frac{1}{\\sqrt{3}}}^2 = \\frac{2}{3}$."
      ]
    },
    {
      "cell_type": "markdown",
      "metadata": {
        "id": "0EDZQ-Jkod03"
      },
      "source": [
        "<h3> Task 1 </h3>\n",
        "\n",
        "Calculate on the paper the probabilities to observe state $\\ket{0}$ and $\\ket{1}$ for each quantum system:\n",
        "\n",
        "$$\n",
        "    \\myvector{ \\dfrac{1-i\\sqrt{2}}{2} \\\\ \\\\ \\dfrac{i}{2} }\n",
        "    \\mbox{ , }\n",
        "    \\myvector{ \\dfrac{2i}{\\sqrt{6}} \\\\ \\\\ \\dfrac{1-i}{\\sqrt{6}} }\n",
        "    \\mbox{ and }\n",
        "    \\myvector{ \\dfrac{1+i\\sqrt{3}}{\\sqrt{5}} \\\\ \\\\ \\dfrac{-i}{\\sqrt{5}} }.\n",
        "$$."
      ]
    },
    {
      "cell_type": "markdown",
      "source": [
        "<h3> Solution </h3>"
      ],
      "metadata": {
        "id": "JDbqtOkA7eSk"
      }
    },
    {
      "cell_type": "markdown",
      "source": [
        "$\\myvector{ \\frac{1-i\\sqrt{2}}{2} \\\\ \\frac{i}{2} }$:\n",
        "\n",
        "For state $\\ket{0}$: $\\mypar{\\frac{1}{2}}^2 + \\mypar{\\frac{-\\sqrt{2}}{2}}^2 = \\frac{1}{4} + \\frac{2}{4} = \\frac{3}{4}$.\n",
        "\n",
        "For state $\\ket{1}$: $\\mypar{\\frac{1}{2}}^2 = \\frac{1}{4}$.\n",
        "\n",
        "$\\myvector{ \\frac{2i}{\\sqrt{6}} \\\\ \\frac{1-i}{\\sqrt{6}} }$:\n",
        "\n",
        "For state $\\ket{0}$: $\\mypar{\\frac{2}{\\sqrt{6}}}^2 = \\frac{4}{6} = \\frac{2}{3}$.\n",
        "\n",
        "For state $\\ket{1}$: $\\mypar{\\frac{1}{\\sqrt{6}}}^2 + \\mypar{\\frac{-1}{\\sqrt{6}}}^2 = \\frac{1}{6} + \\frac{1}{6} = \\frac{1}{3}$.\n",
        "\n",
        "$\\myvector{ \\frac{1+i\\sqrt{3}}{\\sqrt{5}} \\\\ \\frac{-i}{\\sqrt{5}} }$:\n",
        "\n",
        "For state $\\ket{0}$: $\\mypar{\\frac{1}{\\sqrt{5}}}^2 + \\mypar{\\frac{\\sqrt{3}}{\\sqrt{5}}}^2 = \\frac{1}{5} + \\frac{3}{5} = \\frac{4}{5}$.\n",
        "\n",
        "For state $\\ket{1}$: $\\mypar{\\frac{1}{\\sqrt{5}}}^2 = \\frac{1}{5}$."
      ],
      "metadata": {
        "id": "fbhffX_S7g2l"
      }
    },
    {
      "cell_type": "markdown",
      "metadata": {
        "id": "F4gaSyaQod04"
      },
      "source": [
        "To check out our solution, run the next cell:"
      ]
    },
    {
      "cell_type": "code",
      "execution_count": 2,
      "metadata": {
        "id": "kUANlGPNod04",
        "outputId": "6f884b5b-3a2c-4a53-84fa-907e692df848",
        "colab": {
          "base_uri": "https://localhost:8080/",
          "height": 17
        }
      },
      "outputs": [
        {
          "output_type": "display_data",
          "data": {
            "text/plain": [
              "<IPython.core.display.Javascript object>"
            ],
            "application/javascript": [
              "window.open(\"https://colab.research.google.com/drive/1AgOkw6HP8VFm564zY7ZTNmQZjFerqgTW?usp=sharing#scrollTo=i7cQPhGPh9a6\");"
            ]
          },
          "metadata": {}
        }
      ],
      "source": [
        "SolutionToTask1()  # show solution for task 1"
      ]
    },
    {
      "cell_type": "markdown",
      "metadata": {
        "id": "WnV5MyWnod04"
      },
      "source": [
        "<h3> Task 2 </h3>\n",
        "\n",
        "If the following vectors are valid quantum states, then what can be the values of $a$ and $b$?\n",
        "\n",
        "$$\n",
        "    \\ket{v} = \\myrvector{0.1 - ai \\\\ -0.7 \\\\ 0.4 + 0.3i }\n",
        "    ~~~~~ \\mbox{and} ~~~~~\n",
        "   \\ket{u} = \\myrvector{ \\frac{1-i}{\\sqrt{6}} \\\\ \\frac{1+2i}{\\sqrt{b}} \\\\ -\\frac{1}{\\sqrt{4}} }.\n",
        "$$"
      ]
    },
    {
      "cell_type": "code",
      "execution_count": 3,
      "metadata": {
        "id": "D4POwhDuod04",
        "outputId": "5b18342c-dc4c-4967-d45d-6e41ca75d624",
        "colab": {
          "base_uri": "https://localhost:8080/"
        }
      },
      "outputs": [
        {
          "output_type": "stream",
          "name": "stdout",
          "text": [
            "a= 0.5 , -0.5\n",
            "b= 12.000000000000004 , -12.000000000000004\n"
          ]
        }
      ],
      "source": [
        "#\n",
        "# your code is here\n",
        "#    (you may find the values by hand (in mind) as well)\n",
        "#\n",
        "a_square = 1 - (0.1)**2 - (-0.7)**2 - (0.4)**2 - (0.3)**2\n",
        "a = a_square**0.5\n",
        "print('a=',a,\",\",-a)\n",
        "\n",
        "state_1_amplitude_square = 1 - (1/6**0.5)**2 - (-1/6**0.5)**2 - (-1/4**0.5)**2\n",
        "b = (1**2 + 2**2)/state_1_amplitude_square\n",
        "print('b=',b,\",\",-b)"
      ]
    },
    {
      "cell_type": "markdown",
      "metadata": {
        "id": "rnN_JX0Lod04"
      },
      "source": [
        "To check out our solution, run the next cell:"
      ]
    },
    {
      "cell_type": "code",
      "execution_count": null,
      "metadata": {
        "id": "xERZWaIrod04"
      },
      "outputs": [],
      "source": [
        "SolutionToTask2()  # show solution for task 2"
      ]
    },
    {
      "cell_type": "markdown",
      "metadata": {
        "id": "C4nU0_IHod04"
      },
      "source": [
        "<a name=\"task3\"></a>\n",
        "<h3> Task 3</h3>\n",
        "\n",
        "Randomly create a 2-dimensional quantum state, where both amplitudes are complex numbers.\n",
        "\n",
        "<b>Write a function</b> that returns a randomly created 2-dimensional quantum state.\n",
        "\n",
        "<i>Hint:\n",
        "<ul>\n",
        "    <li> Pick four random values between -100 and 100 for the real and imaginary parts of the amplitudes of state 0 and state 1 </li>\n",
        "    <li> Find an appropriate normalization factor to divide each amplitude such that the length of quantum state should be 1 </li>\n",
        "</ul>\n",
        "</i>\n",
        "\n",
        "<b>Repeat several times:</b>\n",
        "<ul>\n",
        "    <li> Randomly pick a quantum state </li>\n",
        "    <li> Check whether the picked quantum state is valid </li>\n",
        "    \n",
        "_Note:_ Comment out the first line after writing your code to store the function you have written for later use."
      ]
    },
    {
      "cell_type": "code",
      "execution_count": 4,
      "metadata": {
        "id": "E2gm9CFOod04",
        "outputId": "0ae9d482-9dc7-44ab-d568-ea30e8070922",
        "colab": {
          "base_uri": "https://localhost:8080/"
        }
      },
      "outputs": [
        {
          "output_type": "stream",
          "name": "stdout",
          "text": [
            "Writing random_complex_quantum_state.py\n"
          ]
        }
      ],
      "source": [
        "%%writefile random_complex_quantum_state.py\n",
        "from random import randrange\n",
        "def random_complex_quantum_state():\n",
        "    # quantum state\n",
        "    quantum_state=[0,0]\n",
        "    length_square = 0\n",
        "    while length_square == 0:\n",
        "        first_entry_real = randrange(-100,101)\n",
        "        first_entry_imag = randrange(-100,101)\n",
        "        second_entry_real = randrange(-100,101)\n",
        "        second_entry_imag = randrange(-100,101)\n",
        "        length_square = first_entry_real**2+first_entry_imag**2+second_entry_real**2+second_entry_imag**2\n",
        "    first_entry_real = first_entry_real / length_square**0.5\n",
        "    first_entry_imag = first_entry_imag / length_square**0.5\n",
        "    second_entry_real = second_entry_real / length_square**0.5\n",
        "    second_entry_imag = second_entry_imag / length_square**0.5\n",
        "    quantum_state[0] = complex(first_entry_real, first_entry_imag)\n",
        "    quantum_state[1] = complex(second_entry_real, second_entry_imag)\n",
        "    return quantum_state"
      ]
    },
    {
      "cell_type": "code",
      "execution_count": 5,
      "metadata": {
        "id": "UGlLEnhCod04"
      },
      "outputs": [],
      "source": [
        "#%%writefile is_quantum_state.py\n",
        "# testing whether a given quantum state is valid\n",
        "def is_quantum_state(quantum_state):\n",
        "    length_square = 0\n",
        "    for i in range(len(quantum_state)):\n",
        "        length_square += abs(quantum_state[i])**2\n",
        "    print(\"summation of entry squares is\",length_square)\n",
        "    # there might be precision problem\n",
        "    # the length may be very close to 1 but not exactly 1\n",
        "    # so we use the following trick\n",
        "    if (length_square - 1)**2 < 0.00000001: return True\n",
        "    return False"
      ]
    },
    {
      "cell_type": "code",
      "execution_count": 6,
      "metadata": {
        "id": "tWBzOr2-od04",
        "outputId": "95c2b409-22d2-4730-9713-db75d686c5e4",
        "colab": {
          "base_uri": "https://localhost:8080/",
          "height": 245
        }
      },
      "outputs": [
        {
          "output_type": "error",
          "ename": "NameError",
          "evalue": "ignored",
          "traceback": [
            "\u001b[0;31m---------------------------------------------------------------------------\u001b[0m",
            "\u001b[0;31mNameError\u001b[0m                                 Traceback (most recent call last)",
            "\u001b[0;32m<ipython-input-6-d1de21b7fbbf>\u001b[0m in \u001b[0;36m<cell line: 5>\u001b[0;34m()\u001b[0m\n\u001b[1;32m      4\u001b[0m \u001b[0;31m#\u001b[0m\u001b[0;34m\u001b[0m\u001b[0;34m\u001b[0m\u001b[0m\n\u001b[1;32m      5\u001b[0m \u001b[0;32mfor\u001b[0m \u001b[0mi\u001b[0m \u001b[0;32min\u001b[0m \u001b[0mrange\u001b[0m\u001b[0;34m(\u001b[0m\u001b[0;36m10\u001b[0m\u001b[0;34m)\u001b[0m\u001b[0;34m:\u001b[0m\u001b[0;34m\u001b[0m\u001b[0;34m\u001b[0m\u001b[0m\n\u001b[0;32m----> 6\u001b[0;31m     \u001b[0mnew_state\u001b[0m \u001b[0;34m=\u001b[0m \u001b[0mrandom_complex_quantum_state\u001b[0m\u001b[0;34m(\u001b[0m\u001b[0;34m)\u001b[0m\u001b[0;34m\u001b[0m\u001b[0;34m\u001b[0m\u001b[0m\n\u001b[0m\u001b[1;32m      7\u001b[0m     \u001b[0mprint\u001b[0m\u001b[0;34m(\u001b[0m\u001b[0;34m\"new state is\"\u001b[0m\u001b[0;34m,\u001b[0m\u001b[0mnew_state\u001b[0m\u001b[0;34m)\u001b[0m\u001b[0;34m\u001b[0m\u001b[0;34m\u001b[0m\u001b[0m\n\u001b[1;32m      8\u001b[0m     \u001b[0mprint\u001b[0m\u001b[0;34m(\u001b[0m\u001b[0;34m\"Is it valid?\"\u001b[0m\u001b[0;34m,\u001b[0m\u001b[0mis_quantum_state\u001b[0m\u001b[0;34m(\u001b[0m\u001b[0mnew_state\u001b[0m\u001b[0;34m)\u001b[0m\u001b[0;34m)\u001b[0m\u001b[0;34m\u001b[0m\u001b[0;34m\u001b[0m\u001b[0m\n",
            "\u001b[0;31mNameError\u001b[0m: name 'random_complex_quantum_state' is not defined"
          ]
        }
      ],
      "source": [
        "#Use the functions you have written to randomly generate and check quantum states\n",
        "#\n",
        "# your code is here\n",
        "#\n",
        "for i in range(10):\n",
        "    new_state = random_complex_quantum_state()\n",
        "    print(\"new state is\",new_state)\n",
        "    print(\"Is it valid?\",is_quantum_state(new_state))\n",
        "    print()"
      ]
    },
    {
      "cell_type": "markdown",
      "metadata": {
        "id": "ps2vncmLod05"
      },
      "source": [
        "To check out our solution, run the next cell:"
      ]
    },
    {
      "cell_type": "code",
      "execution_count": null,
      "metadata": {
        "id": "PKEii8xHod05"
      },
      "outputs": [],
      "source": [
        "SolutionToTask3()  # show solution for task 3"
      ]
    }
  ],
  "metadata": {
    "kernelspec": {
      "display_name": "Python 3 (ipykernel)",
      "language": "python",
      "name": "python3"
    },
    "language_info": {
      "codemirror_mode": {
        "name": "ipython",
        "version": 3
      },
      "file_extension": ".py",
      "mimetype": "text/x-python",
      "name": "python",
      "nbconvert_exporter": "python",
      "pygments_lexer": "ipython3",
      "version": "3.11.4"
    },
    "colab": {
      "provenance": [],
      "collapsed_sections": [
        "qO2hr8Ugod02"
      ],
      "include_colab_link": true
    }
  },
  "nbformat": 4,
  "nbformat_minor": 0
}