{
  "cells": [
    {
      "cell_type": "markdown",
      "metadata": {
        "id": "view-in-github",
        "colab_type": "text"
      },
      "source": [
        "<a href=\"https://colab.research.google.com/github/AstroQuanta/QCLASS-23-24/blob/QBook101/Appendices/QB_A3_Python12_Basics_Loops.ipynb\" target=\"_parent\"><img src=\"https://colab.research.google.com/assets/colab-badge.svg\" alt=\"Open In Colab\"/></a>"
      ]
    },
    {
      "cell_type": "markdown",
      "metadata": {
        "id": "vdzGCji7UusN"
      },
      "source": [
        "<a href=\"https://qworld.net\" target=\"_blank\" align=\"left\"><img src=\"https://gitlab.com/qworld/qeducation/qbook101/raw/main/qworld/images/header.jpg\" align=\"left\"></a>\n",
        "$ \\newcommand{\\bra}[1]{\\langle #1|} $\n",
        "$ \\newcommand{\\ket}[1]{|#1\\rangle} $\n",
        "$ \\newcommand{\\braket}[2]{\\langle #1|#2\\rangle} $\n",
        "$ \\newcommand{\\dot}[2]{ #1 \\cdot #2} $\n",
        "$ \\newcommand{\\biginner}[2]{\\left\\langle #1,#2\\right\\rangle} $\n",
        "$ \\newcommand{\\mymatrix}[2]{\\left( \\begin{array}{#1} #2\\end{array} \\right)} $\n",
        "$ \\newcommand{\\myvector}[1]{\\mymatrix{c}{#1}} $\n",
        "$ \\newcommand{\\myrvector}[1]{\\mymatrix{r}{#1}} $\n",
        "$ \\newcommand{\\mypar}[1]{\\left( #1 \\right)} $\n",
        "$ \\newcommand{\\mybigpar}[1]{ \\Big( #1 \\Big)} $\n",
        "$ \\newcommand{\\sqrttwo}{\\frac{1}{\\sqrt{2}}} $\n",
        "$ \\newcommand{\\dsqrttwo}{\\dfrac{1}{\\sqrt{2}}} $\n",
        "$ \\newcommand{\\onehalf}{\\frac{1}{2}} $\n",
        "$ \\newcommand{\\donehalf}{\\dfrac{1}{2}} $\n",
        "$ \\newcommand{\\hadamard}{ \\mymatrix{rr}{ \\sqrttwo & \\sqrttwo \\\\ \\sqrttwo & -\\sqrttwo }} $\n",
        "$ \\newcommand{\\vzero}{\\myvector{1\\\\0}} $\n",
        "$ \\newcommand{\\vone}{\\myvector{0\\\\1}} $\n",
        "$ \\newcommand{\\stateplus}{\\myvector{ \\sqrttwo \\\\  \\sqrttwo } } $\n",
        "$ \\newcommand{\\stateminus}{ \\myrvector{ \\sqrttwo \\\\ -\\sqrttwo } } $\n",
        "$ \\newcommand{\\myarray}[2]{ \\begin{array}{#1}#2\\end{array}} $\n",
        "$ \\newcommand{\\X}{ \\mymatrix{cc}{0 & 1 \\\\ 1 & 0}  } $\n",
        "$ \\newcommand{\\I}{ \\mymatrix{rr}{1 & 0 \\\\ 0 & 1}  } $\n",
        "$ \\newcommand{\\Z}{ \\mymatrix{rr}{1 & 0 \\\\ 0 & -1}  } $\n",
        "$ \\newcommand{\\Htwo}{ \\mymatrix{rrrr}{ \\frac{1}{2} & \\frac{1}{2} & \\frac{1}{2} & \\frac{1}{2} \\\\ \\frac{1}{2} & -\\frac{1}{2} & \\frac{1}{2} & -\\frac{1}{2} \\\\ \\frac{1}{2} & \\frac{1}{2} & -\\frac{1}{2} & -\\frac{1}{2} \\\\ \\frac{1}{2} & -\\frac{1}{2} & -\\frac{1}{2} & \\frac{1}{2} } } $\n",
        "$ \\newcommand{\\CNOT}{ \\mymatrix{cccc}{1 & 0 & 0 & 0 \\\\ 0 & 1 & 0 & 0 \\\\ 0 & 0 & 0 & 1 \\\\ 0 & 0 & 1 & 0} } $\n",
        "$ \\newcommand{\\norm}[1]{ \\left\\lVert #1 \\right\\rVert } $\n",
        "$ \\newcommand{\\pstate}[1]{ \\lceil \\mspace{-1mu} #1 \\mspace{-1.5mu} \\rfloor } $\n",
        "$ \\newcommand{\\greenbit}[1] {\\mathbf{{\\color{green}#1}}} $\n",
        "$ \\newcommand{\\bluebit}[1] {\\mathbf{{\\color{blue}#1}}} $\n",
        "$ \\newcommand{\\redbit}[1] {\\mathbf{{\\color{red}#1}}} $\n",
        "$ \\newcommand{\\brownbit}[1] {\\mathbf{{\\color{brown}#1}}} $\n",
        "$ \\newcommand{\\blackbit}[1] {\\mathbf{{\\color{black}#1}}} $"
      ]
    },
    {
      "cell_type": "markdown",
      "metadata": {
        "id": "ipu_bsaIUusO"
      },
      "source": [
        "_prepared by Abuzer Yakaryilmaz_"
      ]
    },
    {
      "cell_type": "markdown",
      "metadata": {
        "id": "abvpDtcqUusO"
      },
      "source": [
        "<font size=\"28px\" style=\"font-size:28px;\" align=\"left\"><b> Basics of Python: Loops </b></font>\n",
        "<br><br>"
      ]
    },
    {
      "cell_type": "markdown",
      "metadata": {
        "jp-MarkdownHeadingCollapsed": true,
        "id": "xFwaFvyHUusO"
      },
      "source": [
        "##### <font color=\"#08b806\">Please execute the following cell, it is necessary to distinguish between your local environment and Google Colab's"
      ]
    },
    {
      "cell_type": "code",
      "execution_count": 1,
      "metadata": {
        "id": "8gOYnZ5KUusO"
      },
      "outputs": [],
      "source": [
        "import IPython\n",
        "\n",
        "def in_colab():\n",
        "    try:\n",
        "        import google.colab\n",
        "        return True\n",
        "    except:\n",
        "        return False\n",
        "\n",
        "SolutionToTask1 = lambda: IPython.display.display(IPython.display.Javascript('window.open(\"{url}\");'.format(url='https://colab.research.google.com/drive/14iMrRXkOt8qWnhj2Ux99RqCDUQOaO56K?usp=sharing#scrollTo=-TdICF5gRr_b' if in_colab() else 'QB_A3_Python12_Basics_Loops_Solutions.ipynb#task1')))\n",
        "SolutionToTask2 = lambda: IPython.display.display(IPython.display.Javascript('window.open(\"{url}\");'.format(url='https://colab.research.google.com/drive/14iMrRXkOt8qWnhj2Ux99RqCDUQOaO56K?usp=sharing#scrollTo=eYG4QcUDRr_c' if in_colab() else 'QB_A3_Python12_Basics_Loops_Solutions.ipynb#task2')))\n",
        "SolutionToTask3 = lambda: IPython.display.display(IPython.display.Javascript('window.open(\"{url}\");'.format(url='https://colab.research.google.com/drive/14iMrRXkOt8qWnhj2Ux99RqCDUQOaO56K?usp=sharing#scrollTo=PB5Jy-H-Rr_c' if in_colab() else 'QB_A3_Python12_Basics_Loops_Solutions.ipynb#task3')))\n",
        "SolutionToTask4 = lambda: IPython.display.display(IPython.display.Javascript('window.open(\"{url}\");'.format(url='https://colab.research.google.com/drive/14iMrRXkOt8qWnhj2Ux99RqCDUQOaO56K?usp=sharing#scrollTo=hRc4FoIsRr_d' if in_colab() else 'QB_A3_Python12_Basics_Loops_Solutions.ipynb#task4')))\n",
        "SolutionToTask5 = lambda: IPython.display.display(IPython.display.Javascript('window.open(\"{url}\");'.format(url='https://colab.research.google.com/drive/14iMrRXkOt8qWnhj2Ux99RqCDUQOaO56K?usp=sharing#scrollTo=AFpSNaziRr_d' if in_colab() else 'QB_A3_Python12_Basics_Loops_Solutions.ipynb#task5')))"
      ]
    },
    {
      "cell_type": "markdown",
      "metadata": {
        "id": "1et1bPjcUusP"
      },
      "source": [
        "##### We review using loops in Python here.\n",
        "\n",
        "Run each cell and check the results."
      ]
    },
    {
      "cell_type": "markdown",
      "metadata": {
        "id": "lrBDuLFJUusP"
      },
      "source": [
        "<h3> For-loop </h3>"
      ]
    },
    {
      "cell_type": "code",
      "execution_count": 2,
      "metadata": {
        "id": "3tVu-UaHUusP",
        "outputId": "80fdfa59-49ff-488e-8660-babceea687f4",
        "colab": {
          "base_uri": "https://localhost:8080/"
        }
      },
      "outputs": [
        {
          "output_type": "stream",
          "name": "stdout",
          "text": [
            "0\n",
            "1\n",
            "2\n",
            "3\n",
            "4\n",
            "5\n",
            "6\n",
            "7\n",
            "8\n",
            "9\n"
          ]
        }
      ],
      "source": [
        "# let's print all numbers between 0 and 9\n",
        "for i in range(10): print(i)\n",
        "# range(n) represents the list of all numbers from 0 to n-1\n",
        "# i is the variable to take the values in the range(n) iteratively: 0,1,...,9 in our example"
      ]
    },
    {
      "cell_type": "code",
      "execution_count": 3,
      "metadata": {
        "id": "8JJ1ouYpUusQ",
        "outputId": "3ba43bea-26d4-4e11-a9d9-746a86948af8",
        "colab": {
          "base_uri": "https://localhost:8080/"
        }
      },
      "outputs": [
        {
          "output_type": "stream",
          "name": "stdout",
          "text": [
            "0\n",
            "1\n",
            "2\n",
            "3\n",
            "4\n",
            "5\n",
            "6\n",
            "7\n",
            "8\n",
            "9\n"
          ]
        }
      ],
      "source": [
        "# let's write the same code in two lines\n",
        "for i in range(10): # do not forget to use colon\n",
        "    print(i)\n",
        "    # the second line is indented\n",
        "    # this means that the command in the second line will be executed inside the for-loop\n",
        "    # any other code executed inside the for-loop must be intented in the same way\n",
        "    #my_code_inside_for-loop_2 will come here\n",
        "    #my_code_inside_for-loop_3 will come here\n",
        "    #my_code_inside_for-loop_4 will come here\n",
        "# now I am out of the scope of for-loop\n",
        "#my_code_outside_for-loop_1 will come here\n",
        "#my_code_outside_for-loop_2 will come here"
      ]
    },
    {
      "cell_type": "code",
      "execution_count": 4,
      "metadata": {
        "id": "Lp02oSX4UusQ",
        "outputId": "91b35c26-f7e8-4864-b489-ae6073081591",
        "colab": {
          "base_uri": "https://localhost:8080/"
        }
      },
      "outputs": [
        {
          "output_type": "stream",
          "name": "stdout",
          "text": [
            "55\n"
          ]
        }
      ],
      "source": [
        "# let's calculate the summation 1+2+...+10 by using a for-loop\n",
        "\n",
        "# we use variable total for the total summation\n",
        "total = 0\n",
        "for i in range(11): # do not forget to use colon\n",
        "    total = total + i # the value of total is increased by i in each iteration\n",
        "    # alternatively, the same assignment can shortly be written as total += i similarly to the languages C, C++, Java, etc.\n",
        "# now I am out of the scope of for-loop\n",
        "# let's print the final value of total\n",
        "print(total)"
      ]
    },
    {
      "cell_type": "code",
      "execution_count": 5,
      "metadata": {
        "id": "Yfp5hn99UusQ",
        "outputId": "c1b17fb0-de8e-43c3-d55c-6d440d44a7c0",
        "colab": {
          "base_uri": "https://localhost:8080/"
        }
      },
      "outputs": [
        {
          "output_type": "stream",
          "name": "stdout",
          "text": [
            "486\n"
          ]
        }
      ],
      "source": [
        "# let's calculate the summation 10+12+14+...+44\n",
        "# we create a list having all numbers in the summation\n",
        "# for this purpose, this time we will use three parameters in range\n",
        "total = 0\n",
        "for j in range(10,45,2): # the range is defined between 10 and 44, and the value of j will be increased by 2 after each iteration\n",
        "    total += j # let's use the shortened version of total = total + j this time\n",
        "print(total)"
      ]
    },
    {
      "cell_type": "code",
      "execution_count": 6,
      "metadata": {
        "id": "f-vqFtbDUusQ",
        "outputId": "9d361cb6-4932-46b0-e0f7-4adfb08f06dd",
        "colab": {
          "base_uri": "https://localhost:8080/"
        }
      },
      "outputs": [
        {
          "output_type": "stream",
          "name": "stdout",
          "text": [
            "511\n"
          ]
        }
      ],
      "source": [
        "# let's calculate the summation 1+2+4+8+16+...+256\n",
        "# remark that 256 = 2*2*...*2 (8 times)\n",
        "total = 0\n",
        "current_number = 1 # this value will be multiplied by 2 after each iteration\n",
        "for k in range(9):\n",
        "    total = total + current_number # current_number is 1 at the beginning, and its value will be doubled after each iteration\n",
        "    current_number = 2 * current_number # let's double the value of the current_number for the next iteration\n",
        "    # short version of the same assignment: current_number *= 2 as in the languages C, C++, Java, etc.\n",
        "# now I am out of the scope of for-loop\n",
        "# let's print the latest value of total\n",
        "print(total)"
      ]
    },
    {
      "cell_type": "code",
      "execution_count": 7,
      "metadata": {
        "id": "XYDn3ZabUusQ",
        "outputId": "a25a9fd9-8a98-4427-e7dd-0c791858d016",
        "colab": {
          "base_uri": "https://localhost:8080/"
        }
      },
      "outputs": [
        {
          "output_type": "stream",
          "name": "stdout",
          "text": [
            "1\n",
            "10\n",
            "100\n",
            "1000\n",
            "10000\n"
          ]
        }
      ],
      "source": [
        "# instead of range, we may also directly use a list if it is short\n",
        "for i in [1,10,100,1000,10000]:\n",
        "    print(i)"
      ]
    },
    {
      "cell_type": "code",
      "execution_count": 8,
      "metadata": {
        "id": "daQZn_0EUusR",
        "outputId": "cf9c8705-be21-45b8-db4d-1a656740eb02",
        "colab": {
          "base_uri": "https://localhost:8080/"
        }
      },
      "outputs": [
        {
          "output_type": "stream",
          "name": "stdout",
          "text": [
            "1\n",
            "10\n",
            "100\n",
            "1000\n",
            "10000\n"
          ]
        }
      ],
      "source": [
        "# instead of [...], we may also use (...)\n",
        "# but this time it is a tuple, not a list (keep in your mind that the values in a tuple cannot be changed)\n",
        "for i in (1,10,100,1000,10000):\n",
        "    print(i)"
      ]
    },
    {
      "cell_type": "code",
      "execution_count": 9,
      "metadata": {
        "id": "YHZA-3ogUusR",
        "outputId": "38d07bc3-296d-48cc-a0b7-0bd8aeeb93ae",
        "colab": {
          "base_uri": "https://localhost:8080/"
        }
      },
      "outputs": [
        {
          "output_type": "stream",
          "name": "stdout",
          "text": [
            "14\n",
            "21\n",
            "28\n",
            "35\n",
            "42\n",
            "49\n",
            "56\n",
            "63\n",
            "70\n",
            "77\n",
            "84\n",
            "91\n"
          ]
        }
      ],
      "source": [
        "# let's create a range between 10 and 91 that contains the multiples of 7\n",
        "for j in range(14,92,7):\n",
        "    # 14 is the first multiple of 7 greater than or equal to 10; so we should start with 14\n",
        "    # 91 should be in the range, and so we end the range with 92\n",
        "    print(j)"
      ]
    },
    {
      "cell_type": "code",
      "execution_count": 10,
      "metadata": {
        "id": "dzKeHt6IUusR",
        "outputId": "1c7920f4-4b60-4d38-d76e-3cf90e0e266b",
        "colab": {
          "base_uri": "https://localhost:8080/"
        }
      },
      "outputs": [
        {
          "output_type": "stream",
          "name": "stdout",
          "text": [
            "11\n",
            "12\n",
            "13\n",
            "14\n",
            "15\n",
            "16\n",
            "17\n",
            "18\n",
            "19\n",
            "20\n",
            "21\n",
            "22\n"
          ]
        }
      ],
      "source": [
        "# let's create a range between 11 and 22\n",
        "for i in range(11,23):\n",
        "    print(i)"
      ]
    },
    {
      "cell_type": "code",
      "execution_count": 11,
      "metadata": {
        "id": "KcnmpzFYUusR",
        "outputId": "0ef81979-343d-48fe-9731-564b3cbaca62",
        "colab": {
          "base_uri": "https://localhost:8080/"
        }
      },
      "outputs": [
        {
          "output_type": "stream",
          "name": "stdout",
          "text": [
            "5\n",
            "6\n",
            "7\n",
            "8\n",
            "9\n"
          ]
        }
      ],
      "source": [
        "# we can also use variables in range\n",
        "n = 5\n",
        "for j in range(n,2*n):\n",
        "    print(j) # we will print all numbers in {n,n+1,n+2,...,2n-1}"
      ]
    },
    {
      "cell_type": "code",
      "execution_count": 12,
      "metadata": {
        "id": "ohcsoSqdUusR",
        "outputId": "51bb4a1d-6f32-49ab-c408-02ab1be1734c",
        "colab": {
          "base_uri": "https://localhost:8080/"
        }
      },
      "outputs": [
        {
          "output_type": "stream",
          "name": "stdout",
          "text": [
            "Hello Asja :-)\n",
            "Hello Balvis :-)\n",
            "Hello Fyodor :-)\n"
          ]
        }
      ],
      "source": [
        "# we can use a list of strings\n",
        "for name in (\"Asja\",\"Balvis\",\"Fyodor\"):\n",
        "    print(\"Hello\",name,\":-)\")"
      ]
    },
    {
      "cell_type": "code",
      "execution_count": 13,
      "metadata": {
        "id": "_sFxj4SrUusR",
        "outputId": "c4616b7b-b6a5-4719-e858-d37da05b0854",
        "colab": {
          "base_uri": "https://localhost:8080/"
        }
      },
      "outputs": [
        {
          "output_type": "stream",
          "name": "stdout",
          "text": [
            "[0, 1, 2, 3, 4, 5, 6, 7, 8, 9]\n",
            "[55, 66, 77, 88, 99, 110, 121, 132, 143, 154, 165, 176, 187, 198]\n"
          ]
        }
      ],
      "source": [
        "# any range indeed returns a list\n",
        "L1 = list(range(10))\n",
        "print(L1)\n",
        "\n",
        "L2 = list(range(55,200,11))\n",
        "print(L2)"
      ]
    },
    {
      "cell_type": "markdown",
      "metadata": {
        "id": "r6EVwgb5UusR"
      },
      "source": [
        "<h3> Task 1 </h3>\n",
        "\n",
        "Calculate the value of summation $ 3+6+9+\\cdots+51 $, and then print the result.\n",
        "\n",
        "Your result should be 459."
      ]
    },
    {
      "cell_type": "code",
      "execution_count": 15,
      "metadata": {
        "id": "SaZEMbhPUusR",
        "outputId": "8ac37f26-faad-40b8-f764-76a24abbce3c",
        "colab": {
          "base_uri": "https://localhost:8080/"
        }
      },
      "outputs": [
        {
          "output_type": "stream",
          "name": "stdout",
          "text": [
            "The summation is 459\n",
            "The summation is 459\n"
          ]
        }
      ],
      "source": [
        "#\n",
        "# your solution is here\n",
        "#\n",
        "total1 = 0\n",
        "total2 = 0\n",
        "\n",
        "for i in range(3,52,3):\n",
        "    total1 = total1 + i\n",
        "    total2 += i # shorter form\n",
        "\n",
        "print(\"The summation is\",total1)\n",
        "print(\"The summation is\",total2)"
      ]
    },
    {
      "cell_type": "markdown",
      "metadata": {
        "id": "HujDQhz2UusR"
      },
      "source": [
        "To check out our solution, run the next cell:"
      ]
    },
    {
      "cell_type": "code",
      "execution_count": 14,
      "metadata": {
        "id": "HHTOXALLUusR",
        "outputId": "ccc31e87-38e7-44a8-a091-365a1e580d3d",
        "colab": {
          "base_uri": "https://localhost:8080/",
          "height": 17
        }
      },
      "outputs": [
        {
          "output_type": "display_data",
          "data": {
            "text/plain": [
              "<IPython.core.display.Javascript object>"
            ],
            "application/javascript": [
              "window.open(\"https://colab.research.google.com/drive/14iMrRXkOt8qWnhj2Ux99RqCDUQOaO56K?usp=sharing#scrollTo=-TdICF5gRr_b\");"
            ]
          },
          "metadata": {}
        }
      ],
      "source": [
        "SolutionToTask1()  # show solution for task 1"
      ]
    },
    {
      "cell_type": "markdown",
      "metadata": {
        "id": "EqoU0z0fUusR"
      },
      "source": [
        "<h3> Task 2 </h3>\n",
        "\n",
        "$ 3^k $ means $ 3 \\cdot 3 \\cdot \\cdots \\cdot 3 $ ($ k $ times) for $ k \\geq 2 $.\n",
        "\n",
        "Moreover, $ 3^0  $ is 1 and $ 3^1 = 3 $.\n",
        "\n",
        "Calculate the value of summation $ 3^0 + 3^1 + 3^2 + \\cdots + 3^8 $, and then print the result.\n",
        "\n",
        "Your result should be 9841."
      ]
    },
    {
      "cell_type": "code",
      "execution_count": 17,
      "metadata": {
        "id": "2Bb40CzaUusR",
        "outputId": "316e7736-42a1-4799-9e17-c63c4ea3214c",
        "colab": {
          "base_uri": "https://localhost:8080/"
        }
      },
      "outputs": [
        {
          "output_type": "stream",
          "name": "stdout",
          "text": [
            "3 to 0 is 1\n",
            "3 to 1 is 3\n",
            "3 to 2 is 9\n",
            "3 to 3 is 27\n",
            "3 to 4 is 81\n",
            "3 to 5 is 243\n",
            "3 to 6 is 729\n",
            "3 to 7 is 2187\n",
            "3 to 8 is 6561\n",
            "summation is 9841\n"
          ]
        }
      ],
      "source": [
        "#\n",
        "# your solution is here\n",
        "#\n",
        "# Python has also exponent operator: **\n",
        "# we can also directly use it\n",
        "\n",
        "T = 0\n",
        "\n",
        "for i in range(9):\n",
        "    print(\"3 to\",i,\"is\",3**i)\n",
        "    T = T + 3 ** i\n",
        "\n",
        "print(\"summation is\",T)"
      ]
    },
    {
      "cell_type": "markdown",
      "metadata": {
        "id": "bUJrJ_GZUusR"
      },
      "source": [
        "To check out our solution, run the next cell:"
      ]
    },
    {
      "cell_type": "code",
      "execution_count": null,
      "metadata": {
        "id": "_5oifvLYUusR"
      },
      "outputs": [],
      "source": [
        "SolutionToTask2()  # show solution for task 2"
      ]
    },
    {
      "cell_type": "markdown",
      "metadata": {
        "id": "JCktV-siUusS"
      },
      "source": [
        "<h3> While-loop </h3>"
      ]
    },
    {
      "cell_type": "code",
      "execution_count": 18,
      "metadata": {
        "id": "tLhNsZIjUusS",
        "outputId": "e2eefa0b-a16c-4522-c3e7-f04ddb5bc66a",
        "colab": {
          "base_uri": "https://localhost:8080/"
        }
      },
      "outputs": [
        {
          "output_type": "stream",
          "name": "stdout",
          "text": [
            "511\n"
          ]
        }
      ],
      "source": [
        "# let's calculate the summation 1+2+4+8+...+256 by using a while-loop\n",
        "total = 0\n",
        "i = 1\n",
        "\n",
        "#while condition(s):\n",
        "#    your_code1\n",
        "#    your_code2\n",
        "#    your_code3\n",
        "while i < 257: # this loop iterates as long as i is less than 257\n",
        "    total = total + i\n",
        "    i = i * 2 # i is doubled in each iteration, and so soon it will be greater than 256\n",
        "\n",
        "print(total)\n",
        "# we do the same summation by using for-loop above"
      ]
    },
    {
      "cell_type": "code",
      "execution_count": 19,
      "metadata": {
        "id": "lRNTxsmiUusS",
        "outputId": "135c1419-b85d-46e3-e11c-fe8714fce378",
        "colab": {
          "base_uri": "https://localhost:8080/"
        }
      },
      "outputs": [
        {
          "output_type": "stream",
          "name": "stdout",
          "text": [
            "0\n",
            "1\n",
            "2\n",
            "3\n",
            "4\n",
            "5\n"
          ]
        }
      ],
      "source": [
        "L = [0,1,2,3,4,5,11] # this is a list containing 7 integer values\n",
        "i = 0\n",
        "while i in L: # this loop will be iterated as long as i is in L\n",
        "    print(i)\n",
        "    i = i + 1 # the value of i iteratively increased, and so soon it will hit a value not in the list L\n",
        "\n",
        "# the loop is terminated after i is set to 6, because 6 is not in L"
      ]
    },
    {
      "cell_type": "code",
      "execution_count": 20,
      "metadata": {
        "id": "HEaWSIkaUusS",
        "outputId": "89864aa6-d596-45e6-a47d-c3b6d6f485dc",
        "colab": {
          "base_uri": "https://localhost:8080/"
        }
      },
      "outputs": [
        {
          "output_type": "stream",
          "name": "stdout",
          "text": [
            "0\n",
            "1\n",
            "2\n",
            "3\n",
            "4\n",
            "5\n",
            "6\n",
            "7\n",
            "8\n",
            "9\n"
          ]
        }
      ],
      "source": [
        "# let's use negation in the condition of while-loop\n",
        "L = [10] # this list has a single element\n",
        "i = 0\n",
        "while i not in L: # this loop will be iterated as long as i is not equal to 10\n",
        "    print(i)\n",
        "    i = i+1 # the value of i will hit 10 after ten iterations\n"
      ]
    },
    {
      "cell_type": "code",
      "execution_count": 21,
      "metadata": {
        "id": "VRBJY9dZUusS",
        "outputId": "506de207-7b5f-4a30-fa16-9800e5401880",
        "colab": {
          "base_uri": "https://localhost:8080/"
        }
      },
      "outputs": [
        {
          "output_type": "stream",
          "name": "stdout",
          "text": [
            "0\n",
            "1\n",
            "2\n",
            "3\n",
            "4\n",
            "5\n",
            "6\n",
            "7\n",
            "8\n",
            "9\n"
          ]
        }
      ],
      "source": [
        "# let's rewrite the same loop by using a direct inequality\n",
        "i = 0\n",
        "while i != 10: # \"!=\" is used for operator \"not equal to\"\n",
        "    print(i)\n",
        "    i=i+1"
      ]
    },
    {
      "cell_type": "code",
      "execution_count": 22,
      "metadata": {
        "id": "kk8gP939UusS",
        "outputId": "d74193ec-291b-4731-b958-58b7f95fe5bb",
        "colab": {
          "base_uri": "https://localhost:8080/"
        }
      },
      "outputs": [
        {
          "output_type": "stream",
          "name": "stdout",
          "text": [
            "0\n",
            "1\n",
            "2\n",
            "3\n",
            "4\n",
            "5\n",
            "6\n",
            "7\n",
            "8\n",
            "9\n"
          ]
        }
      ],
      "source": [
        "# let's rewrite the same loop by using negation of equality\n",
        "i = 0\n",
        "while not (i == 10): # \"==\" is used for operator \"equal to\"\n",
        "    print(i)\n",
        "    i=i+1\n",
        "\n",
        "# while-loop seems having more fun :-)\n",
        "# but we should be more careful when writing the condition(s)!"
      ]
    },
    {
      "cell_type": "markdown",
      "metadata": {
        "id": "FM78AcV3UusS"
      },
      "source": [
        "Consider the summation $ S(n) =  1+ 2+ 3 + \\cdots + n $ for some natural number $ n $.\n",
        "\n",
        "Let's find the minimum value of $ n $ such that $ S(n) \\geq 1000 $.\n",
        "\n",
        "While-loop works very well for this task.\n",
        "<ul>\n",
        "    <li>We can iteratively increase $ n $ and update the value of $ S(n) $.</li>\n",
        "    <li>The loop iterates as long as $S(n)$ is less than 1000.</li>\n",
        "    <li>Once it hits 1000 or a greater number, the loop will be terminated.</li>\n",
        "</ul>"
      ]
    },
    {
      "cell_type": "code",
      "execution_count": 23,
      "metadata": {
        "id": "IEkQitj1UusS",
        "outputId": "2788426a-b5de-4456-c010-e0b7632b54c0",
        "colab": {
          "base_uri": "https://localhost:8080/"
        }
      },
      "outputs": [
        {
          "output_type": "stream",
          "name": "stdout",
          "text": [
            "n = 45  S = 1035\n"
          ]
        }
      ],
      "source": [
        "# summation and n are zeros at the beginning\n",
        "S = 0\n",
        "n = 0\n",
        "while S < 1000: # this loop will stop after S exceeds 999 (S = 1000 or S > 1000)\n",
        "    n = n +1\n",
        "    S = S + n\n",
        "# let's print n and S\n",
        "print(\"n =\",n,\" S =\",S)"
      ]
    },
    {
      "cell_type": "markdown",
      "metadata": {
        "id": "r7r0efMuUusS"
      },
      "source": [
        "<h3> Task 3 </h3>\n",
        "\n",
        "Consider the summation $ T(n) = 1 + \\dfrac{1}{2} + \\dfrac{1}{4}+ \\dfrac{1}{8} + \\cdots + \\dfrac{1}{2^n} $ for some natural number $ n $.\n",
        "\n",
        "Remark that $ T(0) = \\dfrac{1}{2^0} = \\dfrac{1}{1} = 1 $.\n",
        "\n",
        "This summation can be arbitrarily close to $2$.\n",
        "\n",
        "Find the minimum value of $ n $ such that $ T(n) $ is close to $2$ by $ 0.01 $, i.e., $ 2 - T(n) < 0.01 $.\n",
        "\n",
        "In other words, we find the minimum value of $n$ such that $ T(n) > 1.99 $.\n",
        "\n",
        "The operator for \"less than or equal to\" in python is \"$ < = $\"."
      ]
    },
    {
      "cell_type": "code",
      "execution_count": 25,
      "metadata": {
        "id": "mQiuWMOLUusS",
        "outputId": "750f53a1-b4a7-4499-e1e2-398c5246d37b",
        "colab": {
          "base_uri": "https://localhost:8080/"
        }
      },
      "outputs": [
        {
          "output_type": "stream",
          "name": "stdout",
          "text": [
            "Iteration = 1 and n = 1.0\n",
            " T = 1.0\n",
            " Is T less than or equal to 1.99? - True\n",
            "\n",
            "Iteration = 2 and n = 0.5\n",
            " T = 1.5\n",
            " Is T less than or equal to 1.99? - True\n",
            "\n",
            "Iteration = 3 and n = 0.25\n",
            " T = 1.75\n",
            " Is T less than or equal to 1.99? - True\n",
            "\n",
            "Iteration = 4 and n = 0.125\n",
            " T = 1.875\n",
            " Is T less than or equal to 1.99? - True\n",
            "\n",
            "Iteration = 5 and n = 0.0625\n",
            " T = 1.9375\n",
            " Is T less than or equal to 1.99? - True\n",
            "\n",
            "Iteration = 6 and n = 0.03125\n",
            " T = 1.96875\n",
            " Is T less than or equal to 1.99? - True\n",
            "\n",
            "Iteration = 7 and n = 0.015625\n",
            " T = 1.984375\n",
            " Is T less than or equal to 1.99? - True\n",
            "\n",
            "Iteration = 8 and n = 0.0078125\n",
            " T = 1.9921875\n",
            " Is T less than or equal to 1.99? - False\n",
            "\n",
            "\n",
            "The number of terms in the summation: 8\n"
          ]
        }
      ],
      "source": [
        "# three examples for the operator \"less than or equal to\"\n",
        "#print (4 <= 5)\n",
        "#print (5 <= 5)\n",
        "#print (6 <= 5)\n",
        "# you may comment out the above three lines and see the results by running this cell\n",
        "\n",
        "#\n",
        "# your solution is here\n",
        "#\n",
        "T = 0\n",
        "n = 2  # this value iteratively will be first halved and then added to the summation T\n",
        "number_of_iteration = 1\n",
        "number_of_terms = 0\n",
        "\n",
        "while T<=1.99:\n",
        "    n = n/2 # half the value of n\n",
        "    print(\"Iteration =\",number_of_iteration,\"and n =\",n)\n",
        "    T = T + n # update the value of T\n",
        "    print(\" T =\",T)\n",
        "    print(\" Is T less than or equal to 1.99? -\",(T<=1.99))\n",
        "    number_of_terms = number_of_terms + 1\n",
        "    number_of_iteration +=1\n",
        "    print()\n",
        "\n",
        "print()\n",
        "print(\"The number of terms in the summation:\",number_of_terms)"
      ]
    },
    {
      "cell_type": "markdown",
      "metadata": {
        "id": "rGEp3MKDUusS"
      },
      "source": [
        "To check out our solution, run the next cell:"
      ]
    },
    {
      "cell_type": "code",
      "execution_count": null,
      "metadata": {
        "id": "oR4kZLS6UusS"
      },
      "outputs": [],
      "source": [
        "SolutionToTask3()  # show solution for task 3"
      ]
    },
    {
      "cell_type": "markdown",
      "metadata": {
        "id": "aGpTJcz5UusS"
      },
      "source": [
        "<h3> Task 4 </h3>\n",
        "\n",
        "Randomly pick number(s) between 0 and 9 until hitting 3, and then print the number of attempt(s).\n",
        "\n",
        "We can use <i>randrange</i> function from <i>random</i> module for randomly picking a number in the given range."
      ]
    },
    {
      "cell_type": "code",
      "execution_count": 26,
      "metadata": {
        "id": "PXkpOJ8eUusS",
        "outputId": "35209f35-6bc9-4bff-c167-0aae83132d25",
        "colab": {
          "base_uri": "https://localhost:8080/"
        }
      },
      "outputs": [
        {
          "output_type": "stream",
          "name": "stdout",
          "text": [
            "1 -> 6\n",
            "2 -> 3\n",
            "total number of attempt(s) is 2\n"
          ]
        }
      ],
      "source": [
        "# this is the code for including function randrange into our program\n",
        "from random import randrange\n",
        "# randrange(n) picks a number from the list [0,1,2,...,n-1] randomly\n",
        "#r = randrange(100)\n",
        "#print(r)\n",
        "\n",
        "#\n",
        "# your solution is here\n",
        "#\n",
        "from random import randrange\n",
        "\n",
        "r = 0\n",
        "attempt = 0\n",
        "\n",
        "while r != 3: # the loop iterates as long as r is not equal to 3\n",
        "    r = randrange(10) # randomly pick a number from {0,1,...,9}\n",
        "    attempt = attempt + 1 # increase the number of attempts by 1\n",
        "    print (attempt,\"->\",r) # print the number of attempt and the randomly picked number\n",
        "\n",
        "print(\"total number of attempt(s) is\",attempt)"
      ]
    },
    {
      "cell_type": "markdown",
      "metadata": {
        "id": "jCQlKQXxUusT"
      },
      "source": [
        "To check out our solution, run the next cell:"
      ]
    },
    {
      "cell_type": "code",
      "execution_count": null,
      "metadata": {
        "id": "b0YCQkg8UusT"
      },
      "outputs": [],
      "source": [
        "SolutionToTask4()  # show solution for task 4"
      ]
    },
    {
      "cell_type": "markdown",
      "metadata": {
        "id": "X0sVonYRUusT"
      },
      "source": [
        "<h3> Task 5 </h3>\n",
        "\n",
        "This task is challenging .\n",
        "\n",
        "It is designed for the usage of double nested loops: one loop inside of the other loop.\n",
        "\n",
        "In the fourth task above, the expected number of attempt(s) to hit number 3 is 10.\n",
        "\n",
        "Do a series of experiments by using your solution for Task 4.\n",
        "\n",
        "Experiment 1: Execute your solution 20 times, and then calculate the average attempts.\n",
        "\n",
        "Experiment 2: Execute your solution 200 times, and then calculate the average attempts.\n",
        "\n",
        "Experiment 3: Execute your solution 2000 times, and then calculate the average attempts.\n",
        "\n",
        "Experiment 4: Execute your solution 20000 times, and then calculate the average attempts.\n",
        "\n",
        "Experiment 5: Execute your solution 200000 times, and then calculate the average attempts.\n",
        "\n",
        "<i>Your experimental average should get closer to 10 when the number of executions is increased.</i>\n",
        "\n",
        "Remark that all five experiments may also be automatically done by using triple loops."
      ]
    },
    {
      "cell_type": "code",
      "source": [
        "# be aware of single and double indentions\n",
        "\n",
        "number_of_execution = 20 # change this with 20, 200, 2000, 20000, 200000 and reexecute this cell\n",
        "total_attempts = 0\n",
        "\n",
        "from random import randrange\n",
        "\n",
        "for i in range(number_of_execution): # the outer loop iterates number_of_execution times\n",
        "    r = 0\n",
        "    attempt = 0\n",
        "    while r != 3: # the while-loop iterates as long as r is not equal to 3\n",
        "        r = randrange(10) # randomly pick a number\n",
        "        attempt = attempt + 1 # increase the number of attempts by 1\n",
        "    # I am out of scope of while-loop\n",
        "    total_attempts = total_attempts + attempt # update the total number of attempts\n",
        "\n",
        "# I am out of scope of for-loop\n",
        "print(\"After\",number_of_execution,\"executions, the average is\",total_attempts/number_of_execution)"
      ],
      "metadata": {
        "id": "2jVCDpWeu4hz",
        "outputId": "714da18d-3e40-4d43-dd6d-8eedc7be614e",
        "colab": {
          "base_uri": "https://localhost:8080/"
        }
      },
      "execution_count": 27,
      "outputs": [
        {
          "output_type": "stream",
          "name": "stdout",
          "text": [
            "After 20 executions, the average is 9.2\n"
          ]
        }
      ]
    },
    {
      "cell_type": "code",
      "source": [
        "# let's use triple nested loops\n",
        "for number_of_execution in [20,200,2000,20000,200000]: # we will use the same code by indenting all lines by one more level\n",
        "    total_attempts = 0\n",
        "    for i in range(number_of_execution): # the middle loop iterates number_of_execution times\n",
        "        r = 0\n",
        "        attempt = 0\n",
        "        while r != 3: # the while-loop iterates as long as r is not equal to 3\n",
        "            r = randrange(10) # randomly pick a number\n",
        "            attempt = attempt + 1 # increase the number of attempts by 1\n",
        "        # I am out of scope of while-loop\n",
        "        total_attempts = total_attempts + attempt # update the total number of attempts\n",
        "    # I am out of scope of for-loop\n",
        "    print(\"After\",number_of_execution,\"executions, the average is\",total_attempts/number_of_execution)\n",
        "\n",
        "# you may include 2 million to the list, but you should WAIT for a while to see the result\n",
        "# Can your computer compete with exponential growth?\n",
        "# if you think \"yes\",  try 20 million, 200 million, and so on"
      ],
      "metadata": {
        "id": "A1v7Vqnvu8H8",
        "outputId": "ce1ca78e-e8c5-4805-c9a8-a5284de9c443",
        "colab": {
          "base_uri": "https://localhost:8080/"
        }
      },
      "execution_count": 28,
      "outputs": [
        {
          "output_type": "stream",
          "name": "stdout",
          "text": [
            "After 20 executions, the average is 6.25\n",
            "After 200 executions, the average is 10.4\n",
            "After 2000 executions, the average is 9.7715\n",
            "After 20000 executions, the average is 9.85985\n",
            "After 200000 executions, the average is 9.96694\n"
          ]
        }
      ]
    },
    {
      "cell_type": "markdown",
      "metadata": {
        "id": "PfJp-Os3UusT"
      },
      "source": [
        "To check out our solution, run the next cell:"
      ]
    },
    {
      "cell_type": "code",
      "execution_count": null,
      "metadata": {
        "id": "7PheGE-OUusT"
      },
      "outputs": [],
      "source": [
        "SolutionToTask5()  # show solution for task 5"
      ]
    },
    {
      "cell_type": "code",
      "execution_count": null,
      "metadata": {
        "id": "6H6XusNaUusT"
      },
      "outputs": [],
      "source": [
        "# here is a schematic example for double nested loops\n",
        "#for i in range(10):\n",
        "#    your_code1\n",
        "#    your_code2\n",
        "#    while j != 7:\n",
        "#        your_code_3\n",
        "#        your_code_4\n",
        "\n",
        "#\n",
        "# your solution is here\n",
        "#\n"
      ]
    }
  ],
  "metadata": {
    "kernelspec": {
      "display_name": "Python 3 (ipykernel)",
      "language": "python",
      "name": "python3"
    },
    "language_info": {
      "codemirror_mode": {
        "name": "ipython",
        "version": 3
      },
      "file_extension": ".py",
      "mimetype": "text/x-python",
      "name": "python",
      "nbconvert_exporter": "python",
      "pygments_lexer": "ipython3",
      "version": "3.11.4"
    },
    "colab": {
      "provenance": [],
      "collapsed_sections": [
        "xFwaFvyHUusO"
      ],
      "include_colab_link": true
    }
  },
  "nbformat": 4,
  "nbformat_minor": 0
}