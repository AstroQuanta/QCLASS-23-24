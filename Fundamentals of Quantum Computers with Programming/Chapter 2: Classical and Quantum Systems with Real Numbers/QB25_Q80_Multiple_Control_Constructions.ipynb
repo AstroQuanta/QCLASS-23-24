{
  "cells": [
    {
      "cell_type": "markdown",
      "metadata": {
        "id": "view-in-github",
        "colab_type": "text"
      },
      "source": [
        "<a href=\"https://colab.research.google.com/github/AstroQuanta/QCLASS-23-24/blob/QBook101/Fundamentals%20of%20Quantum%20Computers%20with%20Programming/Chapter%202%3A%20Classical%20and%20Quantum%20Systems%20with%20Real%20Numbers/QB25_Q80_Multiple_Control_Constructions.ipynb\" target=\"_parent\"><img src=\"https://colab.research.google.com/assets/colab-badge.svg\" alt=\"Open In Colab\"/></a>"
      ]
    },
    {
      "cell_type": "markdown",
      "metadata": {
        "id": "huI2WvMZY4Fp"
      },
      "source": [
        "<a href=\"https://qworld.net\" target=\"_blank\" align=\"left\"><img src=\"https://gitlab.com/qworld/qeducation/qbook101/raw/main/qworld/images/header.jpg\" align=\"left\"></a>\n",
        "$ \\newcommand{\\bra}[1]{\\langle #1|} $\n",
        "$ \\newcommand{\\ket}[1]{|#1\\rangle} $\n",
        "$ \\newcommand{\\braket}[2]{\\langle #1|#2\\rangle} $\n",
        "$ \\newcommand{\\dot}[2]{ #1 \\cdot #2} $\n",
        "$ \\newcommand{\\biginner}[2]{\\left\\langle #1,#2\\right\\rangle} $\n",
        "$ \\newcommand{\\mymatrix}[2]{\\left( \\begin{array}{#1} #2\\end{array} \\right)} $\n",
        "$ \\newcommand{\\myvector}[1]{\\mymatrix{c}{#1}} $\n",
        "$ \\newcommand{\\myrvector}[1]{\\mymatrix{r}{#1}} $\n",
        "$ \\newcommand{\\mypar}[1]{\\left( #1 \\right)} $\n",
        "$ \\newcommand{\\mybigpar}[1]{ \\Big( #1 \\Big)} $\n",
        "$ \\newcommand{\\sqrttwo}{\\frac{1}{\\sqrt{2}}} $\n",
        "$ \\newcommand{\\dsqrttwo}{\\dfrac{1}{\\sqrt{2}}} $\n",
        "$ \\newcommand{\\onehalf}{\\frac{1}{2}} $\n",
        "$ \\newcommand{\\donehalf}{\\dfrac{1}{2}} $\n",
        "$ \\newcommand{\\hadamard}{ \\mymatrix{rr}{ \\sqrttwo & \\sqrttwo \\\\ \\sqrttwo & -\\sqrttwo }} $\n",
        "$ \\newcommand{\\vzero}{\\myvector{1\\\\0}} $\n",
        "$ \\newcommand{\\vone}{\\myvector{0\\\\1}} $\n",
        "$ \\newcommand{\\stateplus}{\\myvector{ \\sqrttwo \\\\  \\sqrttwo } } $\n",
        "$ \\newcommand{\\stateminus}{ \\myrvector{ \\sqrttwo \\\\ -\\sqrttwo } } $\n",
        "$ \\newcommand{\\myarray}[2]{ \\begin{array}{#1}#2\\end{array}} $\n",
        "$ \\newcommand{\\X}{ \\mymatrix{cc}{0 & 1 \\\\ 1 & 0}  } $\n",
        "$ \\newcommand{\\I}{ \\mymatrix{rr}{1 & 0 \\\\ 0 & 1}  } $\n",
        "$ \\newcommand{\\Z}{ \\mymatrix{rr}{1 & 0 \\\\ 0 & -1}  } $\n",
        "$ \\newcommand{\\Htwo}{ \\mymatrix{rrrr}{ \\frac{1}{2} & \\frac{1}{2} & \\frac{1}{2} & \\frac{1}{2} \\\\ \\frac{1}{2} & -\\frac{1}{2} & \\frac{1}{2} & -\\frac{1}{2} \\\\ \\frac{1}{2} & \\frac{1}{2} & -\\frac{1}{2} & -\\frac{1}{2} \\\\ \\frac{1}{2} & -\\frac{1}{2} & -\\frac{1}{2} & \\frac{1}{2} } } $\n",
        "$ \\newcommand{\\CNOT}{ \\mymatrix{cccc}{1 & 0 & 0 & 0 \\\\ 0 & 1 & 0 & 0 \\\\ 0 & 0 & 0 & 1 \\\\ 0 & 0 & 1 & 0} } $\n",
        "$ \\newcommand{\\norm}[1]{ \\left\\lVert #1 \\right\\rVert } $\n",
        "$ \\newcommand{\\pstate}[1]{ \\lceil \\mspace{-1mu} #1 \\mspace{-1.5mu} \\rfloor } $\n",
        "$ \\newcommand{\\greenbit}[1] {\\mathbf{{\\color{green}#1}}} $\n",
        "$ \\newcommand{\\bluebit}[1] {\\mathbf{{\\color{blue}#1}}} $\n",
        "$ \\newcommand{\\redbit}[1] {\\mathbf{{\\color{red}#1}}} $\n",
        "$ \\newcommand{\\brownbit}[1] {\\mathbf{{\\color{brown}#1}}} $\n",
        "$ \\newcommand{\\blackbit}[1] {\\mathbf{{\\color{black}#1}}} $"
      ]
    },
    {
      "cell_type": "markdown",
      "metadata": {
        "id": "Mxt6Z8yBY4Fr"
      },
      "source": [
        "_prepared by Maksim Dimitrijev and Abuzer Yakaryilmaz_"
      ]
    },
    {
      "cell_type": "markdown",
      "metadata": {
        "id": "f1RzCBU3Y4Fr"
      },
      "source": [
        "<font size=\"28px\" style=\"font-size:28px;\" align=\"left\"><b> Multiple Control Constructions </b></font>\n",
        "<br>\n",
        "<br><br>\n",
        "[<img src=\"https://gitlab.com/qworld/qeducation/qbook101/raw/main/qworld/images/watch_lecture.jpg\" align=\"left\">](https://youtu.be/eoFJdS5BwkA)\n",
        "<br><br><br>"
      ]
    },
    {
      "cell_type": "markdown",
      "metadata": {
        "jp-MarkdownHeadingCollapsed": true,
        "id": "7oOgTIIwY4Fs"
      },
      "source": [
        "##### <font color=\"#08b806\">Please execute the following cell, it is necessary to distinguish between your local environment and Google Colab's"
      ]
    },
    {
      "cell_type": "code",
      "execution_count": 1,
      "metadata": {
        "id": "LoxQr2i_Y4Fs",
        "outputId": "a476a7b2-b74d-413c-e0f1-d58a71e5c5fe",
        "colab": {
          "base_uri": "https://localhost:8080/"
        }
      },
      "outputs": [
        {
          "output_type": "stream",
          "name": "stdout",
          "text": [
            "Collecting qiskit[visualization]\n",
            "  Downloading qiskit-0.44.2-py3-none-any.whl (8.2 kB)\n",
            "Collecting qiskit-terra==0.25.2.1 (from qiskit[visualization])\n",
            "  Downloading qiskit_terra-0.25.2.1-cp38-abi3-manylinux_2_17_x86_64.manylinux2014_x86_64.whl (6.2 MB)\n",
            "\u001b[2K     \u001b[90m━━━━━━━━━━━━━━━━━━━━━━━━━━━━━━━━━━━━━━━━\u001b[0m \u001b[32m6.2/6.2 MB\u001b[0m \u001b[31m32.4 MB/s\u001b[0m eta \u001b[36m0:00:00\u001b[0m\n",
            "\u001b[?25hCollecting rustworkx>=0.13.0 (from qiskit-terra==0.25.2.1->qiskit[visualization])\n",
            "  Downloading rustworkx-0.13.2-cp310-cp310-manylinux_2_17_x86_64.manylinux2014_x86_64.whl (2.0 MB)\n",
            "\u001b[2K     \u001b[90m━━━━━━━━━━━━━━━━━━━━━━━━━━━━━━━━━━━━━━━━\u001b[0m \u001b[32m2.0/2.0 MB\u001b[0m \u001b[31m63.0 MB/s\u001b[0m eta \u001b[36m0:00:00\u001b[0m\n",
            "\u001b[?25hRequirement already satisfied: numpy>=1.17 in /usr/local/lib/python3.10/dist-packages (from qiskit-terra==0.25.2.1->qiskit[visualization]) (1.23.5)\n",
            "Collecting ply>=3.10 (from qiskit-terra==0.25.2.1->qiskit[visualization])\n",
            "  Downloading ply-3.11-py2.py3-none-any.whl (49 kB)\n",
            "\u001b[2K     \u001b[90m━━━━━━━━━━━━━━━━━━━━━━━━━━━━━━━━━━━━━━━━\u001b[0m \u001b[32m49.6/49.6 kB\u001b[0m \u001b[31m6.3 MB/s\u001b[0m eta \u001b[36m0:00:00\u001b[0m\n",
            "\u001b[?25hRequirement already satisfied: psutil>=5 in /usr/local/lib/python3.10/dist-packages (from qiskit-terra==0.25.2.1->qiskit[visualization]) (5.9.5)\n",
            "Requirement already satisfied: scipy>=1.5 in /usr/local/lib/python3.10/dist-packages (from qiskit-terra==0.25.2.1->qiskit[visualization]) (1.11.3)\n",
            "Requirement already satisfied: sympy>=1.3 in /usr/local/lib/python3.10/dist-packages (from qiskit-terra==0.25.2.1->qiskit[visualization]) (1.12)\n",
            "Collecting dill>=0.3 (from qiskit-terra==0.25.2.1->qiskit[visualization])\n",
            "  Downloading dill-0.3.7-py3-none-any.whl (115 kB)\n",
            "\u001b[2K     \u001b[90m━━━━━━━━━━━━━━━━━━━━━━━━━━━━━━━━━━━━━━━━\u001b[0m \u001b[32m115.3/115.3 kB\u001b[0m \u001b[31m13.3 MB/s\u001b[0m eta \u001b[36m0:00:00\u001b[0m\n",
            "\u001b[?25hRequirement already satisfied: python-dateutil>=2.8.0 in /usr/local/lib/python3.10/dist-packages (from qiskit-terra==0.25.2.1->qiskit[visualization]) (2.8.2)\n",
            "Collecting stevedore>=3.0.0 (from qiskit-terra==0.25.2.1->qiskit[visualization])\n",
            "  Downloading stevedore-5.1.0-py3-none-any.whl (49 kB)\n",
            "\u001b[2K     \u001b[90m━━━━━━━━━━━━━━━━━━━━━━━━━━━━━━━━━━━━━━━━\u001b[0m \u001b[32m49.6/49.6 kB\u001b[0m \u001b[31m6.0 MB/s\u001b[0m eta \u001b[36m0:00:00\u001b[0m\n",
            "\u001b[?25hCollecting symengine<0.10,>=0.9 (from qiskit-terra==0.25.2.1->qiskit[visualization])\n",
            "  Downloading symengine-0.9.2-cp310-cp310-manylinux2010_x86_64.whl (37.5 MB)\n",
            "\u001b[2K     \u001b[90m━━━━━━━━━━━━━━━━━━━━━━━━━━━━━━━━━━━━━━━━\u001b[0m \u001b[32m37.5/37.5 MB\u001b[0m \u001b[31m31.0 MB/s\u001b[0m eta \u001b[36m0:00:00\u001b[0m\n",
            "\u001b[?25hRequirement already satisfied: typing-extensions in /usr/local/lib/python3.10/dist-packages (from qiskit-terra==0.25.2.1->qiskit[visualization]) (4.5.0)\n",
            "Requirement already satisfied: matplotlib>=3.3 in /usr/local/lib/python3.10/dist-packages (from qiskit-terra==0.25.2.1->qiskit[visualization]) (3.7.1)\n",
            "Requirement already satisfied: ipywidgets>=7.3.0 in /usr/local/lib/python3.10/dist-packages (from qiskit-terra==0.25.2.1->qiskit[visualization]) (7.7.1)\n",
            "Requirement already satisfied: pydot in /usr/local/lib/python3.10/dist-packages (from qiskit-terra==0.25.2.1->qiskit[visualization]) (1.4.2)\n",
            "Requirement already satisfied: pillow>=4.2.1 in /usr/local/lib/python3.10/dist-packages (from qiskit-terra==0.25.2.1->qiskit[visualization]) (9.4.0)\n",
            "Collecting pylatexenc>=1.4 (from qiskit-terra==0.25.2.1->qiskit[visualization])\n",
            "  Downloading pylatexenc-2.10.tar.gz (162 kB)\n",
            "\u001b[2K     \u001b[90m━━━━━━━━━━━━━━━━━━━━━━━━━━━━━━━━━━━━━━━━\u001b[0m \u001b[32m162.6/162.6 kB\u001b[0m \u001b[31m15.0 MB/s\u001b[0m eta \u001b[36m0:00:00\u001b[0m\n",
            "\u001b[?25h  Preparing metadata (setup.py) ... \u001b[?25l\u001b[?25hdone\n",
            "Requirement already satisfied: seaborn>=0.9.0 in /usr/local/lib/python3.10/dist-packages (from qiskit-terra==0.25.2.1->qiskit[visualization]) (0.12.2)\n",
            "Requirement already satisfied: pygments>=2.4 in /usr/local/lib/python3.10/dist-packages (from qiskit-terra==0.25.2.1->qiskit[visualization]) (2.16.1)\n",
            "Requirement already satisfied: ipykernel>=4.5.1 in /usr/local/lib/python3.10/dist-packages (from ipywidgets>=7.3.0->qiskit-terra==0.25.2.1->qiskit[visualization]) (5.5.6)\n",
            "Requirement already satisfied: ipython-genutils~=0.2.0 in /usr/local/lib/python3.10/dist-packages (from ipywidgets>=7.3.0->qiskit-terra==0.25.2.1->qiskit[visualization]) (0.2.0)\n",
            "Requirement already satisfied: traitlets>=4.3.1 in /usr/local/lib/python3.10/dist-packages (from ipywidgets>=7.3.0->qiskit-terra==0.25.2.1->qiskit[visualization]) (5.7.1)\n",
            "Requirement already satisfied: widgetsnbextension~=3.6.0 in /usr/local/lib/python3.10/dist-packages (from ipywidgets>=7.3.0->qiskit-terra==0.25.2.1->qiskit[visualization]) (3.6.6)\n",
            "Requirement already satisfied: ipython>=4.0.0 in /usr/local/lib/python3.10/dist-packages (from ipywidgets>=7.3.0->qiskit-terra==0.25.2.1->qiskit[visualization]) (7.34.0)\n",
            "Requirement already satisfied: jupyterlab-widgets>=1.0.0 in /usr/local/lib/python3.10/dist-packages (from ipywidgets>=7.3.0->qiskit-terra==0.25.2.1->qiskit[visualization]) (3.0.9)\n",
            "Requirement already satisfied: contourpy>=1.0.1 in /usr/local/lib/python3.10/dist-packages (from matplotlib>=3.3->qiskit-terra==0.25.2.1->qiskit[visualization]) (1.1.1)\n",
            "Requirement already satisfied: cycler>=0.10 in /usr/local/lib/python3.10/dist-packages (from matplotlib>=3.3->qiskit-terra==0.25.2.1->qiskit[visualization]) (0.12.1)\n",
            "Requirement already satisfied: fonttools>=4.22.0 in /usr/local/lib/python3.10/dist-packages (from matplotlib>=3.3->qiskit-terra==0.25.2.1->qiskit[visualization]) (4.43.1)\n",
            "Requirement already satisfied: kiwisolver>=1.0.1 in /usr/local/lib/python3.10/dist-packages (from matplotlib>=3.3->qiskit-terra==0.25.2.1->qiskit[visualization]) (1.4.5)\n",
            "Requirement already satisfied: packaging>=20.0 in /usr/local/lib/python3.10/dist-packages (from matplotlib>=3.3->qiskit-terra==0.25.2.1->qiskit[visualization]) (23.2)\n",
            "Requirement already satisfied: pyparsing>=2.3.1 in /usr/local/lib/python3.10/dist-packages (from matplotlib>=3.3->qiskit-terra==0.25.2.1->qiskit[visualization]) (3.1.1)\n",
            "Requirement already satisfied: six>=1.5 in /usr/local/lib/python3.10/dist-packages (from python-dateutil>=2.8.0->qiskit-terra==0.25.2.1->qiskit[visualization]) (1.16.0)\n",
            "Requirement already satisfied: pandas>=0.25 in /usr/local/lib/python3.10/dist-packages (from seaborn>=0.9.0->qiskit-terra==0.25.2.1->qiskit[visualization]) (1.5.3)\n",
            "Collecting pbr!=2.1.0,>=2.0.0 (from stevedore>=3.0.0->qiskit-terra==0.25.2.1->qiskit[visualization])\n",
            "  Downloading pbr-5.11.1-py2.py3-none-any.whl (112 kB)\n",
            "\u001b[2K     \u001b[90m━━━━━━━━━━━━━━━━━━━━━━━━━━━━━━━━━━━━━━━━\u001b[0m \u001b[32m112.7/112.7 kB\u001b[0m \u001b[31m16.3 MB/s\u001b[0m eta \u001b[36m0:00:00\u001b[0m\n",
            "\u001b[?25hRequirement already satisfied: mpmath>=0.19 in /usr/local/lib/python3.10/dist-packages (from sympy>=1.3->qiskit-terra==0.25.2.1->qiskit[visualization]) (1.3.0)\n",
            "Requirement already satisfied: jupyter-client in /usr/local/lib/python3.10/dist-packages (from ipykernel>=4.5.1->ipywidgets>=7.3.0->qiskit-terra==0.25.2.1->qiskit[visualization]) (6.1.12)\n",
            "Requirement already satisfied: tornado>=4.2 in /usr/local/lib/python3.10/dist-packages (from ipykernel>=4.5.1->ipywidgets>=7.3.0->qiskit-terra==0.25.2.1->qiskit[visualization]) (6.3.2)\n",
            "Requirement already satisfied: setuptools>=18.5 in /usr/local/lib/python3.10/dist-packages (from ipython>=4.0.0->ipywidgets>=7.3.0->qiskit-terra==0.25.2.1->qiskit[visualization]) (67.7.2)\n",
            "Collecting jedi>=0.16 (from ipython>=4.0.0->ipywidgets>=7.3.0->qiskit-terra==0.25.2.1->qiskit[visualization])\n",
            "  Downloading jedi-0.19.1-py2.py3-none-any.whl (1.6 MB)\n",
            "\u001b[2K     \u001b[90m━━━━━━━━━━━━━━━━━━━━━━━━━━━━━━━━━━━━━━━━\u001b[0m \u001b[32m1.6/1.6 MB\u001b[0m \u001b[31m85.3 MB/s\u001b[0m eta \u001b[36m0:00:00\u001b[0m\n",
            "\u001b[?25hRequirement already satisfied: decorator in /usr/local/lib/python3.10/dist-packages (from ipython>=4.0.0->ipywidgets>=7.3.0->qiskit-terra==0.25.2.1->qiskit[visualization]) (4.4.2)\n",
            "Requirement already satisfied: pickleshare in /usr/local/lib/python3.10/dist-packages (from ipython>=4.0.0->ipywidgets>=7.3.0->qiskit-terra==0.25.2.1->qiskit[visualization]) (0.7.5)\n",
            "Requirement already satisfied: prompt-toolkit!=3.0.0,!=3.0.1,<3.1.0,>=2.0.0 in /usr/local/lib/python3.10/dist-packages (from ipython>=4.0.0->ipywidgets>=7.3.0->qiskit-terra==0.25.2.1->qiskit[visualization]) (3.0.39)\n",
            "Requirement already satisfied: backcall in /usr/local/lib/python3.10/dist-packages (from ipython>=4.0.0->ipywidgets>=7.3.0->qiskit-terra==0.25.2.1->qiskit[visualization]) (0.2.0)\n",
            "Requirement already satisfied: matplotlib-inline in /usr/local/lib/python3.10/dist-packages (from ipython>=4.0.0->ipywidgets>=7.3.0->qiskit-terra==0.25.2.1->qiskit[visualization]) (0.1.6)\n",
            "Requirement already satisfied: pexpect>4.3 in /usr/local/lib/python3.10/dist-packages (from ipython>=4.0.0->ipywidgets>=7.3.0->qiskit-terra==0.25.2.1->qiskit[visualization]) (4.8.0)\n",
            "Requirement already satisfied: pytz>=2020.1 in /usr/local/lib/python3.10/dist-packages (from pandas>=0.25->seaborn>=0.9.0->qiskit-terra==0.25.2.1->qiskit[visualization]) (2023.3.post1)\n",
            "Requirement already satisfied: notebook>=4.4.1 in /usr/local/lib/python3.10/dist-packages (from widgetsnbextension~=3.6.0->ipywidgets>=7.3.0->qiskit-terra==0.25.2.1->qiskit[visualization]) (6.5.5)\n",
            "Requirement already satisfied: parso<0.9.0,>=0.8.3 in /usr/local/lib/python3.10/dist-packages (from jedi>=0.16->ipython>=4.0.0->ipywidgets>=7.3.0->qiskit-terra==0.25.2.1->qiskit[visualization]) (0.8.3)\n",
            "Requirement already satisfied: jinja2 in /usr/local/lib/python3.10/dist-packages (from notebook>=4.4.1->widgetsnbextension~=3.6.0->ipywidgets>=7.3.0->qiskit-terra==0.25.2.1->qiskit[visualization]) (3.1.2)\n",
            "Requirement already satisfied: pyzmq<25,>=17 in /usr/local/lib/python3.10/dist-packages (from notebook>=4.4.1->widgetsnbextension~=3.6.0->ipywidgets>=7.3.0->qiskit-terra==0.25.2.1->qiskit[visualization]) (23.2.1)\n",
            "Requirement already satisfied: argon2-cffi in /usr/local/lib/python3.10/dist-packages (from notebook>=4.4.1->widgetsnbextension~=3.6.0->ipywidgets>=7.3.0->qiskit-terra==0.25.2.1->qiskit[visualization]) (23.1.0)\n",
            "Requirement already satisfied: jupyter-core>=4.6.1 in /usr/local/lib/python3.10/dist-packages (from notebook>=4.4.1->widgetsnbextension~=3.6.0->ipywidgets>=7.3.0->qiskit-terra==0.25.2.1->qiskit[visualization]) (5.4.0)\n",
            "Requirement already satisfied: nbformat in /usr/local/lib/python3.10/dist-packages (from notebook>=4.4.1->widgetsnbextension~=3.6.0->ipywidgets>=7.3.0->qiskit-terra==0.25.2.1->qiskit[visualization]) (5.9.2)\n",
            "Requirement already satisfied: nbconvert>=5 in /usr/local/lib/python3.10/dist-packages (from notebook>=4.4.1->widgetsnbextension~=3.6.0->ipywidgets>=7.3.0->qiskit-terra==0.25.2.1->qiskit[visualization]) (6.5.4)\n",
            "Requirement already satisfied: nest-asyncio>=1.5 in /usr/local/lib/python3.10/dist-packages (from notebook>=4.4.1->widgetsnbextension~=3.6.0->ipywidgets>=7.3.0->qiskit-terra==0.25.2.1->qiskit[visualization]) (1.5.8)\n",
            "Requirement already satisfied: Send2Trash>=1.8.0 in /usr/local/lib/python3.10/dist-packages (from notebook>=4.4.1->widgetsnbextension~=3.6.0->ipywidgets>=7.3.0->qiskit-terra==0.25.2.1->qiskit[visualization]) (1.8.2)\n",
            "Requirement already satisfied: terminado>=0.8.3 in /usr/local/lib/python3.10/dist-packages (from notebook>=4.4.1->widgetsnbextension~=3.6.0->ipywidgets>=7.3.0->qiskit-terra==0.25.2.1->qiskit[visualization]) (0.17.1)\n",
            "Requirement already satisfied: prometheus-client in /usr/local/lib/python3.10/dist-packages (from notebook>=4.4.1->widgetsnbextension~=3.6.0->ipywidgets>=7.3.0->qiskit-terra==0.25.2.1->qiskit[visualization]) (0.17.1)\n",
            "Requirement already satisfied: nbclassic>=0.4.7 in /usr/local/lib/python3.10/dist-packages (from notebook>=4.4.1->widgetsnbextension~=3.6.0->ipywidgets>=7.3.0->qiskit-terra==0.25.2.1->qiskit[visualization]) (1.0.0)\n",
            "Requirement already satisfied: ptyprocess>=0.5 in /usr/local/lib/python3.10/dist-packages (from pexpect>4.3->ipython>=4.0.0->ipywidgets>=7.3.0->qiskit-terra==0.25.2.1->qiskit[visualization]) (0.7.0)\n",
            "Requirement already satisfied: wcwidth in /usr/local/lib/python3.10/dist-packages (from prompt-toolkit!=3.0.0,!=3.0.1,<3.1.0,>=2.0.0->ipython>=4.0.0->ipywidgets>=7.3.0->qiskit-terra==0.25.2.1->qiskit[visualization]) (0.2.8)\n",
            "Requirement already satisfied: platformdirs>=2.5 in /usr/local/lib/python3.10/dist-packages (from jupyter-core>=4.6.1->notebook>=4.4.1->widgetsnbextension~=3.6.0->ipywidgets>=7.3.0->qiskit-terra==0.25.2.1->qiskit[visualization]) (3.11.0)\n",
            "Requirement already satisfied: jupyter-server>=1.8 in /usr/local/lib/python3.10/dist-packages (from nbclassic>=0.4.7->notebook>=4.4.1->widgetsnbextension~=3.6.0->ipywidgets>=7.3.0->qiskit-terra==0.25.2.1->qiskit[visualization]) (1.24.0)\n",
            "Requirement already satisfied: notebook-shim>=0.2.3 in /usr/local/lib/python3.10/dist-packages (from nbclassic>=0.4.7->notebook>=4.4.1->widgetsnbextension~=3.6.0->ipywidgets>=7.3.0->qiskit-terra==0.25.2.1->qiskit[visualization]) (0.2.3)\n",
            "Requirement already satisfied: lxml in /usr/local/lib/python3.10/dist-packages (from nbconvert>=5->notebook>=4.4.1->widgetsnbextension~=3.6.0->ipywidgets>=7.3.0->qiskit-terra==0.25.2.1->qiskit[visualization]) (4.9.3)\n",
            "Requirement already satisfied: beautifulsoup4 in /usr/local/lib/python3.10/dist-packages (from nbconvert>=5->notebook>=4.4.1->widgetsnbextension~=3.6.0->ipywidgets>=7.3.0->qiskit-terra==0.25.2.1->qiskit[visualization]) (4.11.2)\n",
            "Requirement already satisfied: bleach in /usr/local/lib/python3.10/dist-packages (from nbconvert>=5->notebook>=4.4.1->widgetsnbextension~=3.6.0->ipywidgets>=7.3.0->qiskit-terra==0.25.2.1->qiskit[visualization]) (6.1.0)\n",
            "Requirement already satisfied: defusedxml in /usr/local/lib/python3.10/dist-packages (from nbconvert>=5->notebook>=4.4.1->widgetsnbextension~=3.6.0->ipywidgets>=7.3.0->qiskit-terra==0.25.2.1->qiskit[visualization]) (0.7.1)\n",
            "Requirement already satisfied: entrypoints>=0.2.2 in /usr/local/lib/python3.10/dist-packages (from nbconvert>=5->notebook>=4.4.1->widgetsnbextension~=3.6.0->ipywidgets>=7.3.0->qiskit-terra==0.25.2.1->qiskit[visualization]) (0.4)\n",
            "Requirement already satisfied: jupyterlab-pygments in /usr/local/lib/python3.10/dist-packages (from nbconvert>=5->notebook>=4.4.1->widgetsnbextension~=3.6.0->ipywidgets>=7.3.0->qiskit-terra==0.25.2.1->qiskit[visualization]) (0.2.2)\n",
            "Requirement already satisfied: MarkupSafe>=2.0 in /usr/local/lib/python3.10/dist-packages (from nbconvert>=5->notebook>=4.4.1->widgetsnbextension~=3.6.0->ipywidgets>=7.3.0->qiskit-terra==0.25.2.1->qiskit[visualization]) (2.1.3)\n",
            "Requirement already satisfied: mistune<2,>=0.8.1 in /usr/local/lib/python3.10/dist-packages (from nbconvert>=5->notebook>=4.4.1->widgetsnbextension~=3.6.0->ipywidgets>=7.3.0->qiskit-terra==0.25.2.1->qiskit[visualization]) (0.8.4)\n",
            "Requirement already satisfied: nbclient>=0.5.0 in /usr/local/lib/python3.10/dist-packages (from nbconvert>=5->notebook>=4.4.1->widgetsnbextension~=3.6.0->ipywidgets>=7.3.0->qiskit-terra==0.25.2.1->qiskit[visualization]) (0.8.0)\n",
            "Requirement already satisfied: pandocfilters>=1.4.1 in /usr/local/lib/python3.10/dist-packages (from nbconvert>=5->notebook>=4.4.1->widgetsnbextension~=3.6.0->ipywidgets>=7.3.0->qiskit-terra==0.25.2.1->qiskit[visualization]) (1.5.0)\n",
            "Requirement already satisfied: tinycss2 in /usr/local/lib/python3.10/dist-packages (from nbconvert>=5->notebook>=4.4.1->widgetsnbextension~=3.6.0->ipywidgets>=7.3.0->qiskit-terra==0.25.2.1->qiskit[visualization]) (1.2.1)\n",
            "Requirement already satisfied: fastjsonschema in /usr/local/lib/python3.10/dist-packages (from nbformat->notebook>=4.4.1->widgetsnbextension~=3.6.0->ipywidgets>=7.3.0->qiskit-terra==0.25.2.1->qiskit[visualization]) (2.18.1)\n",
            "Requirement already satisfied: jsonschema>=2.6 in /usr/local/lib/python3.10/dist-packages (from nbformat->notebook>=4.4.1->widgetsnbextension~=3.6.0->ipywidgets>=7.3.0->qiskit-terra==0.25.2.1->qiskit[visualization]) (4.19.1)\n",
            "Requirement already satisfied: argon2-cffi-bindings in /usr/local/lib/python3.10/dist-packages (from argon2-cffi->notebook>=4.4.1->widgetsnbextension~=3.6.0->ipywidgets>=7.3.0->qiskit-terra==0.25.2.1->qiskit[visualization]) (21.2.0)\n",
            "Requirement already satisfied: attrs>=22.2.0 in /usr/local/lib/python3.10/dist-packages (from jsonschema>=2.6->nbformat->notebook>=4.4.1->widgetsnbextension~=3.6.0->ipywidgets>=7.3.0->qiskit-terra==0.25.2.1->qiskit[visualization]) (23.1.0)\n",
            "Requirement already satisfied: jsonschema-specifications>=2023.03.6 in /usr/local/lib/python3.10/dist-packages (from jsonschema>=2.6->nbformat->notebook>=4.4.1->widgetsnbextension~=3.6.0->ipywidgets>=7.3.0->qiskit-terra==0.25.2.1->qiskit[visualization]) (2023.7.1)\n",
            "Requirement already satisfied: referencing>=0.28.4 in /usr/local/lib/python3.10/dist-packages (from jsonschema>=2.6->nbformat->notebook>=4.4.1->widgetsnbextension~=3.6.0->ipywidgets>=7.3.0->qiskit-terra==0.25.2.1->qiskit[visualization]) (0.30.2)\n",
            "Requirement already satisfied: rpds-py>=0.7.1 in /usr/local/lib/python3.10/dist-packages (from jsonschema>=2.6->nbformat->notebook>=4.4.1->widgetsnbextension~=3.6.0->ipywidgets>=7.3.0->qiskit-terra==0.25.2.1->qiskit[visualization]) (0.10.6)\n",
            "Requirement already satisfied: anyio<4,>=3.1.0 in /usr/local/lib/python3.10/dist-packages (from jupyter-server>=1.8->nbclassic>=0.4.7->notebook>=4.4.1->widgetsnbextension~=3.6.0->ipywidgets>=7.3.0->qiskit-terra==0.25.2.1->qiskit[visualization]) (3.7.1)\n",
            "Requirement already satisfied: websocket-client in /usr/local/lib/python3.10/dist-packages (from jupyter-server>=1.8->nbclassic>=0.4.7->notebook>=4.4.1->widgetsnbextension~=3.6.0->ipywidgets>=7.3.0->qiskit-terra==0.25.2.1->qiskit[visualization]) (1.6.4)\n",
            "Requirement already satisfied: cffi>=1.0.1 in /usr/local/lib/python3.10/dist-packages (from argon2-cffi-bindings->argon2-cffi->notebook>=4.4.1->widgetsnbextension~=3.6.0->ipywidgets>=7.3.0->qiskit-terra==0.25.2.1->qiskit[visualization]) (1.16.0)\n",
            "Requirement already satisfied: soupsieve>1.2 in /usr/local/lib/python3.10/dist-packages (from beautifulsoup4->nbconvert>=5->notebook>=4.4.1->widgetsnbextension~=3.6.0->ipywidgets>=7.3.0->qiskit-terra==0.25.2.1->qiskit[visualization]) (2.5)\n",
            "Requirement already satisfied: webencodings in /usr/local/lib/python3.10/dist-packages (from bleach->nbconvert>=5->notebook>=4.4.1->widgetsnbextension~=3.6.0->ipywidgets>=7.3.0->qiskit-terra==0.25.2.1->qiskit[visualization]) (0.5.1)\n",
            "Requirement already satisfied: idna>=2.8 in /usr/local/lib/python3.10/dist-packages (from anyio<4,>=3.1.0->jupyter-server>=1.8->nbclassic>=0.4.7->notebook>=4.4.1->widgetsnbextension~=3.6.0->ipywidgets>=7.3.0->qiskit-terra==0.25.2.1->qiskit[visualization]) (3.4)\n",
            "Requirement already satisfied: sniffio>=1.1 in /usr/local/lib/python3.10/dist-packages (from anyio<4,>=3.1.0->jupyter-server>=1.8->nbclassic>=0.4.7->notebook>=4.4.1->widgetsnbextension~=3.6.0->ipywidgets>=7.3.0->qiskit-terra==0.25.2.1->qiskit[visualization]) (1.3.0)\n",
            "Requirement already satisfied: exceptiongroup in /usr/local/lib/python3.10/dist-packages (from anyio<4,>=3.1.0->jupyter-server>=1.8->nbclassic>=0.4.7->notebook>=4.4.1->widgetsnbextension~=3.6.0->ipywidgets>=7.3.0->qiskit-terra==0.25.2.1->qiskit[visualization]) (1.1.3)\n",
            "Requirement already satisfied: pycparser in /usr/local/lib/python3.10/dist-packages (from cffi>=1.0.1->argon2-cffi-bindings->argon2-cffi->notebook>=4.4.1->widgetsnbextension~=3.6.0->ipywidgets>=7.3.0->qiskit-terra==0.25.2.1->qiskit[visualization]) (2.21)\n",
            "Building wheels for collected packages: pylatexenc\n",
            "  Building wheel for pylatexenc (setup.py) ... \u001b[?25l\u001b[?25hdone\n",
            "  Created wheel for pylatexenc: filename=pylatexenc-2.10-py3-none-any.whl size=136818 sha256=33ac68b7ff6da3948f585ca78b6da0cc610ddb2a34080e87ada00669dfb7f0fb\n",
            "  Stored in directory: /root/.cache/pip/wheels/d3/31/8b/e09b0386afd80cfc556c00408c9aeea5c35c4d484a9c762fd5\n",
            "Successfully built pylatexenc\n",
            "Installing collected packages: pylatexenc, ply, symengine, rustworkx, pbr, jedi, dill, stevedore, qiskit-terra, qiskit\n",
            "Successfully installed dill-0.3.7 jedi-0.19.1 pbr-5.11.1 ply-3.11 pylatexenc-2.10 qiskit-0.44.2 qiskit-terra-0.25.2.1 rustworkx-0.13.2 stevedore-5.1.0 symengine-0.9.2\n",
            "Collecting qiskit-aer\n",
            "  Downloading qiskit_aer-0.12.2-cp310-cp310-manylinux_2_17_x86_64.manylinux2014_x86_64.whl (12.8 MB)\n",
            "\u001b[2K     \u001b[90m━━━━━━━━━━━━━━━━━━━━━━━━━━━━━━━━━━━━━━━━\u001b[0m \u001b[32m12.8/12.8 MB\u001b[0m \u001b[31m58.7 MB/s\u001b[0m eta \u001b[36m0:00:00\u001b[0m\n",
            "\u001b[?25hRequirement already satisfied: qiskit-terra>=0.21.0 in /usr/local/lib/python3.10/dist-packages (from qiskit-aer) (0.25.2.1)\n",
            "Requirement already satisfied: numpy>=1.16.3 in /usr/local/lib/python3.10/dist-packages (from qiskit-aer) (1.23.5)\n",
            "Requirement already satisfied: scipy>=1.0 in /usr/local/lib/python3.10/dist-packages (from qiskit-aer) (1.11.3)\n",
            "Requirement already satisfied: rustworkx>=0.13.0 in /usr/local/lib/python3.10/dist-packages (from qiskit-terra>=0.21.0->qiskit-aer) (0.13.2)\n",
            "Requirement already satisfied: ply>=3.10 in /usr/local/lib/python3.10/dist-packages (from qiskit-terra>=0.21.0->qiskit-aer) (3.11)\n",
            "Requirement already satisfied: psutil>=5 in /usr/local/lib/python3.10/dist-packages (from qiskit-terra>=0.21.0->qiskit-aer) (5.9.5)\n",
            "Requirement already satisfied: sympy>=1.3 in /usr/local/lib/python3.10/dist-packages (from qiskit-terra>=0.21.0->qiskit-aer) (1.12)\n",
            "Requirement already satisfied: dill>=0.3 in /usr/local/lib/python3.10/dist-packages (from qiskit-terra>=0.21.0->qiskit-aer) (0.3.7)\n",
            "Requirement already satisfied: python-dateutil>=2.8.0 in /usr/local/lib/python3.10/dist-packages (from qiskit-terra>=0.21.0->qiskit-aer) (2.8.2)\n",
            "Requirement already satisfied: stevedore>=3.0.0 in /usr/local/lib/python3.10/dist-packages (from qiskit-terra>=0.21.0->qiskit-aer) (5.1.0)\n",
            "Requirement already satisfied: symengine<0.10,>=0.9 in /usr/local/lib/python3.10/dist-packages (from qiskit-terra>=0.21.0->qiskit-aer) (0.9.2)\n",
            "Requirement already satisfied: typing-extensions in /usr/local/lib/python3.10/dist-packages (from qiskit-terra>=0.21.0->qiskit-aer) (4.5.0)\n",
            "Requirement already satisfied: six>=1.5 in /usr/local/lib/python3.10/dist-packages (from python-dateutil>=2.8.0->qiskit-terra>=0.21.0->qiskit-aer) (1.16.0)\n",
            "Requirement already satisfied: pbr!=2.1.0,>=2.0.0 in /usr/local/lib/python3.10/dist-packages (from stevedore>=3.0.0->qiskit-terra>=0.21.0->qiskit-aer) (5.11.1)\n",
            "Requirement already satisfied: mpmath>=0.19 in /usr/local/lib/python3.10/dist-packages (from sympy>=1.3->qiskit-terra>=0.21.0->qiskit-aer) (1.3.0)\n",
            "Installing collected packages: qiskit-aer\n",
            "Successfully installed qiskit-aer-0.12.2\n"
          ]
        }
      ],
      "source": [
        "import IPython\n",
        "\n",
        "def in_colab():\n",
        "    try:\n",
        "        import google.colab\n",
        "        return True\n",
        "    except:\n",
        "        return False\n",
        "\n",
        "SolutionToTask1 = lambda: IPython.display.display(IPython.display.Javascript('window.open(\"{url}\");'.format(url='https://colab.research.google.com/drive/1HCcugiGSjLr6zfpuhJ8hQmYq-pufMPOK?usp=sharing#scrollTo=cFBvm44rYSTU' if in_colab() else 'QB25_Q80_Multiple_Control_Constructions_Solutions.ipynb#task1')))\n",
        "SolutionToTask2 = lambda: IPython.display.display(IPython.display.Javascript('window.open(\"{url}\");'.format(url='https://colab.research.google.com/drive/1HCcugiGSjLr6zfpuhJ8hQmYq-pufMPOK?usp=sharing#scrollTo=iSCKmgCxYSTW' if in_colab() else 'QB25_Q80_Multiple_Control_Constructions_Solutions.ipynb#task2')))\n",
        "SolutionToTask3 = lambda: IPython.display.display(IPython.display.Javascript('window.open(\"{url}\");'.format(url='https://colab.research.google.com/drive/1HCcugiGSjLr6zfpuhJ8hQmYq-pufMPOK?usp=sharing#scrollTo=e_tcpFNyYSTW' if in_colab() else 'QB25_Q80_Multiple_Control_Constructions_Solutions.ipynb#task3')))\n",
        "SolutionToTask4 = lambda: IPython.display.display(IPython.display.Javascript('window.open(\"{url}\");'.format(url='https://colab.research.google.com/drive/1HCcugiGSjLr6zfpuhJ8hQmYq-pufMPOK?usp=sharing#scrollTo=13fCrLY8YSTW' if in_colab() else 'QB25_Q80_Multiple_Control_Constructions_Solutions.ipynb#task4')))\n",
        "\n",
        "if in_colab():\n",
        "    !pip install qiskit[visualization]\n",
        "    !pip install qiskit-aer"
      ]
    },
    {
      "cell_type": "markdown",
      "metadata": {
        "id": "-N9Ybx2EY4Fs"
      },
      "source": [
        "##### Remember that when appying CNOT gate, NOT operator is applied to the target qubit if the control qubit is in state $\\ket{1}$:\n",
        "\n",
        "$$ CNOT= \\mymatrix{cc|cc}{\\blackbit{1} & 0 & 0 & 0 \\\\ 0 & \\blackbit{1} & 0 & 0 \\\\ \\hline 0 & 0 & 0 & \\bluebit{1} \\\\  0 & 0 & \\bluebit{1} & 0} . $$\n",
        "\n",
        "How can we obtain the following operator, in which the NOT operator is applied to the target qubit if the control qubit is in state $ \\ket{0} $?\n",
        "\n",
        "$$ C_0NOT = \\mymatrix{cc|cc}{0 & \\bluebit{1} & 0 & 0 \\\\ \\bluebit{1} & 0 & 0 & 0 \\\\ \\hline 0 & 0 & \\blackbit{1} & 0 \\\\  0 & 0 & 0 & \\blackbit{1}} . $$\n",
        "\n",
        "As also mentioned in the notebook [Operators on Multiple Bits](../classical-systems/CS40_Operators_on_Multiple_Bits.ipynb), we can apply a $ NOT $ operator on the control bit before applying $ CNOT $ operator so that the $ NOT $ operator is applied to the target qubit when the control qubit has been in state $ \\ket{0} $. To recover the previous value of the control qubit, we apply the $ NOT $ operator once more after the $ CNOT $ operator. In short:\n",
        "\n",
        "- apply $ NOT $ operator to the control qubit,\n",
        "- apply $ CNOT $ operator, and,\n",
        "- apply $ NOT $ operator to the control qubit.\n",
        "\n",
        "We can implement this idea in Qiskit as follows."
      ]
    },
    {
      "cell_type": "code",
      "execution_count": 2,
      "metadata": {
        "id": "9rLnA7_tY4Ft",
        "outputId": "abe04514-eb08-4962-ef46-6411a30cdaab",
        "colab": {
          "base_uri": "https://localhost:8080/",
          "height": 342
        }
      },
      "outputs": [
        {
          "output_type": "stream",
          "name": "stdout",
          "text": [
            "CNOT(0) = \n",
            "0.0  1.0  0.0  0.0  \n",
            "1.0  0.0  0.0  0.0  \n",
            "0.0  0.0  1.0  0.0  \n",
            "0.0  0.0  0.0  1.0  \n"
          ]
        },
        {
          "output_type": "execute_result",
          "data": {
            "text/plain": [
              "<Figure size 370.906x284.278 with 1 Axes>"
            ],
            "image/png": "[encoded data removed]"
          },
          "metadata": {},
          "execution_count": 2
        }
      ],
      "source": [
        "from qiskit import QuantumRegister, ClassicalRegister, QuantumCircuit, execute, Aer\n",
        "\n",
        "q = QuantumRegister(2, \"q\")\n",
        "c = ClassicalRegister(2, \"c\")\n",
        "\n",
        "qc = QuantumCircuit(q,c)\n",
        "\n",
        "qc.x(q[1])\n",
        "\n",
        "qc.cx(q[1],q[0])\n",
        "\n",
        "# Returning control qubit to the initial state\n",
        "qc.x(q[1])\n",
        "\n",
        "job = execute(qc,Aer.get_backend('unitary_simulator'), shots = 1)\n",
        "U=job.result().get_unitary(qc,decimals=3).data\n",
        "\n",
        "print(\"CNOT(0) = \")\n",
        "for row in U:\n",
        "    s = \"\"\n",
        "    for value in row:\n",
        "        s = s + str(round(value.real,2)) + \"  \"\n",
        "    print(s)\n",
        "\n",
        "qc.draw(output=\"mpl\", reverse_bits=True)"
      ]
    },
    {
      "cell_type": "markdown",
      "metadata": {
        "id": "LAoNj3sYY4Ft"
      },
      "source": [
        "By using this trick, more complex conditional operators can be implemented."
      ]
    },
    {
      "cell_type": "markdown",
      "metadata": {
        "id": "MYk6NrNbY4Ft"
      },
      "source": [
        "<h3>CCNOT</h3>\n",
        "\n",
        "Now we introduce $ CCNOT $ gate: **controlled-controlled-not operator** ([Toffoli gate](https://en.wikipedia.org/wiki/Toffoli_gate)), which is controlled by two qubits. The implementation of $CCNOT$ gate in Qiskit is as follows:\n",
        "\n",
        "    circuit.ccx(control-qubit1,control-qubit2,target-qubit)\n",
        "\n",
        "That is, $ NOT $ operator is applied to the target qubit when both control qubits are in state $\\ket{1}$. Its matrix representation is as follows:\n",
        "\n",
        "$$ CCNOT = \\mymatrix{cc|cc|cc|cc}{\\blackbit{1} & 0 & 0 & 0 & 0 & 0 & 0 & 0 \\\\ 0 & \\blackbit{1} & 0 & 0 & 0 & 0 & 0 & 0 \\\\ \\hline 0 & 0 & \\blackbit{1} & 0 & 0 & 0 & 0 & 0 \\\\ 0 & 0 & 0 & \\blackbit{1} & 0 & 0 & 0 & 0 \\\\ \\hline 0 & 0 & 0 & 0 & \\blackbit{1} & 0 & 0 & 0 \\\\ 0 & 0 & 0 & 0 & 0 & \\blackbit{1} & 0 & 0 \\\\ \\hline 0 & 0 & 0 & 0 & 0 & 0 & 0 & \\bluebit{1} \\\\ 0 & 0 & 0 & 0 & 0 & 0 & \\bluebit{1} & 0}. $$"
      ]
    },
    {
      "cell_type": "markdown",
      "metadata": {
        "id": "YBL1IHvHY4Ft"
      },
      "source": [
        "<h3>Task 1</h3>\n",
        "\n",
        "Implement each of the following operators in Qiskit by using three qubits. Verify your implementation by using \"unitary_simulator\" backend. <br><br>\n",
        "\n",
        "<font size=\"-2\">\n",
        "$$\n",
        "    C_0C_0NOT = \\mymatrix{cc|cc|cc|cc}{0 & \\bluebit{1} & 0 & 0 & 0 & 0 & 0 & 0 \\\\ \\bluebit{1} & 0 & 0 & 0 & 0 & 0 & 0 & 0 \\\\ \\hline 0 & 0 & \\blackbit{1} & 0 & 0 & 0 & 0 & 0 \\\\ 0 & 0 & 0 & \\blackbit{1} & 0 & 0 & 0 & 0 \\\\ \\hline 0 & 0 & 0 & 0 & \\blackbit{1} & 0 & 0 & 0 \\\\ 0 & 0 & 0 & 0 & 0 & \\blackbit{1} & 0 & 0 \\\\ \\hline 0 & 0 & 0 & 0 & 0 & 0 & \\blackbit{1} & 0 \\\\ 0 & 0 & 0 & 0 & 0 & 0 & 0 & \\blackbit{1}}, ~~\n",
        "    C_0C_1NOT = \\mymatrix{cc|cc|cc|cc}{ \\blackbit{1} & 0 & 0 & 0 & 0 & 0 & 0 & 0 \\\\ 0 & \\blackbit{1} & 0 & 0 & 0 & 0 & 0 & 0 \\\\ \\hline 0 & 0 & 0 & \\bluebit{1}  & 0 & 0 & 0 & 0 \\\\ 0 & 0 & \\bluebit{1}  & 0 & 0 & 0 & 0 & 0 \\\\ \\hline 0 & 0 & 0 & 0 & \\blackbit{1} & 0 & 0 & 0 \\\\ 0 & 0 & 0 & 0 & 0 & \\blackbit{1} & 0 & 0 \\\\ \\hline 0 & 0 & 0 & 0 & 0 & 0 & \\blackbit{1} & 0 \\\\ 0 & 0 & 0 & 0 & 0 & 0 & 0 & \\blackbit{1}}, ~~ \\mbox{and} ~~\n",
        "    C_1C_0NOT = \\mymatrix{cc|cc|cc|cc}{\\blackbit{1} & 0 & 0 & 0 & 0 & 0 & 0 & 0 \\\\ 0 & \\blackbit{1} & 0 & 0 & 0 & 0 & 0 & 0 \\\\ \\hline 0 & 0 & \\blackbit{1} & 0 & 0 & 0 & 0 & 0 \\\\ 0 & 0 & 0 & \\blackbit{1} & 0 & 0 & 0 & 0 \\\\ \\hline 0 & 0 & 0 & 0 & 0 & \\bluebit{1} & 0 & 0 \\\\ 0 & 0 & 0 & 0 & \\bluebit{1} & 0 & 0 & 0 \\\\ \\hline 0 & 0 & 0 & 0 & 0 & 0 & \\blackbit{1} & 0 \\\\ 0 & 0 & 0 & 0 & 0 & 0 & 0 & \\blackbit{1}}.   \n",
        "$$\n",
        "    </font>"
      ]
    },
    {
      "cell_type": "code",
      "execution_count": 5,
      "metadata": {
        "id": "0zp0aDC1Y4Ft",
        "outputId": "9317fa65-6ed0-4c19-cc7f-fcb3d94d00f6",
        "colab": {
          "base_uri": "https://localhost:8080/",
          "height": 476
        }
      },
      "outputs": [
        {
          "output_type": "stream",
          "name": "stdout",
          "text": [
            "CCNOT(00) = \n",
            "0.0  1.0  0.0  0.0  0.0  0.0  0.0  0.0  \n",
            "1.0  0.0  0.0  0.0  0.0  0.0  0.0  0.0  \n",
            "0.0  0.0  1.0  0.0  0.0  0.0  0.0  0.0  \n",
            "0.0  0.0  0.0  1.0  0.0  0.0  0.0  0.0  \n",
            "0.0  0.0  0.0  0.0  1.0  0.0  0.0  0.0  \n",
            "0.0  0.0  0.0  0.0  0.0  1.0  0.0  0.0  \n",
            "0.0  0.0  0.0  0.0  0.0  0.0  1.0  0.0  \n",
            "0.0  0.0  0.0  0.0  0.0  0.0  0.0  1.0  \n"
          ]
        },
        {
          "output_type": "execute_result",
          "data": {
            "text/plain": [
              "<Figure size 371.107x367.889 with 1 Axes>"
            ],
            "image/png": "[encoded data removed]"
          },
          "metadata": {},
          "execution_count": 5
        }
      ],
      "source": [
        "#\n",
        "# your solution is here\n",
        "#\n",
        "from qiskit import QuantumRegister, ClassicalRegister, QuantumCircuit, execute, Aer\n",
        "\n",
        "q =  QuantumRegister(3,\"q\")\n",
        "c = ClassicalRegister(3,\"c\")\n",
        "\n",
        "qc = QuantumCircuit(q,c)\n",
        "\n",
        "qc.x(q[2])\n",
        "qc.x(q[1])\n",
        "qc.ccx(q[2],q[1],q[0])\n",
        "qc.x(q[2])\n",
        "qc.x(q[1])\n",
        "\n",
        "job = execute(qc,Aer.get_backend('unitary_simulator'), shots = 1)\n",
        "U=job.result().get_unitary(qc,decimals=3).data\n",
        "\n",
        "print(\"CCNOT(00) = \")\n",
        "for row in U:\n",
        "    s = \"\"\n",
        "    for value in row:\n",
        "        s = s + str(round(value.real,2)) + \"  \"\n",
        "    print(s)\n",
        "\n",
        "\n",
        "\n",
        "qc.draw(output=\"mpl\",reverse_bits=True)"
      ]
    },
    {
      "cell_type": "markdown",
      "metadata": {
        "id": "U2BgX0OyY4Ft"
      },
      "source": [
        "To check out our solution, run the next cell:"
      ]
    },
    {
      "cell_type": "code",
      "execution_count": 4,
      "metadata": {
        "id": "oE-PzxqMY4Ft",
        "outputId": "fde33cd8-edfb-4cbc-fe10-e9bb072166b0",
        "colab": {
          "base_uri": "https://localhost:8080/",
          "height": 17
        }
      },
      "outputs": [
        {
          "output_type": "display_data",
          "data": {
            "text/plain": [
              "<IPython.core.display.Javascript object>"
            ],
            "application/javascript": [
              "window.open(\"https://colab.research.google.com/drive/1HCcugiGSjLr6zfpuhJ8hQmYq-pufMPOK?usp=sharing#scrollTo=cFBvm44rYSTU\");"
            ]
          },
          "metadata": {}
        }
      ],
      "source": [
        "SolutionToTask1()  # show solution for task 1"
      ]
    },
    {
      "cell_type": "markdown",
      "metadata": {
        "id": "C4xIIZQBY4Ft"
      },
      "source": [
        "<h3>More controls</h3>\n",
        "\n",
        "Here we present basic methods on how to implement $ NOT $ gates controlled by more than two qubits by using $CNOT$, $ CCNOT $, and some ancilla (auxiliary) qubits.\n",
        "\n",
        "*(Note that Qiskit has a method called \"mct\" to implement such gates. Another multiple-controlled operator in Qiskit is \"mcrz\".)*"
      ]
    },
    {
      "cell_type": "markdown",
      "metadata": {
        "id": "cDsaZKYsY4Ft"
      },
      "source": [
        "#### Implementation of CCCNOT gate\n",
        "\n",
        "We give the implementation of $ CCCNOT $ gate: $NOT$ operator is applied to target qubit when the control qubits are in state $ \\ket{111} $. This gate requires 4 qubits. We also use an auxiliary qubit.\n",
        "\n",
        "Our qubits are $ q_{aux}, q_3, q_2, q_1, q_0 $, and the auxiliary qubit $q_{aux}$ should be in state $\\ket{0}$ after each use. The implementation of the $ CCCNOT $ gate in Qiskit is given below. The short explanations are given as comments."
      ]
    },
    {
      "cell_type": "code",
      "execution_count": 6,
      "metadata": {
        "id": "Qo7lRvVXY4Fu",
        "outputId": "1b292592-be5d-4cfd-fd9f-401aad2280a6",
        "colab": {
          "base_uri": "https://localhost:8080/",
          "height": 449
        }
      },
      "outputs": [
        {
          "output_type": "execute_result",
          "data": {
            "text/plain": [
              "<Figure size 405.761x535.111 with 1 Axes>"
            ],
            "image/png": "[encoded data removed]"
          },
          "metadata": {},
          "execution_count": 6
        }
      ],
      "source": [
        "from qiskit import QuantumRegister, ClassicalRegister, QuantumCircuit, execute, Aer\n",
        "\n",
        "qaux = QuantumRegister(1,\"qaux\")\n",
        "q = QuantumRegister(4,\"q\")\n",
        "c = ClassicalRegister(4,\"c\")\n",
        "\n",
        "qc = QuantumCircuit(q,qaux,c)\n",
        "\n",
        "# step 1: set qaux to |1> if both q3 and q2 are in |1>\n",
        "qc.ccx(q[3],q[2],qaux[0])\n",
        "\n",
        "# step 2: apply NOT gate to q0 if both qaux and q1 are in |1>\n",
        "qc.ccx(qaux[0],q[1],q[0])\n",
        "\n",
        "# step 3: set qaux to |0> if both q3 and q2 are in |1> by reversing the affect of step 1\n",
        "qc.ccx(q[3],q[2],qaux[0])\n",
        "\n",
        "qc.draw(output=\"mpl\",reverse_bits=True)"
      ]
    },
    {
      "cell_type": "markdown",
      "metadata": {
        "id": "kG4ugWyQY4Fu"
      },
      "source": [
        "Now, we execute this circuit on every possible inputs and verify the correctness of the implementation experimentally."
      ]
    },
    {
      "cell_type": "code",
      "execution_count": 7,
      "metadata": {
        "id": "GKB576b5Y4Fu",
        "outputId": "b71bdecc-7746-4d6b-f91e-00caf9bb6fdf",
        "colab": {
          "base_uri": "https://localhost:8080/"
        }
      },
      "outputs": [
        {
          "output_type": "stream",
          "name": "stdout",
          "text": [
            "input --> output\n",
            "000 0 --> 000 0\n",
            "000 1 --> 000 1\n",
            "001 0 --> 001 0\n",
            "001 1 --> 001 1\n",
            "010 0 --> 010 0\n",
            "010 1 --> 010 1\n",
            "011 0 --> 011 0\n",
            "011 1 --> 011 1\n",
            "100 0 --> 100 0\n",
            "100 1 --> 100 1\n",
            "101 0 --> 101 0\n",
            "101 1 --> 101 1\n",
            "110 0 --> 110 0\n",
            "110 1 --> 110 1\n",
            "111 0 --> 111 1 the output is different than the input\n",
            "111 1 --> 111 0 the output is different than the input\n"
          ]
        }
      ],
      "source": [
        "from qiskit import QuantumRegister, ClassicalRegister, QuantumCircuit, execute, Aer\n",
        "\n",
        "all_inputs=[]\n",
        "for q3 in ['0','1']:\n",
        "    for q2 in ['0','1']:\n",
        "        for q1 in ['0','1']:\n",
        "            for q0 in ['0','1']:\n",
        "                all_inputs.append(q3+q2+q1+q0)\n",
        "# print(all_inputs)\n",
        "\n",
        "print(\"input --> output\")\n",
        "for the_input in all_inputs:\n",
        "    # create the circuit\n",
        "    qaux = QuantumRegister(1,\"qaux\")\n",
        "    q = QuantumRegister(4,\"q\")\n",
        "    c = ClassicalRegister(4,\"c\")\n",
        "    qc = QuantumCircuit(q,qaux,c)\n",
        "    # set the initial value of the circuit w.r.t. the input\n",
        "    if the_input[0] =='1': qc.x(q[3])\n",
        "    if the_input[1] =='1': qc.x(q[2])\n",
        "    if the_input[2] =='1': qc.x(q[1])\n",
        "    if the_input[3] =='1': qc.x(q[0])\n",
        "    # implement the CCNOT gates\n",
        "    qc.ccx(q[3],q[2],qaux[0])\n",
        "    qc.ccx(qaux[0],q[1],q[0])\n",
        "    qc.ccx(q[3],q[2],qaux[0])\n",
        "    # measure the main quantum register\n",
        "    qc.measure(q,c)\n",
        "    # execute the circuit\n",
        "    job = execute(qc,Aer.get_backend('qasm_simulator'),shots=1)\n",
        "    counts = job.result().get_counts(qc)\n",
        "    for key in counts: the_output = key\n",
        "    printed_str = the_input[0:3]+\" \"+the_input[3]+\" --> \"+the_output[0:3]+\" \"+the_output[3]\n",
        "    if (the_input!=the_output): printed_str = printed_str + \" the output is different than the input\"\n",
        "    print(printed_str)"
      ]
    },
    {
      "cell_type": "markdown",
      "metadata": {
        "id": "W-HItpH7Y4Fu"
      },
      "source": [
        "<h3>Task 2</h3>\n",
        "\n",
        "Provide an implementation of the NOT operator controlled by 4 qubits ($CCCCNOT$) in Qiskit. Verify its correctness by executing your solution on all possible inputs. (See the above example)\n",
        "\n",
        "*You may use two auxiliary qubits.*"
      ]
    },
    {
      "cell_type": "code",
      "execution_count": 8,
      "metadata": {
        "id": "QxsNNjwvY4Fu",
        "outputId": "abb6b980-eac8-433f-a65d-9c7460c570d4",
        "colab": {
          "base_uri": "https://localhost:8080/",
          "height": 577
        }
      },
      "outputs": [
        {
          "output_type": "execute_result",
          "data": {
            "text/plain": [
              "<Figure size 591.214x702.333 with 1 Axes>"
            ],
            "image/png": "[encoded data removed]"
          },
          "metadata": {},
          "execution_count": 8
        }
      ],
      "source": [
        "#\n",
        "# your solution is here\n",
        "#\n",
        "from qiskit import QuantumRegister, ClassicalRegister, QuantumCircuit, execute, Aer\n",
        "\n",
        "qaux = QuantumRegister(2,\"qaux\")\n",
        "q = QuantumRegister(5,\"q\")\n",
        "c = ClassicalRegister(5,\"c\")\n",
        "qc = QuantumCircuit(q,qaux,c)\n",
        "\n",
        "qc.ccx(q[4],q[3],qaux[1])\n",
        "qc.ccx(q[2],q[1],qaux[0])\n",
        "qc.ccx(qaux[1],qaux[0],q[0])\n",
        "qc.ccx(q[4],q[3],qaux[1])\n",
        "qc.ccx(q[2],q[1],qaux[0])\n",
        "\n",
        "qc.draw(output=\"mpl\",reverse_bits=True)"
      ]
    },
    {
      "cell_type": "code",
      "source": [
        "from qiskit import QuantumRegister, ClassicalRegister, QuantumCircuit, execute, Aer\n",
        "\n",
        "all_inputs=[]\n",
        "for q4 in ['0','1']:\n",
        "    for q3 in ['0','1']:\n",
        "        for q2 in ['0','1']:\n",
        "            for q1 in ['0','1']:\n",
        "                for q0 in ['0','1']:\n",
        "                    all_inputs.append(q4+q3+q2+q1+q0)\n",
        "#print(all_inputs)\n",
        "\n",
        "print(\"input --> output\")\n",
        "for the_input in all_inputs:\n",
        "    # create the circuit\n",
        "    qaux = QuantumRegister(2,\"qaux\")\n",
        "    q = QuantumRegister(5,\"q\")\n",
        "    c = ClassicalRegister(5,\"c\")\n",
        "    qc = QuantumCircuit(q,qaux,c)\n",
        "    # set the initial value of the circuit w.r.t. the input\n",
        "    if the_input[0] =='1': qc.x(q[4])\n",
        "    if the_input[1] =='1': qc.x(q[3])\n",
        "    if the_input[2] =='1': qc.x(q[2])\n",
        "    if the_input[3] =='1': qc.x(q[1])\n",
        "    if the_input[4] =='1': qc.x(q[0])\n",
        "    # implement the CCNOT gates\n",
        "    qc.ccx(q[4],q[3],qaux[1])\n",
        "    qc.ccx(q[2],q[1],qaux[0])\n",
        "    qc.ccx(qaux[1],qaux[0],q[0])\n",
        "    qc.ccx(q[4],q[3],qaux[1])\n",
        "    qc.ccx(q[2],q[1],qaux[0])\n",
        "    # measure the main quantum register\n",
        "    qc.measure(q,c)\n",
        "    # execute the circuit\n",
        "    job = execute(qc,Aer.get_backend('qasm_simulator'),shots=1)\n",
        "    counts = job.result().get_counts(qc)\n",
        "    for key in counts: the_output = key\n",
        "    printed_str = the_input[0:4]+\" \"+the_input[4]+\" --> \"+the_output[0:4]+\" \"+the_output[4]\n",
        "    if (the_input!=the_output): printed_str = printed_str + \" the output is different than the input\"\n",
        "    print(printed_str)"
      ],
      "metadata": {
        "id": "-GWr3xfnM9Gz",
        "outputId": "3ec4ab85-a6ba-44a0-b35b-48ff3f7a29eb",
        "colab": {
          "base_uri": "https://localhost:8080/"
        }
      },
      "execution_count": 9,
      "outputs": [
        {
          "output_type": "stream",
          "name": "stdout",
          "text": [
            "input --> output\n",
            "0000 0 --> 0000 0\n",
            "0000 1 --> 0000 1\n",
            "0001 0 --> 0001 0\n",
            "0001 1 --> 0001 1\n",
            "0010 0 --> 0010 0\n",
            "0010 1 --> 0010 1\n",
            "0011 0 --> 0011 0\n",
            "0011 1 --> 0011 1\n",
            "0100 0 --> 0100 0\n",
            "0100 1 --> 0100 1\n",
            "0101 0 --> 0101 0\n",
            "0101 1 --> 0101 1\n",
            "0110 0 --> 0110 0\n",
            "0110 1 --> 0110 1\n",
            "0111 0 --> 0111 0\n",
            "0111 1 --> 0111 1\n",
            "1000 0 --> 1000 0\n",
            "1000 1 --> 1000 1\n",
            "1001 0 --> 1001 0\n",
            "1001 1 --> 1001 1\n",
            "1010 0 --> 1010 0\n",
            "1010 1 --> 1010 1\n",
            "1011 0 --> 1011 0\n",
            "1011 1 --> 1011 1\n",
            "1100 0 --> 1100 0\n",
            "1100 1 --> 1100 1\n",
            "1101 0 --> 1101 0\n",
            "1101 1 --> 1101 1\n",
            "1110 0 --> 1110 0\n",
            "1110 1 --> 1110 1\n",
            "1111 0 --> 1111 1 the output is different than the input\n",
            "1111 1 --> 1111 0 the output is different than the input\n"
          ]
        }
      ]
    },
    {
      "cell_type": "markdown",
      "metadata": {
        "id": "S1S8rc1MY4Fu"
      },
      "source": [
        "To check out our solution, run the next cell:"
      ]
    },
    {
      "cell_type": "code",
      "execution_count": null,
      "metadata": {
        "id": "x2SQE42HY4Fu"
      },
      "outputs": [],
      "source": [
        "SolutionToTask2()  # show solution for task 2"
      ]
    },
    {
      "cell_type": "markdown",
      "metadata": {
        "id": "iYsV4BAYY4Fu"
      },
      "source": [
        "<h3>Task 3</h3>\n",
        "\n",
        "Repeat Task 2 for the operator $C_1C_0C_1C_0NOT$: $NOT$ operator is applied to the target qubit if the four control qubits are in state $ \\ket{1010} $."
      ]
    },
    {
      "cell_type": "code",
      "execution_count": 11,
      "metadata": {
        "id": "eI5bDXoGY4Fu",
        "outputId": "c32bab41-95f1-4d03-8eae-9a673f4ecd0c",
        "colab": {
          "base_uri": "https://localhost:8080/",
          "height": 577
        }
      },
      "outputs": [
        {
          "output_type": "execute_result",
          "data": {
            "text/plain": [
              "<Figure size 758.436x702.333 with 1 Axes>"
            ],
            "image/png": "[encoded data removed]"
          },
          "metadata": {},
          "execution_count": 11
        }
      ],
      "source": [
        "#\n",
        "# your solution is here\n",
        "#\n",
        "from qiskit import QuantumRegister, ClassicalRegister, QuantumCircuit, execute, Aer\n",
        "\n",
        "qaux = QuantumRegister(2,\"qaux\")\n",
        "q = QuantumRegister(5,\"q\")\n",
        "c = ClassicalRegister(5,\"c\")\n",
        "qc = QuantumCircuit(q,qaux,c)\n",
        "\n",
        "qc.x(q[3])\n",
        "qc.x(q[1])\n",
        "qc.ccx(q[4],q[3],qaux[1])\n",
        "qc.ccx(q[2],q[1],qaux[0])\n",
        "qc.ccx(qaux[1],qaux[0],q[0])\n",
        "qc.ccx(q[4],q[3],qaux[1])\n",
        "qc.ccx(q[2],q[1],qaux[0])\n",
        "qc.x(q[3])\n",
        "qc.x(q[1])\n",
        "\n",
        "qc.draw(output=\"mpl\",reverse_bits=True)"
      ]
    },
    {
      "cell_type": "code",
      "source": [
        "from qiskit import QuantumRegister, ClassicalRegister, QuantumCircuit, execute, Aer\n",
        "\n",
        "all_inputs=[]\n",
        "for q4 in ['0','1']:\n",
        "    for q3 in ['0','1']:\n",
        "        for q2 in ['0','1']:\n",
        "            for q1 in ['0','1']:\n",
        "                for q0 in ['0','1']:\n",
        "                    all_inputs.append(q4+q3+q2+q1+q0)\n",
        "#print(all_inputs)\n",
        "\n",
        "print(\"input --> output\")\n",
        "for the_input in all_inputs:\n",
        "    # create the circuit\n",
        "    qaux = QuantumRegister(2,\"qaux\")\n",
        "    q = QuantumRegister(5,\"q\")\n",
        "    c = ClassicalRegister(5,\"c\")\n",
        "    qc = QuantumCircuit(q,qaux,c)\n",
        "    # set the initial value of the circuit w.r.t. the input\n",
        "    if the_input[0] =='1': qc.x(q[4])\n",
        "    if the_input[1] =='1': qc.x(q[3])\n",
        "    if the_input[2] =='1': qc.x(q[2])\n",
        "    if the_input[3] =='1': qc.x(q[1])\n",
        "    if the_input[4] =='1': qc.x(q[0])\n",
        "    # implement the CCNOT gates\n",
        "    qc.x(q[3])\n",
        "    qc.x(q[1])\n",
        "    qc.ccx(q[4],q[3],qaux[1])\n",
        "    qc.ccx(q[2],q[1],qaux[0])\n",
        "    qc.ccx(qaux[1],qaux[0],q[0])\n",
        "    qc.ccx(q[4],q[3],qaux[1])\n",
        "    qc.ccx(q[2],q[1],qaux[0])\n",
        "    qc.x(q[3])\n",
        "    qc.x(q[1])\n",
        "    # measure the main quantum register\n",
        "    qc.measure(q,c)\n",
        "    # execute the circuit\n",
        "    job = execute(qc,Aer.get_backend('qasm_simulator'),shots=1)\n",
        "    counts = job.result().get_counts(qc)\n",
        "    for key in counts: the_output = key\n",
        "    printed_str = the_input[0:4]+\" \"+the_input[4]+\" --> \"+the_output[0:4]+\" \"+the_output[4]\n",
        "    if (the_input!=the_output): printed_str = printed_str + \" the output is different than the input\"\n",
        "    print(printed_str)"
      ],
      "metadata": {
        "id": "rBiJMmAxNGjm",
        "outputId": "8b5b11f8-d7dc-4ebe-bfd4-8e516e9444bd",
        "colab": {
          "base_uri": "https://localhost:8080/"
        }
      },
      "execution_count": 12,
      "outputs": [
        {
          "output_type": "stream",
          "name": "stdout",
          "text": [
            "input --> output\n",
            "0000 0 --> 0000 0\n",
            "0000 1 --> 0000 1\n",
            "0001 0 --> 0001 0\n",
            "0001 1 --> 0001 1\n",
            "0010 0 --> 0010 0\n",
            "0010 1 --> 0010 1\n",
            "0011 0 --> 0011 0\n",
            "0011 1 --> 0011 1\n",
            "0100 0 --> 0100 0\n",
            "0100 1 --> 0100 1\n",
            "0101 0 --> 0101 0\n",
            "0101 1 --> 0101 1\n",
            "0110 0 --> 0110 0\n",
            "0110 1 --> 0110 1\n",
            "0111 0 --> 0111 0\n",
            "0111 1 --> 0111 1\n",
            "1000 0 --> 1000 0\n",
            "1000 1 --> 1000 1\n",
            "1001 0 --> 1001 0\n",
            "1001 1 --> 1001 1\n",
            "1010 0 --> 1010 1 the output is different than the input\n",
            "1010 1 --> 1010 0 the output is different than the input\n",
            "1011 0 --> 1011 0\n",
            "1011 1 --> 1011 1\n",
            "1100 0 --> 1100 0\n",
            "1100 1 --> 1100 1\n",
            "1101 0 --> 1101 0\n",
            "1101 1 --> 1101 1\n",
            "1110 0 --> 1110 0\n",
            "1110 1 --> 1110 1\n",
            "1111 0 --> 1111 0\n",
            "1111 1 --> 1111 1\n"
          ]
        }
      ]
    },
    {
      "cell_type": "markdown",
      "metadata": {
        "id": "kWee9PLqY4Fu"
      },
      "source": [
        "To check out our solution, run the next cell:"
      ]
    },
    {
      "cell_type": "code",
      "execution_count": 13,
      "metadata": {
        "id": "h_K2cNw1Y4Fu",
        "outputId": "dcd42c45-8c7b-430f-f13e-b8bc5586c02e",
        "colab": {
          "base_uri": "https://localhost:8080/",
          "height": 17
        }
      },
      "outputs": [
        {
          "output_type": "display_data",
          "data": {
            "text/plain": [
              "<IPython.core.display.Javascript object>"
            ],
            "application/javascript": [
              "window.open(\"https://colab.research.google.com/drive/1HCcugiGSjLr6zfpuhJ8hQmYq-pufMPOK?usp=sharing#scrollTo=e_tcpFNyYSTW\");"
            ]
          },
          "metadata": {}
        }
      ],
      "source": [
        "SolutionToTask3()  # show solution for task 3"
      ]
    },
    {
      "cell_type": "markdown",
      "metadata": {
        "id": "alT4H_s6Y4Fu"
      },
      "source": [
        "<h3>Task 4 (extra)</h3>\n",
        "\n",
        "Write a function taking a binary string \"$ b_1 b_2 b_3 b_4$ that repeats Task 2 for the operator $ C_{b_1}C_{b_2}C_{b_3}C_{b_4}NOT $ gate, where $ b_1,\\ldots,b_4$ are bits and $ NOT $ operator is applied to target qubit if the control qubits are in state $ \\ket{b_1b_2b_3b_4} $."
      ]
    },
    {
      "cell_type": "code",
      "execution_count": 14,
      "metadata": {
        "id": "PnPVzd6IY4Fu"
      },
      "outputs": [],
      "source": [
        "from qiskit import QuantumRegister, ClassicalRegister, QuantumCircuit, execute, Aer\n",
        "\n",
        "all_inputs=[]\n",
        "for q4 in ['0','1']:\n",
        "    for q3 in ['0','1']:\n",
        "        for q2 in ['0','1']:\n",
        "            for q1 in ['0','1']:\n",
        "                for q0 in ['0','1']:\n",
        "                    all_inputs.append(q4+q3+q2+q1+q0)\n",
        "#print(all_inputs)\n",
        "\n",
        "\n",
        "def c4not(control_state='1111'):\n",
        "    #\n",
        "    # drawing the circuit\n",
        "    #\n",
        "    print(\"Control state is\",control_state)\n",
        "    print(\"Drawing the circuit:\")\n",
        "    qaux = QuantumRegister(2,\"qaux\")\n",
        "    q = QuantumRegister(5,\"q\")\n",
        "    c = ClassicalRegister(5,\"c\")\n",
        "    qc = QuantumCircuit(q,qaux,c)\n",
        "\n",
        "    for b in range(4):\n",
        "        if control_state[b] == '0':\n",
        "            qc.x(q[4-b])\n",
        "    qc.ccx(q[4],q[3],qaux[1])\n",
        "    qc.ccx(q[2],q[1],qaux[0])\n",
        "    qc.ccx(qaux[1],qaux[0],q[0])\n",
        "    qc.ccx(q[4],q[3],qaux[1])\n",
        "    qc.ccx(q[2],q[1],qaux[0])\n",
        "    for b in range(4):\n",
        "        if control_state[b] == '0':\n",
        "            qc.x(q[4-b])\n",
        "\n",
        "    display(qc.draw(output=\"mpl\",reverse_bits=True))\n",
        "\n",
        "    #\n",
        "    # executing the operator on all possible inputs\n",
        "    #\n",
        "    print(\"Control state is\",control_state)\n",
        "    print(\"input --> output\")\n",
        "    for the_input in all_inputs:\n",
        "        # create the circuit\n",
        "        qaux = QuantumRegister(2,\"qaux\")\n",
        "        q = QuantumRegister(5,\"q\")\n",
        "        c = ClassicalRegister(5,\"c\")\n",
        "        qc = QuantumCircuit(q,qaux,c)\n",
        "        # set the initial value of the circuit w.r.t. the input\n",
        "        if the_input[0] =='1': qc.x(q[4])\n",
        "        if the_input[1] =='1': qc.x(q[3])\n",
        "        if the_input[2] =='1': qc.x(q[2])\n",
        "        if the_input[3] =='1': qc.x(q[1])\n",
        "        if the_input[4] =='1': qc.x(q[0])\n",
        "        # implement the CCNOT gates\n",
        "        for b in range(4):\n",
        "            if control_state[b] == '0':\n",
        "                qc.x(q[4-b])\n",
        "        qc.ccx(q[4],q[3],qaux[1])\n",
        "        qc.ccx(q[2],q[1],qaux[0])\n",
        "        qc.ccx(qaux[1],qaux[0],q[0])\n",
        "        qc.ccx(q[4],q[3],qaux[1])\n",
        "        qc.ccx(q[2],q[1],qaux[0])\n",
        "        for b in range(4):\n",
        "            if control_state[b] == '0':\n",
        "                qc.x(q[4-b])\n",
        "        # measure the main quantum register\n",
        "        qc.measure(q,c)\n",
        "        # execute the circuit\n",
        "        job = execute(qc,Aer.get_backend('qasm_simulator'),shots=1)\n",
        "        counts = job.result().get_counts(qc)\n",
        "        for key in counts: the_output = key\n",
        "        printed_str = the_input[0:4]+\" \"+the_input[4]+\" --> \"+the_output[0:4]+\" \"+the_output[4]\n",
        "        if (the_input!=the_output): printed_str = printed_str + \" the output is different than the input\"\n",
        "        print(printed_str)"
      ]
    },
    {
      "cell_type": "code",
      "execution_count": 15,
      "metadata": {
        "id": "rfk9nPhdY4Fu",
        "outputId": "f8d4c6a4-2dbb-4218-9e4b-c9a060e792e2",
        "colab": {
          "base_uri": "https://localhost:8080/",
          "height": 1000
        }
      },
      "outputs": [
        {
          "output_type": "stream",
          "name": "stdout",
          "text": [
            "Control state is 0011\n",
            "Drawing the circuit:\n"
          ]
        },
        {
          "output_type": "display_data",
          "data": {
            "text/plain": [
              "<Figure size 758.436x702.333 with 1 Axes>"
            ],
            "image/png": "[encoded data removed]"
          },
          "metadata": {}
        },
        {
          "output_type": "stream",
          "name": "stdout",
          "text": [
            "Control state is 0011\n",
            "input --> output\n",
            "0000 0 --> 0000 0\n",
            "0000 1 --> 0000 1\n",
            "0001 0 --> 0001 0\n",
            "0001 1 --> 0001 1\n",
            "0010 0 --> 0010 0\n",
            "0010 1 --> 0010 1\n",
            "0011 0 --> 0011 1 the output is different than the input\n",
            "0011 1 --> 0011 0 the output is different than the input\n",
            "0100 0 --> 0100 0\n",
            "0100 1 --> 0100 1\n",
            "0101 0 --> 0101 0\n",
            "0101 1 --> 0101 1\n",
            "0110 0 --> 0110 0\n",
            "0110 1 --> 0110 1\n",
            "0111 0 --> 0111 0\n",
            "0111 1 --> 0111 1\n",
            "1000 0 --> 1000 0\n",
            "1000 1 --> 1000 1\n",
            "1001 0 --> 1001 0\n",
            "1001 1 --> 1001 1\n",
            "1010 0 --> 1010 0\n",
            "1010 1 --> 1010 1\n",
            "1011 0 --> 1011 0\n",
            "1011 1 --> 1011 1\n",
            "1100 0 --> 1100 0\n",
            "1100 1 --> 1100 1\n",
            "1101 0 --> 1101 0\n",
            "1101 1 --> 1101 1\n",
            "1110 0 --> 1110 0\n",
            "1110 1 --> 1110 1\n",
            "1111 0 --> 1111 0\n",
            "1111 1 --> 1111 1\n"
          ]
        }
      ],
      "source": [
        "# try different values\n",
        "\n",
        "#c4not()\n",
        "#c4not('1001')\n",
        "c4not('0011')\n",
        "#c4not('1101')\n",
        "#c4not('0000')"
      ]
    },
    {
      "cell_type": "markdown",
      "metadata": {
        "id": "YHh_r8ltY4Fu"
      },
      "source": [
        "To check out our solution, run the next cell:"
      ]
    },
    {
      "cell_type": "code",
      "execution_count": null,
      "metadata": {
        "id": "DBFTwx9ZY4Fu"
      },
      "outputs": [],
      "source": [
        "SolutionToTask4()  # show solution for task 4"
      ]
    }
  ],
  "metadata": {
    "kernelspec": {
      "display_name": "Python 3 (ipykernel)",
      "language": "python",
      "name": "python3"
    },
    "language_info": {
      "codemirror_mode": {
        "name": "ipython",
        "version": 3
      },
      "file_extension": ".py",
      "mimetype": "text/x-python",
      "name": "python",
      "nbconvert_exporter": "python",
      "pygments_lexer": "ipython3",
      "version": "3.11.4"
    },
    "colab": {
      "provenance": [],
      "collapsed_sections": [
        "7oOgTIIwY4Fs"
      ],
      "include_colab_link": true
    }
  },
  "nbformat": 4,
  "nbformat_minor": 0
}