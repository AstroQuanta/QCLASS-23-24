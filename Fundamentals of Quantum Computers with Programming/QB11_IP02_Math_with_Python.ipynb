{
  "cells": [
    {
      "cell_type": "markdown",
      "metadata": {
        "id": "view-in-github",
        "colab_type": "text"
      },
      "source": [
        "<a href=\"https://colab.research.google.com/github/AstroQuanta/QCLASS-23-24/blob/QBook101/Fundamentals%20of%20Quantum%20Computers%20with%20Programming/QB11_IP02_Math_with_Python.ipynb\" target=\"_parent\"><img src=\"https://colab.research.google.com/assets/colab-badge.svg\" alt=\"Open In Colab\"/></a>"
      ]
    },
    {
      "cell_type": "markdown",
      "metadata": {
        "id": "b3yYuF6K7EuF"
      },
      "source": [
        "<a href=\"https://qworld.net\" target=\"_blank\" align=\"left\"><img src=\"https://gitlab.com/qworld/qeducation/qbook101/raw/main/qworld/images/header.jpg\" align=\"left\"></a>\n",
        "$ \\newcommand{\\bra}[1]{\\langle #1|} $\n",
        "$ \\newcommand{\\ket}[1]{|#1\\rangle} $\n",
        "$ \\newcommand{\\braket}[2]{\\langle #1|#2\\rangle} $\n",
        "$ \\newcommand{\\dot}[2]{ #1 \\cdot #2} $\n",
        "$ \\newcommand{\\biginner}[2]{\\left\\langle #1,#2\\right\\rangle} $\n",
        "$ \\newcommand{\\mymatrix}[2]{\\left( \\begin{array}{#1} #2\\end{array} \\right)} $\n",
        "$ \\newcommand{\\myvector}[1]{\\mymatrix{c}{#1}} $\n",
        "$ \\newcommand{\\myrvector}[1]{\\mymatrix{r}{#1}} $\n",
        "$ \\newcommand{\\mypar}[1]{\\left( #1 \\right)} $\n",
        "$ \\newcommand{\\mybigpar}[1]{ \\Big( #1 \\Big)} $\n",
        "$ \\newcommand{\\sqrttwo}{\\frac{1}{\\sqrt{2}}} $\n",
        "$ \\newcommand{\\dsqrttwo}{\\dfrac{1}{\\sqrt{2}}} $\n",
        "$ \\newcommand{\\onehalf}{\\frac{1}{2}} $\n",
        "$ \\newcommand{\\donehalf}{\\dfrac{1}{2}} $\n",
        "$ \\newcommand{\\hadamard}{ \\mymatrix{rr}{ \\sqrttwo & \\sqrttwo \\\\ \\sqrttwo & -\\sqrttwo }} $\n",
        "$ \\newcommand{\\vzero}{\\myvector{1\\\\0}} $\n",
        "$ \\newcommand{\\vone}{\\myvector{0\\\\1}} $\n",
        "$ \\newcommand{\\stateplus}{\\myvector{ \\sqrttwo \\\\  \\sqrttwo } } $\n",
        "$ \\newcommand{\\stateminus}{ \\myrvector{ \\sqrttwo \\\\ -\\sqrttwo } } $\n",
        "$ \\newcommand{\\myarray}[2]{ \\begin{array}{#1}#2\\end{array}} $\n",
        "$ \\newcommand{\\X}{ \\mymatrix{cc}{0 & 1 \\\\ 1 & 0}  } $\n",
        "$ \\newcommand{\\Z}{ \\mymatrix{rr}{1 & 0 \\\\ 0 & -1}  } $\n",
        "$ \\newcommand{\\Htwo}{ \\mymatrix{rrrr}{ \\frac{1}{2} & \\frac{1}{2} & \\frac{1}{2} & \\frac{1}{2} \\\\ \\frac{1}{2} & -\\frac{1}{2} & \\frac{1}{2} & -\\frac{1}{2} \\\\ \\frac{1}{2} & \\frac{1}{2} & -\\frac{1}{2} & -\\frac{1}{2} \\\\ \\frac{1}{2} & -\\frac{1}{2} & -\\frac{1}{2} & \\frac{1}{2} } } $\n",
        "$ \\newcommand{\\CNOT}{ \\mymatrix{cccc}{1 & 0 & 0 & 0 \\\\ 0 & 1 & 0 & 0 \\\\ 0 & 0 & 0 & 1 \\\\ 0 & 0 & 1 & 0} } $\n",
        "$ \\newcommand{\\norm}[1]{ \\left\\lVert #1 \\right\\rVert } $\n",
        "$ \\newcommand{\\pstate}[1]{ \\lceil \\mspace{-1mu} #1 \\mspace{-1.5mu} \\rfloor } $"
      ]
    },
    {
      "cell_type": "markdown",
      "metadata": {
        "id": "3Af3YdCn7EuH"
      },
      "source": [
        "_prepared by Claudia Zendejas-Morales_"
      ]
    },
    {
      "cell_type": "markdown",
      "metadata": {
        "id": "6KzFyaWj7EuH"
      },
      "source": [
        "<font size=\"28px\" style=\"font-size:28px;\" align=\"left\"><b> Math with Python </b></font>\n",
        "<br>\n",
        "<br><br>"
      ]
    },
    {
      "cell_type": "markdown",
      "metadata": {
        "jp-MarkdownHeadingCollapsed": true,
        "id": "WpCnLmBK7EuH"
      },
      "source": [
        "##### <font color=\"#08b806\">Please execute the following cell, it is necessary to distinguish between your local environment and Google Colab's"
      ]
    },
    {
      "cell_type": "code",
      "execution_count": 2,
      "metadata": {
        "id": "LZmrr8zl7EuH"
      },
      "outputs": [],
      "source": [
        "import IPython\n",
        "\n",
        "def in_colab():\n",
        "    try:\n",
        "        import google.colab\n",
        "        return True\n",
        "    except:\n",
        "        return False\n",
        "\n",
        "SolutionToTask1 = lambda: IPython.display.display(IPython.display.Javascript('window.open(\"{url}\");'.format(url='https://colab.research.google.com/drive/1arpai4KkBE7FvHIu3YMu8Tfs2vYVVuSY?usp=sharing#scrollTo=67EZHJs06l70' if in_colab() else 'QB11_IP02_Math_with_Python_Solutions.ipynb#task1')))\n",
        "SolutionToTask2 = lambda: IPython.display.display(IPython.display.Javascript('window.open(\"{url}\");'.format(url='https://colab.research.google.com/drive/1arpai4KkBE7FvHIu3YMu8Tfs2vYVVuSY?usp=sharing#scrollTo=Z6w6pyYw6l71' if in_colab() else 'QB11_IP02_Math_with_Python_Solutions.ipynb#task2')))\n",
        "SolutionToTask3 = lambda: IPython.display.display(IPython.display.Javascript('window.open(\"{url}\");'.format(url='https://colab.research.google.com/drive/1arpai4KkBE7FvHIu3YMu8Tfs2vYVVuSY?usp=sharing#scrollTo=kymYuLB66l71' if in_colab() else 'QB11_IP02_Math_with_Python_Solutions.ipynb#task3')))\n",
        "SolutionToTask4 = lambda: IPython.display.display(IPython.display.Javascript('window.open(\"{url}\");'.format(url='https://colab.research.google.com/drive/1arpai4KkBE7FvHIu3YMu8Tfs2vYVVuSY?usp=sharing#scrollTo=GPOF3B6l6l72' if in_colab() else 'QB11_IP02_Math_with_Python_Solutions.ipynb#task4')))\n",
        "SolutionToTask5 = lambda: IPython.display.display(IPython.display.Javascript('window.open(\"{url}\");'.format(url='https://colab.research.google.com/drive/1arpai4KkBE7FvHIu3YMu8Tfs2vYVVuSY?usp=sharing#scrollTo=7BkqghRC6l73' if in_colab() else 'QB11_IP02_Math_with_Python_Solutions.ipynb#task5')))"
      ]
    },
    {
      "cell_type": "markdown",
      "metadata": {
        "id": "D2zODAEI7EuH"
      },
      "source": [
        "# Trigonometry review"
      ]
    },
    {
      "cell_type": "markdown",
      "metadata": {
        "id": "LHC93scU7EuH"
      },
      "source": [
        "The **trigonometric ratios** are the ratios between the edges of a right triangle:\n",
        "\n",
        "<img src=\"https://gitlab.com/qworld/qeducation/qbook101/raw/main/qbook101/images/ch1/Trigonometry_triangle.svg\" width=\"250\" align=\"center\">\n",
        "<p style=\"font-size:10px;font-style:italic;text-align:right\">\n",
        "<a href=\"https://en.wikipedia.org/wiki/Trigonometry#/media/File:Trigonometry_triangle.svg\" target=\"_blank\">source of image</a> (license CC BY-SA 3.0)</p>"
      ]
    },
    {
      "cell_type": "markdown",
      "metadata": {
        "id": "eavlyK217EuI"
      },
      "source": [
        "Where:\n",
        "$$\\sin \\; A = \\frac{a}{h} ~~~~;~~~~ \\cos \\; A = \\frac{b}{h} ~~~~;~~~~ \\tan \\; A = \\frac{a}{b}$$"
      ]
    },
    {
      "cell_type": "markdown",
      "metadata": {
        "id": "UeHV8k4y7EuI"
      },
      "source": [
        "Example: if the _hypotenuse_ is equal to $12$ and the angle $A$ is equal to $70^\\circ$, then we can find the _opposite_ side using Python as follows:"
      ]
    },
    {
      "cell_type": "code",
      "execution_count": 3,
      "metadata": {
        "id": "r8n9OK2d7EuI"
      },
      "outputs": [],
      "source": [
        "# Python code     <- this a comment, therefore is ignored by Python\n",
        "\n",
        "# first we define two variables\n",
        "hypotenuse = 12\n",
        "A = 70"
      ]
    },
    {
      "cell_type": "markdown",
      "metadata": {
        "id": "2pFAlDpT7EuI"
      },
      "source": [
        "We know that the ratio $\\sin \\; A = a/h$, therefore $a = h \\; \\sin \\; A$.\n",
        "\n",
        "In Python, we can use code written by others through the import of packages; for example, the `math` package includes lots of predefine functions that we can use, for instance, de `sin()` function and the variable `pi`:"
      ]
    },
    {
      "cell_type": "code",
      "execution_count": 4,
      "metadata": {
        "id": "fHjFYilU7EuI",
        "colab": {
          "base_uri": "https://localhost:8080/"
        },
        "outputId": "c8af2e0f-8a40-4732-c0da-e11a4167b5dd"
      },
      "outputs": [
        {
          "output_type": "stream",
          "name": "stdout",
          "text": [
            "11.2763114494309\n"
          ]
        }
      ],
      "source": [
        "# import the 'sin' function and the 'pi' variable contained in the 'math' package\n",
        "from math import sin, pi\n",
        "\n",
        "\n",
        "# convert the angle A to radians because the sin() function expects radians\n",
        "A_radians = A * pi / 180\n",
        "\n",
        "# calculate the opposite side\n",
        "opposite = hypotenuse * sin(A_radians)\n",
        "\n",
        "# use the 'print()' function to show values in variables\n",
        "print(opposite)"
      ]
    },
    {
      "cell_type": "markdown",
      "metadata": {
        "id": "uWgV2cr67EuI"
      },
      "source": [
        "An overview of variables in Python can be found in _'Appendix A - Variables'_."
      ]
    },
    {
      "cell_type": "markdown",
      "metadata": {
        "id": "jfBzYTm47EuI"
      },
      "source": [
        "<h3> Task 1</h3>\n",
        "\n",
        "Define the variables `opposite=8` and `A=25` (degrees) and find:\n",
        "\n",
        "- the `hypotenuse` side\n",
        "- the `adjacent`side\n",
        "- the angle `B`"
      ]
    },
    {
      "cell_type": "code",
      "execution_count": 10,
      "metadata": {
        "id": "IwY1zMxj7EuI",
        "colab": {
          "base_uri": "https://localhost:8080/"
        },
        "outputId": "450c8ab1-de55-48b5-c46d-ea1ee220a8c2"
      },
      "outputs": [
        {
          "output_type": "stream",
          "name": "stdout",
          "text": [
            "The hypotenuse side is 18.929612665219988\n",
            "The adjacent side is 17.15605536407647\n",
            "The angle B is 65\n"
          ]
        }
      ],
      "source": [
        "from math import sin, cos, pi\n",
        "\n",
        "#\n",
        "# your code goes here\n",
        "#\n",
        "\n",
        "opposite = 8\n",
        "A = 25\n",
        "\n",
        "A_radians = A * pi / 180\n",
        "\n",
        "hypotenuse = opposite / sin(A_radians)\n",
        "\n",
        "adjacent = hypotenuse * cos(A_radians)\n",
        "\n",
        "B = 180 - 90 - A    # use the fact that all inside angles of a triangle sum up 180°\n",
        "\n",
        "\n",
        "print(\"The hypotenuse side is\", hypotenuse)\n",
        "print(\"The adjacent side is\", adjacent)\n",
        "print(\"The angle B is\", B)"
      ]
    },
    {
      "cell_type": "markdown",
      "metadata": {
        "id": "oltfCghS7EuI"
      },
      "source": [
        "To check out our solution, run the next cell:"
      ]
    },
    {
      "cell_type": "code",
      "execution_count": 11,
      "metadata": {
        "id": "RhixRxMw7EuI",
        "colab": {
          "base_uri": "https://localhost:8080/",
          "height": 17
        },
        "outputId": "544321c4-1d34-4e37-cf1d-f239e7acb79c"
      },
      "outputs": [
        {
          "output_type": "display_data",
          "data": {
            "text/plain": [
              "<IPython.core.display.Javascript object>"
            ],
            "application/javascript": [
              "window.open(\"https://colab.research.google.com/drive/1arpai4KkBE7FvHIu3YMu8Tfs2vYVVuSY?usp=sharing#scrollTo=67EZHJs06l70\");"
            ]
          },
          "metadata": {}
        }
      ],
      "source": [
        "SolutionToTask1()  # show solution for task 1"
      ]
    },
    {
      "cell_type": "markdown",
      "metadata": {
        "id": "LeIX1OyV7EuI"
      },
      "source": [
        "# Complex Numbers"
      ]
    },
    {
      "cell_type": "markdown",
      "metadata": {
        "id": "uqHsK6f17EuI"
      },
      "source": [
        "A **complex number** $z\\in\\mathbb{C}$ is composed by two real numbers $x,y\\in\\mathbb{R}$:\n",
        "$$z=x+yi$$\n",
        "where the element $i$ is called the imaginary unit and satifies the equation $i^2=-1$; $x$ is known as the real part, and $y$ is known as the imaginary part, which may be interpreted as coordinaes of a point in a two-dimensional space:\n",
        "\n",
        "<img src=\"https://gitlab.com/qworld/qeducation/qbook101/raw/main/qbook101/images/ch1/Complex_number.svg\" width=\"250\" align=\"center\">\n",
        "<p style=\"font-size:10px;font-style:italic;text-align:right\">\n",
        "<a href=\"https://en.wikipedia.org/wiki/Complex_number#/media/File:Complex_number_illustration_modarg.svg\" target=\"_blank\">source of image</a> (license CC BY-SA 3.0)</p>\n",
        "\n",
        "If we want to refer to the real part, we can write: $Re(z)$, and for the imaginary part: $Im(z)$. For example, let's take the complex number $z_1=2+3i$, therefore $Re(z_1)=2$ and $Im(z_1)=3$.\n",
        "\n",
        "\n",
        "In python, we can write complex numbers with the `complex()` function as follows:"
      ]
    },
    {
      "cell_type": "code",
      "execution_count": 12,
      "metadata": {
        "id": "FMnxy87e7EuI",
        "colab": {
          "base_uri": "https://localhost:8080/"
        },
        "outputId": "ac50f909-381b-4730-bbfe-0b8ba462e87c"
      },
      "outputs": [
        {
          "output_type": "stream",
          "name": "stdout",
          "text": [
            "(2+3j)\n",
            "2.0\n",
            "3.0\n"
          ]
        }
      ],
      "source": [
        "z1 = complex(2, 3)\n",
        "\n",
        "print(z1)         # print the complex number 'z1'\n",
        "\n",
        "print(z1.real)    # get the real part\n",
        "\n",
        "print(z1.imag)    # get the imaginary part"
      ]
    },
    {
      "cell_type": "markdown",
      "metadata": {
        "id": "c7seShKV7EuI"
      },
      "source": [
        "In the previous example we write the complex number $z_1=2+3i$ in Python, and we can see that the first argument specifies the real part, and the second the imaginary part. Note that when printing the variable `z1` the imaginary part uses a `j`, this is how Python refers to the complex element $i$."
      ]
    },
    {
      "cell_type": "markdown",
      "metadata": {
        "id": "68b7T4Gc7EuI"
      },
      "source": [
        "An overview of loops in Python can be found in _'Appendix A - Loops'_."
      ]
    },
    {
      "cell_type": "markdown",
      "metadata": {
        "id": "uegF4W-Z7EuI"
      },
      "source": [
        "<h3> Task 2</h3>\n",
        "\n",
        "Using a loop, find the result of $i^2,i^3,\\cdot,i^{10}$, what can you say about the observed behaviour?"
      ]
    },
    {
      "cell_type": "code",
      "execution_count": 13,
      "metadata": {
        "id": "cWsd6nFV7EuI",
        "colab": {
          "base_uri": "https://localhost:8080/"
        },
        "outputId": "6c7550c7-9ec6-4dcd-c1b3-44884c077159"
      },
      "outputs": [
        {
          "output_type": "stream",
          "name": "stdout",
          "text": [
            "i to the power of 2 is (-1+0j)\n",
            "i to the power of 3 is (-0-1j)\n",
            "i to the power of 4 is (1+0j)\n",
            "i to the power of 5 is 1j\n",
            "i to the power of 6 is (-1+0j)\n",
            "i to the power of 7 is (-0-1j)\n",
            "i to the power of 8 is (1+0j)\n",
            "i to the power of 9 is 1j\n",
            "i to the power of 10 is (-1+0j)\n"
          ]
        }
      ],
      "source": [
        "#\n",
        "# your code goes here\n",
        "#\n",
        "z = complex(0, 1)\n",
        "\n",
        "for exponent in range(2, 11):\n",
        "    new_z = z**exponent\n",
        "    print(\"i to the power of\", exponent, \"is\", new_z)"
      ]
    },
    {
      "cell_type": "markdown",
      "metadata": {
        "id": "4IU35SP97EuI"
      },
      "source": [
        "To check out our solution, run the next cell:"
      ]
    },
    {
      "cell_type": "code",
      "execution_count": 14,
      "metadata": {
        "id": "ykKn-HhA7EuI",
        "colab": {
          "base_uri": "https://localhost:8080/",
          "height": 17
        },
        "outputId": "4d0e02ea-3f02-42f6-ef8b-fbe68f8805a3"
      },
      "outputs": [
        {
          "output_type": "display_data",
          "data": {
            "text/plain": [
              "<IPython.core.display.Javascript object>"
            ],
            "application/javascript": [
              "window.open(\"https://colab.research.google.com/drive/1arpai4KkBE7FvHIu3YMu8Tfs2vYVVuSY?usp=sharing#scrollTo=Z6w6pyYw6l71\");"
            ]
          },
          "metadata": {}
        }
      ],
      "source": [
        "SolutionToTask2()  # show solution for task 2"
      ]
    },
    {
      "cell_type": "markdown",
      "metadata": {
        "id": "IYfMSuIj7EuI"
      },
      "source": [
        "The usual operations with complex numbers can be performed:"
      ]
    },
    {
      "cell_type": "code",
      "execution_count": 15,
      "metadata": {
        "id": "EJ2Vh6lw7EuI",
        "colab": {
          "base_uri": "https://localhost:8080/"
        },
        "outputId": "1b3a068a-0ddb-4ba5-a7c9-6fb4f89219ec"
      },
      "outputs": [
        {
          "output_type": "stream",
          "name": "stdout",
          "text": [
            "(24+27j)\n",
            "(11+5j)\n",
            "(60-5j)\n",
            "(-0.08275862068965519-0.4068965517241379j)\n"
          ]
        }
      ],
      "source": [
        "z2 = complex(8, 9)\n",
        "z3 = complex(3, -4)\n",
        "\n",
        "print(3 * z2)\n",
        "print(z2 + z3)\n",
        "print(z2 * z3)\n",
        "print(z3 / z2)"
      ]
    },
    {
      "cell_type": "markdown",
      "source": [
        "The **conjugate of a complex number** ($z$) is another complex number that inverts the sign of the imaginary part of the first, usually denoted with $z^*$ or with $\\bar{z}$.\n",
        "\n",
        "$$z=x+iy~~~~~\\Rightarrow~~~~~z^*=x-iy$$\n",
        "\n",
        "In Python we can obtain the conjugate of a complex number with the `conjugate()` method:"
      ],
      "metadata": {
        "id": "T_JquPAVzssg"
      }
    },
    {
      "cell_type": "code",
      "source": [
        "z4 = complex(2, -5)\n",
        "\n",
        "z5 = z4.conjugate()\n",
        "\n",
        "print(z4)\n",
        "print(z5)"
      ],
      "metadata": {
        "id": "5PngcdRXzumm",
        "colab": {
          "base_uri": "https://localhost:8080/"
        },
        "outputId": "c21724e8-81e4-48f7-a9b8-093d487c4a0d"
      },
      "execution_count": 16,
      "outputs": [
        {
          "output_type": "stream",
          "name": "stdout",
          "text": [
            "(2-5j)\n",
            "(2+5j)\n"
          ]
        }
      ]
    },
    {
      "cell_type": "markdown",
      "metadata": {
        "id": "UTbnMuul7EuI"
      },
      "source": [
        "# Vectors and Matrices"
      ]
    },
    {
      "cell_type": "markdown",
      "metadata": {
        "id": "vzybI5na7EuI"
      },
      "source": [
        "A **vector** is a geometric entity characterized by its magnitude and direction, that is, it is a directed line segment, or arrow, in a [Euclidean space](https://en.wikipedia.org/wiki/Euclidean_space) of $n$ dimensions; Thus, if the vector belongs to a 2-dimensional space, then it can be expressed as a list of 2 numbers, but if the vector belongs to an 8-dimensional space, then the 8 numbers that define it in that space must be specified. We say that a vector over a field $F$ is a list of elements of $F$. The field $F$ can be, for example, the real numbers ($\\mathbb{R}$) or the complex numbers ($\\mathbb{C}$).\n",
        "\n",
        "Throughout QBook101 we will be using column vectors, which are those that are written vertically, for example the 4-dimensional vector $\\vec{a}$:\n",
        "\n",
        "$$\\vec{a}=\\mymatrix{r}{3 \\\\ -1 \\\\ 5 \\\\ -8}$$\n",
        "\n",
        "Which in Python we can write with a list, as follows:"
      ]
    },
    {
      "cell_type": "code",
      "execution_count": 17,
      "metadata": {
        "id": "_est_rym7EuJ",
        "colab": {
          "base_uri": "https://localhost:8080/"
        },
        "outputId": "d0ce8b9e-2baa-4636-f867-54eaf61c67e1"
      },
      "outputs": [
        {
          "output_type": "stream",
          "name": "stdout",
          "text": [
            "a is [3, -1, 5, -8]\n"
          ]
        }
      ],
      "source": [
        "a = [3, -1, 5, -8]\n",
        "print(\"a is\", a)"
      ]
    },
    {
      "cell_type": "markdown",
      "metadata": {
        "id": "6b8ydNgj7EuJ"
      },
      "source": [
        "Note that when printing the list, the vector appears as a row vector, but it is important to remember that for us, the code that defines the variable `a` represents a column vector."
      ]
    },
    {
      "cell_type": "markdown",
      "metadata": {
        "id": "httav6QD7EuJ"
      },
      "source": [
        "An overview of vectors with Python can be found in 'Appendix B - Vectors'.\n",
        "<br><br><br>"
      ]
    },
    {
      "cell_type": "markdown",
      "metadata": {
        "id": "_Zmcb_zh7EuJ"
      },
      "source": [
        "A **matrix** is a rectangular array of numbers, called *entries*. We say that a matrix over a field $F$ is a rectangular array of elements of $F$. The field $F$ can be, for example, the real numbers ($\\mathbb{R}$) or the complex numbers ($\\mathbb{C}$). For example, the matrix $\\mathbf{A}$:\n",
        "\n",
        "$$\\mathbf{A} = \\mymatrix{rrr}{-2 & 3 & 5 \\\\ -3 & -3 & 4 \\\\ 1 & 5 & 6}$$\n",
        "\n",
        "Keep in mind that the matrices are not necessarily square, that is, have the same number of rows and columns; however, in the QBook101 we will use the matrices that are square.\n",
        "\n",
        "A matrix is said to be ($n \\times m$)-dimensional, where $n$ is the number of rows and $m$ is the number of columns that make up the matrix.\n",
        "\n",
        "In Python we can define an matrix as a list of lists, as follows:"
      ]
    },
    {
      "cell_type": "code",
      "execution_count": 18,
      "metadata": {
        "id": "IgH5tmmB7EuJ",
        "colab": {
          "base_uri": "https://localhost:8080/"
        },
        "outputId": "dd1df78c-cee5-4d84-f19f-8b3e64ed35f1"
      },
      "outputs": [
        {
          "output_type": "stream",
          "name": "stdout",
          "text": [
            "[[-2, 3, 5], [-3, -3, 4], [1, 5, 6]]\n"
          ]
        }
      ],
      "source": [
        "# we may break lines when defining our list\n",
        "A = [\n",
        "     [-2 ,  3 , 5],\n",
        "     [-3 , -3 , 4],\n",
        "     [ 1 ,  5 , 6],\n",
        "    ]\n",
        "\n",
        "# let's print matrix A\n",
        "print(A)"
      ]
    },
    {
      "cell_type": "markdown",
      "metadata": {
        "id": "kQxb6HT37EuJ"
      },
      "source": [
        "which when printing, visually makes it difficult to interpret the set of numbers as a matrix, so we can print the matrix using a loop:"
      ]
    },
    {
      "cell_type": "code",
      "execution_count": 19,
      "metadata": {
        "id": "Y4REYTgr7EuJ",
        "colab": {
          "base_uri": "https://localhost:8080/"
        },
        "outputId": "e2d13a71-eddb-4bbf-fcbb-1e8353c1ff67"
      },
      "outputs": [
        {
          "output_type": "stream",
          "name": "stdout",
          "text": [
            "[-2, 3, 5]\n",
            "[-3, -3, 4]\n",
            "[1, 5, 6]\n"
          ]
        }
      ],
      "source": [
        "for i in range(3): # there are 3 rows\n",
        "    print(A[i])"
      ]
    },
    {
      "cell_type": "markdown",
      "metadata": {
        "id": "Tv8AeStl7EuJ"
      },
      "source": [
        "An overview of matrices with Python can be found in _'Appendix B - Matrices'_."
      ]
    },
    {
      "cell_type": "markdown",
      "metadata": {
        "id": "-1C0V20Y7EuJ"
      },
      "source": [
        "# Vector and Matrix Operations"
      ]
    },
    {
      "cell_type": "markdown",
      "metadata": {
        "id": "Q0gosvdq7EuJ"
      },
      "source": [
        "We can perform different operations between the mathematical entities: vectors and matrices. For more details, visit _Appendix B_."
      ]
    },
    {
      "cell_type": "markdown",
      "metadata": {
        "id": "q_9EsdL97EuJ"
      },
      "source": [
        "An overview of loops in Python can be found in _'Appendix A - Loops'_."
      ]
    },
    {
      "cell_type": "markdown",
      "metadata": {
        "id": "XSj_crKc7EuJ"
      },
      "source": [
        "<h3> Task 3</h3>\n",
        "\n",
        "Consider the vector $b$ and the matrices $B$ and $C$ defined as follows:\n",
        "\n",
        "$$\\vec{b}=\\mymatrix{r}{-3i \\\\ 4+i \\\\ -3-5i \\\\ 8-7i} ~~~~~,~~~~~ \\mathbf{B} = \\mymatrix{rrr}{1 & 2 & -3 \\\\ -6 & 5 & 4 \\\\ 9 & 10 & 11 \\\\ 7 & -8 & 3} ~~~~~,~~~~~ \\mathbf{C} = \\mymatrix{rrrr}{3.3 & 2.5 & 8.1 & -1.3 \\\\ 9.2 & -7.5 & 10.6 & 2.8 \\\\ 4.9 & 6.7 & -12.1 & 0.3} $$\n",
        "\n",
        "Find:\n",
        "- $\\mathbf{C}\\cdot \\vec{b}$\n",
        "- $\\mathbf{B}\\cdot \\mathbf{C}$\n",
        "- $\\mathbf{B}\\cdot \\vec{b}$\n",
        "\n",
        "What happens to the dimensions of the result for each case?\n",
        "\n",
        "What happens with the last case?"
      ]
    },
    {
      "cell_type": "code",
      "execution_count": 20,
      "metadata": {
        "id": "7E-QqP1-7EuJ"
      },
      "outputs": [],
      "source": [
        "#\n",
        "# your code goes here\n",
        "#\n",
        "# definition of the entities\n",
        "\n",
        "b = [complex(0, -3), complex(4, 1), complex(-3, -5), complex(8, -7)]\n",
        "\n",
        "B = [\n",
        "     [ 1 ,  2 , -3],\n",
        "     [-6 ,  5 ,  4],\n",
        "     [ 9 , 10 , 11],\n",
        "     [ 7 , -8 ,  3],\n",
        "    ]\n",
        "\n",
        "C = [\n",
        "     [3.3 ,  2.5 ,   8.1 , -1.3],\n",
        "     [9.2 , -7.5 ,  10.6 ,  2.8],\n",
        "     [4.9 ,  6.7 , -12.1 ,  0.3],\n",
        "    ]\n",
        "\n"
      ]
    },
    {
      "cell_type": "code",
      "source": [
        "# C * b\n",
        "\n",
        "result_C_b = []\n",
        "\n",
        "rows_C = len(C)\n",
        "cols_C = len(C[0])\n",
        "rows_b = len(b)\n",
        "for i in range(rows_C):\n",
        "    result_C_b.append(0)   # start with value '0' to be able to perform the sum\n",
        "    for j in range(rows_b):\n",
        "        result_C_b[i] += C[i][j] * b[j]\n",
        "\n",
        "for i in range(len(result_C_b)):\n",
        "    print(result_C_b[i])"
      ],
      "metadata": {
        "colab": {
          "base_uri": "https://localhost:8080/"
        },
        "id": "SKmtNi4RBfaa",
        "outputId": "2cbadf34-8ce7-458b-d1b8-c7ddf9aca9f2"
      },
      "execution_count": 21,
      "outputs": [
        {
          "output_type": "stream",
          "name": "stdout",
          "text": [
            "(-24.699999999999996-38.8j)\n",
            "(-39.4-107.69999999999999j)\n",
            "(65.5+50.4j)\n"
          ]
        }
      ]
    },
    {
      "cell_type": "code",
      "source": [
        "# B * C\n",
        "\n",
        "result_B_C = []\n",
        "\n",
        "rows_B = len(B)\n",
        "cols_B = len(B[0])\n",
        "rows_C = len(C)\n",
        "cols_C = len(C[0])\n",
        "for i in range(rows_B):\n",
        "    result_B_C.append([0] * len(B))   # create a list with zeros of size 'len(B)'\n",
        "    for j in range(cols_C):\n",
        "        for k in range(cols_B):\n",
        "            result_B_C[i][j] += B[i][k] * C[k][j]\n",
        "\n",
        "for i in range(len(result_B_C)):\n",
        "    print(result_B_C[i])"
      ],
      "metadata": {
        "colab": {
          "base_uri": "https://localhost:8080/"
        },
        "id": "3Frb8MtSB8F0",
        "outputId": "73652653-dcd4-4754-a106-0d93cc40a510"
      },
      "execution_count": 22,
      "outputs": [
        {
          "output_type": "stream",
          "name": "stdout",
          "text": [
            "[6.999999999999998, -32.6, 65.6, 3.4]\n",
            "[45.800000000000004, -25.7, -43.99999999999999, 23.0]\n",
            "[175.60000000000002, 21.200000000000003, 45.79999999999998, 19.599999999999998]\n",
            "[-35.8, 97.6, -64.4, -30.6]\n"
          ]
        }
      ]
    },
    {
      "cell_type": "code",
      "source": [
        "# B * b\n",
        "\n",
        "# it is not possible to perform this operation"
      ],
      "metadata": {
        "id": "PykPqLKICEoE"
      },
      "execution_count": 23,
      "outputs": []
    },
    {
      "cell_type": "markdown",
      "metadata": {
        "id": "9b0TgVmh7EuK"
      },
      "source": [
        "To check out our solution, run the next cell:"
      ]
    },
    {
      "cell_type": "code",
      "execution_count": 24,
      "metadata": {
        "id": "db0nw92f7EuK",
        "colab": {
          "base_uri": "https://localhost:8080/",
          "height": 17
        },
        "outputId": "52eeb1b9-f91c-4e94-e78d-8ec1bcb664ed"
      },
      "outputs": [
        {
          "output_type": "display_data",
          "data": {
            "text/plain": [
              "<IPython.core.display.Javascript object>"
            ],
            "application/javascript": [
              "window.open(\"https://colab.research.google.com/drive/1arpai4KkBE7FvHIu3YMu8Tfs2vYVVuSY?usp=sharing#scrollTo=kymYuLB66l71\");"
            ]
          },
          "metadata": {}
        }
      ],
      "source": [
        "SolutionToTask3()  # show solution for task 3"
      ]
    },
    {
      "cell_type": "markdown",
      "metadata": {
        "id": "sGJNryoO7EuK"
      },
      "source": [
        "<h3> Task 4</h3>\n",
        "\n",
        "Perform the same cases of _Task 3_, but using the `numpy` package.\n",
        "\n",
        "If you don't have it installed, do so by running the following command in a new cell:\n",
        "\n",
        "    !pip install numpy\n",
        "\n",
        "You can consult the `numpy` documentation [here](https://numpy.org/doc/)."
      ]
    },
    {
      "cell_type": "code",
      "execution_count": 25,
      "metadata": {
        "id": "n2jTUNy97EuK"
      },
      "outputs": [],
      "source": [
        "import numpy as np\n",
        "\n",
        "#\n",
        "# your code goes here\n",
        "#\n",
        "b = np.array([complex(0, -3), complex(4, 1), complex(-3, -5), complex(8, -7)])\n",
        "\n",
        "B = np.array([\n",
        "     [ 1 ,  2 , -3],\n",
        "     [-6 ,  5 ,  4],\n",
        "     [ 9 , 10 , 11],\n",
        "     [ 7 , -8 ,  3],\n",
        "    ])\n",
        "\n",
        "C = np.array([\n",
        "     [3.3 ,  2.5 ,   8.1 , -1.3],\n",
        "     [9.2 , -7.5 ,  10.6 ,  2.8],\n",
        "     [4.9 ,  6.7 , -12.1 ,  0.3],\n",
        "    ])"
      ]
    },
    {
      "cell_type": "code",
      "source": [
        "# C * b\n",
        "\n",
        "res_C_b = C.dot(b)\n",
        "\n",
        "print(res_C_b)  # enough to print the result, remember that this is a column vector"
      ],
      "metadata": {
        "colab": {
          "base_uri": "https://localhost:8080/"
        },
        "id": "Cu9i5CQACcCm",
        "outputId": "a0b037fd-be16-4300-b3e5-3628da694ad8"
      },
      "execution_count": 26,
      "outputs": [
        {
          "output_type": "stream",
          "name": "stdout",
          "text": [
            "[-24.7 -38.8j -39.4-107.7j  65.5 +50.4j]\n"
          ]
        }
      ]
    },
    {
      "cell_type": "code",
      "source": [
        "# B * C\n",
        "\n",
        "res_B_C = B.dot(C)\n",
        "\n",
        "print(res_B_C)  # print the result"
      ],
      "metadata": {
        "colab": {
          "base_uri": "https://localhost:8080/"
        },
        "id": "vrudh-mUCf3E",
        "outputId": "71888b11-25ba-4265-8910-dd3b01272c34"
      },
      "execution_count": 27,
      "outputs": [
        {
          "output_type": "stream",
          "name": "stdout",
          "text": [
            "[[  7.  -32.6  65.6   3.4]\n",
            " [ 45.8 -25.7 -44.   23. ]\n",
            " [175.6  21.2  45.8  19.6]\n",
            " [-35.8  97.6 -64.4 -30.6]]\n"
          ]
        }
      ]
    },
    {
      "cell_type": "code",
      "source": [
        "# B * b\n",
        "\n",
        "# it is not possible to perform this operation\n",
        "\n",
        "# next line will give an error regarding the dimensions (or shape)\n",
        "# (uncomment to try it)\n",
        "res_B_b = B.dot(b)"
      ],
      "metadata": {
        "colab": {
          "base_uri": "https://localhost:8080/",
          "height": 210
        },
        "id": "HEHuoTxOCit2",
        "outputId": "eb5ebb1a-829f-493c-9381-ef64013252e2"
      },
      "execution_count": 28,
      "outputs": [
        {
          "output_type": "error",
          "ename": "ValueError",
          "evalue": "ignored",
          "traceback": [
            "\u001b[0;31m---------------------------------------------------------------------------\u001b[0m",
            "\u001b[0;31mValueError\u001b[0m                                Traceback (most recent call last)",
            "\u001b[0;32m<ipython-input-28-31b067b4df75>\u001b[0m in \u001b[0;36m<cell line: 7>\u001b[0;34m()\u001b[0m\n\u001b[1;32m      5\u001b[0m \u001b[0;31m# next line will give an error regarding the dimensions (or shape)\u001b[0m\u001b[0;34m\u001b[0m\u001b[0;34m\u001b[0m\u001b[0m\n\u001b[1;32m      6\u001b[0m \u001b[0;31m# (uncomment to try it)\u001b[0m\u001b[0;34m\u001b[0m\u001b[0;34m\u001b[0m\u001b[0m\n\u001b[0;32m----> 7\u001b[0;31m \u001b[0mres_B_b\u001b[0m \u001b[0;34m=\u001b[0m \u001b[0mB\u001b[0m\u001b[0;34m.\u001b[0m\u001b[0mdot\u001b[0m\u001b[0;34m(\u001b[0m\u001b[0mb\u001b[0m\u001b[0;34m)\u001b[0m\u001b[0;34m\u001b[0m\u001b[0;34m\u001b[0m\u001b[0m\n\u001b[0m",
            "\u001b[0;31mValueError\u001b[0m: shapes (4,3) and (4,) not aligned: 3 (dim 1) != 4 (dim 0)"
          ]
        }
      ]
    },
    {
      "cell_type": "markdown",
      "metadata": {
        "id": "jtTv8jRv7EuK"
      },
      "source": [
        "To check out our solution, run the next cell:"
      ]
    },
    {
      "cell_type": "code",
      "execution_count": 29,
      "metadata": {
        "id": "ZxoBaKt37EuK",
        "colab": {
          "base_uri": "https://localhost:8080/",
          "height": 17
        },
        "outputId": "a0466acd-dfbc-4057-b983-2b5b4c76294d"
      },
      "outputs": [
        {
          "output_type": "display_data",
          "data": {
            "text/plain": [
              "<IPython.core.display.Javascript object>"
            ],
            "application/javascript": [
              "window.open(\"https://colab.research.google.com/drive/1arpai4KkBE7FvHIu3YMu8Tfs2vYVVuSY?usp=sharing#scrollTo=GPOF3B6l6l72\");"
            ]
          },
          "metadata": {}
        }
      ],
      "source": [
        "SolutionToTask4()  # show solution for task 4"
      ]
    },
    {
      "cell_type": "markdown",
      "metadata": {
        "id": "vQoQWPj-7EuK"
      },
      "source": [
        "# Orthogonal Vectors"
      ]
    },
    {
      "cell_type": "markdown",
      "metadata": {
        "id": "8geakUYP7EuK"
      },
      "source": [
        "Two vectors are **orthogonal** if they are perpendicular to each other, i.e., the **dot product** of the two vectors is zero. It is also called **scalar product** because the result is a scalar value (also known as **inner product**).\n",
        "\n",
        "The dot product can be found by multiplying the two vectors element-wise and taking the sum of those results. Let the vectors be $\\vec{x}$ and $\\vec{y}$:\n",
        "\n",
        "$$\\vec{x}=\\mymatrix{c}{x_1 \\\\ x_2 \\\\ x_3 \\\\ \\vdots \\\\ x_n} ~~~~~~,~~~~~~ \\vec{y}=\\mymatrix{c}{y_1 \\\\ y_2 \\\\ y_3 \\\\ \\vdots \\\\ y_n}$$\n",
        "\n",
        "Then their dot product is given by:\n",
        "\n",
        "$$\\vec{x}\\cdot \\vec{y}=\\sum_{i=1}^nx_iy_i=x_1y_1+x_2y_2+x_3y_3+\\cdots+x_ny_n$$\n",
        "\n",
        "If the vectors are normalized (their length equals 1) and are orthogonal to each other, then they are called **orthonormal**.\n",
        "\n",
        "To determine the length of a vector, we can calculate its **norm**. The norm of the vector $x$ (specifically the [$L^2$ norm](https://en.wikipedia.org/wiki/Norm_(mathematics)#Euclidean_norm)) can be calculated as follows:\n",
        "\n",
        "$$||\\vec{x}||=||\\vec{x}||_2=|\\vec{x}|=\\sqrt{x_1x_1+x_2x-2+x_3x_3+\\cdots+x_nx_n}=\\sqrt{\\vec{x}\\cdot \\vec{x}}$$\n",
        "\n",
        "To normalize the vector $\\vec{x}$, we do:\n",
        "\n",
        "$$\\vec{x}_{normalized}=\\frac{\\vec{x}}{|\\vec{x}|}$$"
      ]
    },
    {
      "cell_type": "markdown",
      "metadata": {
        "id": "UovPz3oO7EuK"
      },
      "source": [
        "An overview of conditionals in Python can be found in _'Appendix B - Conditionals'_."
      ]
    },
    {
      "cell_type": "markdown",
      "metadata": {
        "id": "043vUikv7EuK"
      },
      "source": [
        "<h3> Task 5</h3>\n",
        "\n",
        "Given the vectors $\\vec{u}$ and $\\vec{v}$:\n",
        "\n",
        "$$\\vec{u}=\\mymatrix{r}{3 \\\\ 4 \\\\ 0} ~~~~~~,~~~~~~ \\vec{v}=\\mymatrix{r}{-4 \\\\ 3 \\\\ 2}$$\n",
        "\n",
        "\n",
        "- Write all the code yourself to:\n",
        "  -  normalize the vector $\\vec{u}$\n",
        "  -  normalize the vector $\\vec{v}$\n",
        "  -  determine if they are orthogonal to each other\n",
        "- Using the `numpy` package:\n",
        "  -  normalize the vector $\\vec{u}$\n",
        "  -  normalize the vector $\\vec{v}$\n",
        "  -  determine if they are orthogonal to each other"
      ]
    },
    {
      "cell_type": "code",
      "execution_count": 31,
      "metadata": {
        "id": "eyUGc1X27EuK",
        "colab": {
          "base_uri": "https://localhost:8080/"
        },
        "outputId": "a5c389c1-d510-4f8d-e16b-7775e0ac7189"
      },
      "outputs": [
        {
          "output_type": "stream",
          "name": "stdout",
          "text": [
            "vector u normalized: [0.6, 0.8, 0.0]\n",
            "vector v normalized: [-0.7427813527082074, 0.5570860145311556, 0.3713906763541037]\n",
            "dot product = 0\n",
            "vectors u and v are orthogonal\n"
          ]
        }
      ],
      "source": [
        "from math import sqrt\n",
        "\n",
        "#\n",
        "# your code goes here\n",
        "#\n",
        "#define the vectors\n",
        "u = [ 3, 4, 0]\n",
        "v = [-4, 3, 2]\n",
        "\n",
        "# calculate u normalized\n",
        "u_dot_product = 0\n",
        "for i in range(len(u)):\n",
        "    u_dot_product += u[i]*u[i]\n",
        "\n",
        "u_norm =sqrt(u_dot_product)\n",
        "\n",
        "u_normalized = []\n",
        "for i in range(len(u)):\n",
        "    u_normalized.append(u[i] / u_norm)\n",
        "\n",
        "print(\"vector u normalized:\", u_normalized)\n",
        "\n",
        "\n",
        "\n",
        "# calculate v normalized\n",
        "v_dot_product = 0\n",
        "for i in range(len(v)):\n",
        "    v_dot_product += v[i]*v[i]\n",
        "\n",
        "v_norm =sqrt(v_dot_product)\n",
        "\n",
        "v_normalized = []\n",
        "for i in range(len(v)):\n",
        "    v_normalized.append(v[i] / v_norm)\n",
        "\n",
        "print(\"vector v normalized:\", v_normalized)\n",
        "\n",
        "\n",
        "\n",
        "# dot product u.v\n",
        "dot_product = 0\n",
        "for i in range(len(u)):\n",
        "    dot_product += u[i] * v[i]\n",
        "\n",
        "print(\"dot product =\", dot_product)\n",
        "if dot_product == 0:\n",
        "    print(\"vectors u and v are orthogonal\")\n",
        "else:\n",
        "    print(\"vectors u and v are NOT orthogonal\")"
      ]
    },
    {
      "cell_type": "code",
      "source": [
        "import numpy as np\n",
        "\n",
        "#define the vectors\n",
        "u = np.array([ 3, 4, 0])\n",
        "v = np.array([-4, 3, 2])\n",
        "\n",
        "\n",
        "u_normalized = u / np.linalg.norm(u)\n",
        "print(\"vector u normalized:\", u_normalized)\n",
        "\n",
        "v_normalized = v / np.linalg.norm(v)\n",
        "print(\"vector v normalized:\", v_normalized)\n",
        "\n",
        "\n",
        "dot_product = u.dot(v)\n",
        "print(\"dot product =\", dot_product)\n",
        "if dot_product == 0:\n",
        "    print(\"vectors u and v are orthogonal\")\n",
        "else:\n",
        "    print(\"vectors u and v are NOT orthogonal\")"
      ],
      "metadata": {
        "colab": {
          "base_uri": "https://localhost:8080/"
        },
        "id": "nhdpNfurEvW2",
        "outputId": "bd829062-aa98-44e1-c73d-0c09717009d7"
      },
      "execution_count": 32,
      "outputs": [
        {
          "output_type": "stream",
          "name": "stdout",
          "text": [
            "vector u normalized: [0.6 0.8 0. ]\n",
            "vector v normalized: [-0.74278135  0.55708601  0.37139068]\n",
            "dot product = 0\n",
            "vectors u and v are orthogonal\n"
          ]
        }
      ]
    },
    {
      "cell_type": "markdown",
      "metadata": {
        "id": "4ji5VxO17EuK"
      },
      "source": [
        "To check out our solution, run the next cell:"
      ]
    },
    {
      "cell_type": "code",
      "execution_count": 33,
      "metadata": {
        "id": "LYU9jBP17EuK",
        "colab": {
          "base_uri": "https://localhost:8080/",
          "height": 17
        },
        "outputId": "cb8b212d-2994-47ea-ceb8-488ca3338cc7"
      },
      "outputs": [
        {
          "output_type": "display_data",
          "data": {
            "text/plain": [
              "<IPython.core.display.Javascript object>"
            ],
            "application/javascript": [
              "window.open(\"https://colab.research.google.com/drive/1arpai4KkBE7FvHIu3YMu8Tfs2vYVVuSY?usp=sharing#scrollTo=7BkqghRC6l73\");"
            ]
          },
          "metadata": {}
        }
      ],
      "source": [
        "SolutionToTask5()  # show solution for task 5"
      ]
    },
    {
      "cell_type": "markdown",
      "metadata": {
        "id": "_6mNdDc87EuK"
      },
      "source": [
        "# Vector Space"
      ]
    },
    {
      "cell_type": "markdown",
      "metadata": {
        "id": "TRxb1tSd7EuK"
      },
      "source": [
        "In linear algebra, a **vector space** (also called a linear space) is an algebraic structure created from a non-empty set of elements, often called **vectors**, an internal operation (called addition, defined for the elements of the set) and an external operation (called product by a scalar, defined between said set and another set) that satisfies certain [fundamental properties](https://en.wikipedia.org/wiki/Vector_space#Definition_and_basic_properties).\n",
        "\n",
        "Vector spaces are characterized by their [dimension](https://en.wikipedia.org/wiki/Dimension_(vector_space)), which, roughly speaking, specifies the number of independent directions in the space. This means that, for two vector spaces over a given field and with the same dimension, the properties that depend only on the vector-space structure are exactly the same (technically the vector spaces are [isomorphic](https://en.wikipedia.org/wiki/Isomorphism)). A vector space is finite-dimensional if its dimension is a natural number; otherwise, it is infinite-dimensional."
      ]
    }
  ],
  "metadata": {
    "kernelspec": {
      "display_name": "Python 3 (ipykernel)",
      "language": "python",
      "name": "python3"
    },
    "language_info": {
      "codemirror_mode": {
        "name": "ipython",
        "version": 3
      },
      "file_extension": ".py",
      "mimetype": "text/x-python",
      "name": "python",
      "nbconvert_exporter": "python",
      "pygments_lexer": "ipython3",
      "version": "3.11.4"
    },
    "colab": {
      "provenance": [],
      "collapsed_sections": [
        "WpCnLmBK7EuH"
      ],
      "include_colab_link": true
    }
  },
  "nbformat": 4,
  "nbformat_minor": 0
}